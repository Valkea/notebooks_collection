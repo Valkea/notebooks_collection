{
 "cells": [
  {
   "cell_type": "markdown",
   "metadata": {},
   "source": [
    "## Load dataset"
   ]
  },
  {
   "cell_type": "code",
   "execution_count": 1,
   "metadata": {},
   "outputs": [],
   "source": [
    "from sklearn.datasets import fetch_openml\n",
    "import numpy as np"
   ]
  },
  {
   "cell_type": "code",
   "execution_count": 2,
   "metadata": {},
   "outputs": [],
   "source": [
    "# Load data from https://www.openml.org/d/554\n",
    "X, y = fetch_openml('mnist_784', version=1, return_X_y=True, as_frame=False)"
   ]
  },
  {
   "cell_type": "code",
   "execution_count": 3,
   "metadata": {},
   "outputs": [],
   "source": [
    "partial_size = 50"
   ]
  },
  {
   "cell_type": "code",
   "execution_count": 4,
   "metadata": {},
   "outputs": [
    {
     "data": {
      "text/plain": [
       "(1400, 784)"
      ]
     },
     "execution_count": 4,
     "metadata": {},
     "output_type": "execute_result"
    }
   ],
   "source": [
    "X_partial = X[::partial_size]\n",
    "X_partial.shape"
   ]
  },
  {
   "cell_type": "code",
   "execution_count": 5,
   "metadata": {},
   "outputs": [
    {
     "data": {
      "text/plain": [
       "(1400,)"
      ]
     },
     "execution_count": 5,
     "metadata": {},
     "output_type": "execute_result"
    }
   ],
   "source": [
    "y_partial = np.array([int(y) for y in y[::partial_size]])\n",
    "y_partial.shape"
   ]
  },
  {
   "cell_type": "markdown",
   "metadata": {},
   "source": [
    "Chaque observation de ce jeu de données est une image de 28 pixels par 28 pixels, dont l’étiquette y[i] est le chiffre qu’elle représente, et les 784 features le niveau de gris (entre 0 et 255) du pixel correspondant (car 28 x 28 = 784)"
   ]
  },
  {
   "cell_type": "markdown",
   "metadata": {},
   "source": [
    "## Display demo image"
   ]
  },
  {
   "cell_type": "code",
   "execution_count": 6,
   "metadata": {},
   "outputs": [],
   "source": [
    "import matplotlib.pyplot as plt"
   ]
  },
  {
   "cell_type": "code",
   "execution_count": 7,
   "metadata": {},
   "outputs": [
    {
     "data": {
      "image/png": "[encoded data removed]",
      "text/plain": [
       "<Figure size 1080x720 with 3 Axes>"
      ]
     },
     "metadata": {},
     "output_type": "display_data"
    }
   ],
   "source": [
    "fig = plt.figure(figsize=(15,10))\n",
    "\n",
    "for i,sample_idx in enumerate([42, 100, 238]):\n",
    "    ax = fig.add_subplot(1,3,i+1)\n",
    "    sample_image = np.reshape(X_partial[sample_idx, :], (28, 28))\n",
    "    plt.imshow(sample_image, cmap='binary')\n",
    "    plt.xticks([]), plt.yticks([])\n",
    "    plt.title(f\"Value: {y_partial[sample_idx]}\")"
   ]
  },
  {
   "cell_type": "markdown",
   "metadata": {},
   "source": [
    "## Feature Scaling"
   ]
  },
  {
   "cell_type": "code",
   "execution_count": 8,
   "metadata": {},
   "outputs": [],
   "source": [
    "from sklearn import preprocessing"
   ]
  },
  {
   "cell_type": "code",
   "execution_count": 9,
   "metadata": {},
   "outputs": [],
   "source": [
    "std_scale = preprocessing.StandardScaler().fit(X_partial)\n",
    "X_scaled = std_scale.transform(X_partial)"
   ]
  },
  {
   "cell_type": "markdown",
   "metadata": {},
   "source": [
    "## Dimentionality Reduction (t-SNE)"
   ]
  },
  {
   "cell_type": "code",
   "execution_count": 10,
   "metadata": {},
   "outputs": [],
   "source": [
    "from sklearn import manifold\n",
    "#tsne = manifold.TSNE(n_components=2, init='pca') #, random_state=0)\n",
    "tsne = manifold.TSNE(n_components=2, init='pca', random_state=42, verbose=0, perplexity=40, n_iter=300)"
   ]
  },
  {
   "cell_type": "code",
   "execution_count": 11,
   "metadata": {},
   "outputs": [],
   "source": [
    "X_projected_tnse = tsne.fit_transform(X_scaled)"
   ]
  },
  {
   "cell_type": "markdown",
   "metadata": {},
   "source": [
    "## 1/ Clustering"
   ]
  },
  {
   "cell_type": "markdown",
   "metadata": {},
   "source": [
    "effectuer un partitionnement de X en 10 clusters, avec l’algorithme de clustering de votre choix"
   ]
  },
  {
   "cell_type": "code",
   "execution_count": 12,
   "metadata": {},
   "outputs": [],
   "source": [
    "from sklearn import cluster"
   ]
  },
  {
   "cell_type": "code",
   "execution_count": 13,
   "metadata": {},
   "outputs": [],
   "source": [
    "km = cluster.KMeans(n_clusters=10)\n",
    "km.fit(X_projected_tnse)\n",
    "clusters = km.labels_"
   ]
  },
  {
   "cell_type": "code",
   "execution_count": 14,
   "metadata": {},
   "outputs": [
    {
     "data": {
      "text/plain": [
       "array([2, 8, 5, ..., 4, 2, 6], dtype=int32)"
      ]
     },
     "execution_count": 14,
     "metadata": {},
     "output_type": "execute_result"
    }
   ],
   "source": [
    "clusters"
   ]
  },
  {
   "cell_type": "code",
   "execution_count": 15,
   "metadata": {},
   "outputs": [
    {
     "data": {
      "text/plain": [
       "array([[  1.7829189 , -13.772476  ],\n",
       "       [ -2.2770743 ,  10.8059    ],\n",
       "       [  0.2638346 ,   0.79991364],\n",
       "       [-14.702988  ,  -1.7528523 ],\n",
       "       [ 11.041828  ,   1.1628398 ],\n",
       "       [  4.778714  ,  -8.36662   ],\n",
       "       [ -7.2470293 ,   0.7595506 ],\n",
       "       [ -5.3823056 ,  -8.429178  ],\n",
       "       [  3.9719505 ,   7.742159  ],\n",
       "       [ -9.731157  ,   6.813216  ]], dtype=float32)"
      ]
     },
     "execution_count": 15,
     "metadata": {},
     "output_type": "execute_result"
    }
   ],
   "source": [
    "km.cluster_centers_"
   ]
  },
  {
   "cell_type": "markdown",
   "metadata": {},
   "source": [
    "## 2/ Visualize"
   ]
  },
  {
   "cell_type": "markdown",
   "metadata": {},
   "source": [
    "visualiser le résultat de ce clustering en deux dimensions"
   ]
  },
  {
   "cell_type": "markdown",
   "metadata": {},
   "source": [
    "#### Plotting"
   ]
  },
  {
   "cell_type": "code",
   "execution_count": 45,
   "metadata": {},
   "outputs": [
    {
     "ename": "TypeError",
     "evalue": "only integer scalar arrays can be converted to a scalar index",
     "output_type": "error",
     "traceback": [
      "\u001b[0;31m---------------------------------------------------------------------------\u001b[0m",
      "\u001b[0;31mTypeError\u001b[0m                                 Traceback (most recent call last)",
      "\u001b[0;32m<ipython-input-45-36b56c8624de>\u001b[0m in \u001b[0;36m<module>\u001b[0;34m\u001b[0m\n\u001b[1;32m     18\u001b[0m \u001b[0mn\u001b[0m \u001b[0;34m=\u001b[0m \u001b[0mkm\u001b[0m\u001b[0;34m.\u001b[0m\u001b[0mn_clusters\u001b[0m\u001b[0;34m\u001b[0m\u001b[0;34m\u001b[0m\u001b[0m\n\u001b[1;32m     19\u001b[0m \u001b[0morig_cmap\u001b[0m \u001b[0;34m=\u001b[0m \u001b[0mplt\u001b[0m\u001b[0;34m.\u001b[0m\u001b[0mcm\u001b[0m\u001b[0;34m.\u001b[0m\u001b[0mRdBu\u001b[0m\u001b[0;34m\u001b[0m\u001b[0;34m\u001b[0m\u001b[0m\n\u001b[0;32m---> 20\u001b[0;31m \u001b[0mcolors\u001b[0m \u001b[0;34m=\u001b[0m \u001b[0mnp\u001b[0m\u001b[0;34m.\u001b[0m\u001b[0mconcatenate\u001b[0m\u001b[0;34m(\u001b[0m\u001b[0morig_cmap\u001b[0m\u001b[0;34m(\u001b[0m\u001b[0mnp\u001b[0m\u001b[0;34m.\u001b[0m\u001b[0mlinspace\u001b[0m\u001b[0;34m(\u001b[0m\u001b[0;36m0.0\u001b[0m\u001b[0;34m,\u001b[0m \u001b[0;36m0.3\u001b[0m\u001b[0;34m,\u001b[0m \u001b[0;36m5\u001b[0m\u001b[0;34m)\u001b[0m\u001b[0;34m)\u001b[0m\u001b[0;34m,\u001b[0m\u001b[0morig_cmap\u001b[0m\u001b[0;34m(\u001b[0m\u001b[0mnp\u001b[0m\u001b[0;34m.\u001b[0m\u001b[0mlinspace\u001b[0m\u001b[0;34m(\u001b[0m\u001b[0;36m0.7\u001b[0m\u001b[0;34m,\u001b[0m \u001b[0;36m1.0\u001b[0m\u001b[0;34m,\u001b[0m \u001b[0;36m5\u001b[0m\u001b[0;34m)\u001b[0m\u001b[0;34m)\u001b[0m\u001b[0;34m)\u001b[0m\u001b[0;34m\u001b[0m\u001b[0;34m\u001b[0m\u001b[0m\n\u001b[0m\u001b[1;32m     21\u001b[0m \u001b[0mcmap_blue\u001b[0m \u001b[0;34m=\u001b[0m \u001b[0mmpl\u001b[0m\u001b[0;34m.\u001b[0m\u001b[0mcolors\u001b[0m\u001b[0;34m.\u001b[0m\u001b[0mLinearSegmentedColormap\u001b[0m\u001b[0;34m.\u001b[0m\u001b[0mfrom_list\u001b[0m\u001b[0;34m(\u001b[0m\u001b[0;34m\"mycmap\"\u001b[0m\u001b[0;34m,\u001b[0m \u001b[0mcolors\u001b[0m\u001b[0;34m)\u001b[0m\u001b[0;34m\u001b[0m\u001b[0;34m\u001b[0m\u001b[0m\n\u001b[1;32m     22\u001b[0m \u001b[0;34m\u001b[0m\u001b[0m\n",
      "\u001b[0;32m<__array_function__ internals>\u001b[0m in \u001b[0;36mconcatenate\u001b[0;34m(*args, **kwargs)\u001b[0m\n",
      "\u001b[0;31mTypeError\u001b[0m: only integer scalar arrays can be converted to a scalar index"
     ]
    },
    {
     "data": {
      "image/png": "[encoded data removed]",
      "text/plain": [
       "<Figure size 1080x1800 with 1 Axes>"
      ]
     },
     "metadata": {},
     "output_type": "display_data"
    }
   ],
   "source": [
    "from matplotlib.offsetbox import TextArea, DrawingArea, OffsetImage, AnnotationBbox\n",
    "from matplotlib import colors\n",
    "\n",
    "fig = plt.figure(figsize=(15,25))\n",
    "\n",
    "ax = fig.add_subplot(311)\n",
    "ax.scatter(X_projected_tnse[:, 0], X_projected_tnse[:, 1], color='#888888')\n",
    "plt.xticks([]), plt.yticks([])\n",
    "plt.title(\"Original data projected on PC-1 and PC-2\")\n",
    "ax.set_xlabel(\"PC-1\")\n",
    "ax.set_ylabel(\"PC_2\")\n",
    "plt.xlim([np.min(X_projected_tnse[:, 0]), np.max(X_projected_tnse[:, 0])])\n",
    "plt.ylim([np.min(X_projected_tnse[:, 1]), np.max(X_projected_tnse[:, 1])])\n",
    "\n",
    "import matplotlib as mpl\n",
    "\n",
    "min_val, max_val = 0.0,1.0\n",
    "n = km.n_clusters\n",
    "orig_cmap = plt.cm.RdBu\n",
    "colors = orig_cmap(np.linspace(min_val, max_val, n))\n",
    "cmap_blue = mpl.colors.LinearSegmentedColormap.from_list(\"mycmap\", colors)\n",
    "\n",
    "\n",
    "\n",
    "ax = fig.add_subplot(312)\n",
    "ax.scatter(X_projected_tnse[:, 0], X_projected_tnse[:, 1], c=clusters , cmap=cmap_blue)\n",
    "\n",
    "for i,c in enumerate(km.cluster_centers_):\n",
    "    y_index = list(y_partial).index(i)\n",
    "    sample_image = np.reshape(X_partial[y_index, :], (28, 28))\n",
    "    imagebox = OffsetImage(sample_image, zoom=1.0, cmap='binary')\n",
    "    ab = AnnotationBbox(imagebox, (c[0], c[1]))\n",
    "    ax.add_artist(ab)\n",
    "    plt.draw()\n",
    "    \n",
    "plt.xticks([]), plt.yticks([])\n",
    "plt.title(\"Predited clusters projected on PC-1 and PC-2\")\n",
    "ax.set_xlabel(\"PC-1\")\n",
    "ax.set_ylabel(\"PC_2\")\n",
    "plt.xlim([np.min(X_projected_tnse[:, 0]), np.max(X_projected_tnse[:, 0])])\n",
    "plt.ylim([np.min(X_projected_tnse[:, 1]), np.max(X_projected_tnse[:, 1])])\n",
    "\n",
    "\n",
    "mycolormap = ['']\n",
    "\n",
    "ax = fig.add_subplot(313)\n",
    "for i,c in enumerate(clusters):\n",
    "    ax.text(X_projected_tnse[i,0], X_projected_tnse[i,1], y_partial[i], color=plt.cm.Spectral(clusters[i]/10.))\n",
    "    \n",
    "for i,c in enumerate(km.cluster_centers_):\n",
    "    y_index = list(y_partial).index(i)\n",
    "    sample_image = np.reshape(X_partial[y_index, :], (28, 28))\n",
    "    imagebox = OffsetImage(sample_image, zoom=1.0, cmap='binary')\n",
    "    ab = AnnotationBbox(imagebox, (c[0], c[1]))\n",
    "    ax.add_artist(ab)\n",
    "    plt.draw()\n",
    "\n",
    "plt.xticks([]), plt.yticks([])\n",
    "plt.title(\"Predicted (color) vs Original (number) projected on PC-1 and PC-2\")\n",
    "ax.set_xlabel(\"PC-1\")\n",
    "ax.set_ylabel(\"PC_2\")\n",
    "plt.xlim([np.min(X_projected_tnse[:, 0]), np.max(X_projected_tnse[:, 0])])\n",
    "plt.ylim([np.min(X_projected_tnse[:, 1]), np.max(X_projected_tnse[:, 1])])\n",
    "\n",
    "plt.show()"
   ]
  },
  {
   "cell_type": "markdown",
   "metadata": {},
   "source": [
    "## 3/ Evaluate"
   ]
  },
  {
   "cell_type": "markdown",
   "metadata": {},
   "source": [
    "évaluer la qualité de ce partitionnement:\n",
    "- d’une part intrinsèquement (sans utiliser y)\n",
    "- et d’autre part en le comparant aux chiffres représentés par les images (en utilisant y)."
   ]
  },
  {
   "cell_type": "code",
   "execution_count": null,
   "metadata": {},
   "outputs": [],
   "source": [
    "from sklearn import metrics \n",
    "\n",
    "# Number of clusters in labels, ignoring noise if present.\n",
    "n_clusters_ = len(set(clusters)) - (1 if -1 in clusters else 0)\n",
    "n_noise_ = list(clusters).count(-1)\n",
    "\n",
    "print(f\"Estimated number of clusters: {n_clusters_}\")\n",
    "print(f\"Estimated number of noise points: {n_noise_} / {len(y_partial)}\")\n",
    "print(f\"Homogeneity: {metrics.homogeneity_score(y_partial, clusters):0.3f}\")\n",
    "print(f\"Completeness: {metrics.completeness_score(y_partial, clusters):0.3f}\")\n",
    "print(f\"V-measure: {metrics.v_measure_score(y_partial, clusters):0.3f}\")\n",
    "print(f\"Adjusted Rand Index: {metrics.adjusted_rand_score(y_partial, clusters):0.3f}\")\n",
    "print(f\"Adjusted Mutual Information: {metrics.adjusted_mutual_info_score(y_partial, clusters):0.3f}\")\n",
    "print(f\"Silhouette Coefficient: {metrics.silhouette_score(X_partial, clusters):0.3f}\")"
   ]
  },
  {
   "cell_type": "markdown",
   "metadata": {},
   "source": [
    "**Silhouette Coefficient**: The best value is 1 and the worst value is -1. Values near 0 indicate overlapping clusters. Negative values generally indicate that a sample has been assigned to the wrong cluster, as a different cluster is more similar. (**Pour l’évaluation intrinsèque**)\n",
    "\n",
    "**Adjusted Rand Index**: The adjusted Rand index is ensured to have a value close to 0.0 for random labeling independently of the number of clusters and samples and exactly 1.0 when the clusterings are identical (up to a permutation). (**Pour la comparaison aux étiquettes**)"
   ]
  },
  {
   "cell_type": "code",
   "execution_count": null,
   "metadata": {},
   "outputs": [],
   "source": []
  }
 ],
 "metadata": {
  "kernelspec": {
   "display_name": "Python 3",
   "language": "python",
   "name": "python3"
  },
  "language_info": {
   "codemirror_mode": {
    "name": "ipython",
    "version": 3
   },
   "file_extension": ".py",
   "mimetype": "text/x-python",
   "name": "python",
   "nbconvert_exporter": "python",
   "pygments_lexer": "ipython3",
   "version": "3.8.10"
  }
 },
 "nbformat": 4,
 "nbformat_minor": 4
}
