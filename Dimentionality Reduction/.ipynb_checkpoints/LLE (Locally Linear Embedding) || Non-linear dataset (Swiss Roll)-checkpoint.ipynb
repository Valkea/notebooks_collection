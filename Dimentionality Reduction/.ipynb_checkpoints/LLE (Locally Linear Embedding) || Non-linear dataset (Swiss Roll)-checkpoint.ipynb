{
 "cells": [
  {
   "cell_type": "markdown",
   "metadata": {},
   "source": [
    "# --- Non-linear dataset (swiss roll) -----------------------------------------------------------"
   ]
  },
  {
   "cell_type": "markdown",
   "metadata": {},
   "source": [
    "## Populate swiss-roll dataset"
   ]
  },
  {
   "cell_type": "code",
   "execution_count": 1,
   "metadata": {},
   "outputs": [],
   "source": [
    "from sklearn import datasets"
   ]
  },
  {
   "cell_type": "code",
   "execution_count": 2,
   "metadata": {},
   "outputs": [],
   "source": [
    "X, color = datasets.make_swiss_roll(n_samples=5000, noise=0.0)"
   ]
  },
  {
   "cell_type": "code",
   "execution_count": 3,
   "metadata": {},
   "outputs": [],
   "source": [
    "Y_labels = ['X', 'Y', 'Z']"
   ]
  },
  {
   "cell_type": "markdown",
   "metadata": {},
   "source": [
    "## Prepare data (feature scaling)"
   ]
  },
  {
   "cell_type": "markdown",
   "metadata": {},
   "source": [
    "Not needed for LLE"
   ]
  },
  {
   "cell_type": "markdown",
   "metadata": {},
   "source": [
    "## Apply LLE dimentionality reduction"
   ]
  },
  {
   "cell_type": "code",
   "execution_count": 4,
   "metadata": {},
   "outputs": [],
   "source": [
    "from sklearn import manifold"
   ]
  },
  {
   "cell_type": "code",
   "execution_count": 5,
   "metadata": {},
   "outputs": [],
   "source": [
    "from time import time"
   ]
  },
  {
   "cell_type": "code",
   "execution_count": null,
   "metadata": {},
   "outputs": [],
   "source": [
    "t0 = time()\n",
    "\n",
    "# LLE classic\n",
    "X_projected_lle, err = manifold.locally_linear_embedding(X, n_neighbors=12, n_components=2)\n",
    "\n",
    "t1 = time()\n",
    "print(\"LLE Time:\", t1-t0)\n",
    "\n",
    "# LLE modified\n",
    "X_projected_lle_modified, err = manifold.locally_linear_embedding(X, n_neighbors=12, n_components=2, method='modified')\n",
    "\n",
    "t2 = time()\n",
    "print(\"LLE Modified Time:\", t2-t1)\n",
    "\n",
    "# LLE Hessian\n",
    "X_projected_lle_hessian, err = manifold.locally_linear_embedding(X, n_neighbors=12, n_components=2, method='hessian')\n",
    "\n",
    "t3 = time()\n",
    "print(\"LLE Hessian Time:\", t3-t2)\n",
    "\n",
    "# LTSA\n",
    "X_projected_lle_ltsa, err = manifold.locally_linear_embedding(X, n_neighbors=12, n_components=2, method='ltsa')\n",
    "\n",
    "t4 = time()\n",
    "print(\"LTSA Time:\", t4-t3)"
   ]
  },
  {
   "cell_type": "code",
   "execution_count": null,
   "metadata": {},
   "outputs": [],
   "source": [
    "err"
   ]
  },
  {
   "cell_type": "markdown",
   "metadata": {},
   "source": [
    "## Plot"
   ]
  },
  {
   "cell_type": "markdown",
   "metadata": {},
   "source": [
    "# === LLE ====================================================="
   ]
  },
  {
   "cell_type": "code",
   "execution_count": null,
   "metadata": {},
   "outputs": [],
   "source": [
    "import matplotlib.pyplot as plt"
   ]
  },
  {
   "cell_type": "code",
   "execution_count": null,
   "metadata": {},
   "outputs": [],
   "source": [
    "fig = plt.figure(figsize=(17,10))\n",
    "\n",
    "ax = fig.add_subplot(231, projection='3d')\n",
    "ax.scatter(X[:, 0], X[:, 1], X[:, 2], c=color, cmap=plt.cm.Spectral)\n",
    "ax.set_title(\"Original data\")\n",
    "ax.set_xlabel(\"X\")\n",
    "ax.set_ylabel(\"Y\")\n",
    "ax.set_zlabel(\"Z\")\n",
    "\n",
    "ax = fig.add_subplot(232)\n",
    "ax.scatter(X_projected_lle[:, 0], X_projected_lle[:, 1], c=color , cmap=plt.cm.Spectral)\n",
    "plt.xticks([]), plt.yticks([])\n",
    "plt.title('(Classic LLE) Projected on PC-1 et PC2 (with color)')\n",
    "\n",
    "ax = fig.add_subplot(233)\n",
    "ax.scatter(X_projected_lle[:, 0], X_projected_lle[:, 1])\n",
    "#plt.xticks([]), plt.yticks([])\n",
    "plt.title('(Classic LLE) Projected on PC-1 et PC2 (without color)')\n",
    "ax.set_xlabel(\"PC-1\")\n",
    "ax.set_ylabel(\"PC_2\")\n",
    "\n",
    "## Modified\n",
    "\n",
    "ax = fig.add_subplot(234)\n",
    "ax.scatter(X_projected_lle_modified[:, 0], X_projected_lle_modified[:, 1], c=color , cmap=plt.cm.Spectral)\n",
    "plt.xticks([]), plt.yticks([])\n",
    "plt.title('(Modified LLE) Projected on PC-1 et PC2 (with color)')\n",
    "\n",
    "## Hessian\n",
    "\n",
    "ax = fig.add_subplot(235)\n",
    "ax.scatter(X_projected_lle_hessian[:, 0], X_projected_lle_hessian[:, 1], c=color , cmap=plt.cm.Spectral)\n",
    "plt.xticks([]), plt.yticks([])\n",
    "plt.title('(Hessian LLE) Projected on PC-1 et PC2 (with color)')\n",
    "\n",
    "## LTSA\n",
    "\n",
    "ax = fig.add_subplot(236)\n",
    "ax.scatter(X_projected_lle_ltsa[:, 0], X_projected_lle_ltsa[:, 1], c=color , cmap=plt.cm.Spectral)\n",
    "plt.xticks([]), plt.yticks([])\n",
    "plt.title('(LTSA) Projected on PC-1 et PC2 (with color)')\n",
    "\n",
    "\n",
    "plt.show()"
   ]
  },
  {
   "cell_type": "markdown",
   "metadata": {},
   "source": [
    "# === PCA comparison ==========================================="
   ]
  },
  {
   "cell_type": "markdown",
   "metadata": {},
   "source": [
    "## Prepare data (feature scaling)"
   ]
  },
  {
   "cell_type": "code",
   "execution_count": null,
   "metadata": {},
   "outputs": [],
   "source": [
    "from sklearn import preprocessing"
   ]
  },
  {
   "cell_type": "code",
   "execution_count": null,
   "metadata": {},
   "outputs": [],
   "source": [
    "std_scale = preprocessing.StandardScaler().fit(X)"
   ]
  },
  {
   "cell_type": "code",
   "execution_count": null,
   "metadata": {},
   "outputs": [],
   "source": [
    "X_scaled = std_scale.transform(X)"
   ]
  },
  {
   "cell_type": "markdown",
   "metadata": {},
   "source": [
    "## Apply PCA dimentionality reduction"
   ]
  },
  {
   "cell_type": "code",
   "execution_count": null,
   "metadata": {},
   "outputs": [],
   "source": [
    "from sklearn import decomposition"
   ]
  },
  {
   "cell_type": "code",
   "execution_count": null,
   "metadata": {},
   "outputs": [],
   "source": [
    "pca = decomposition.PCA(n_components=2)"
   ]
  },
  {
   "cell_type": "markdown",
   "metadata": {},
   "source": [
    "#### Decompose"
   ]
  },
  {
   "cell_type": "code",
   "execution_count": null,
   "metadata": {},
   "outputs": [],
   "source": [
    "pca.fit(X_scaled)"
   ]
  },
  {
   "cell_type": "markdown",
   "metadata": {},
   "source": [
    "#### Examine explained variance"
   ]
  },
  {
   "cell_type": "markdown",
   "metadata": {},
   "source": [
    "..."
   ]
  },
  {
   "cell_type": "markdown",
   "metadata": {},
   "source": [
    "#### Project"
   ]
  },
  {
   "cell_type": "code",
   "execution_count": null,
   "metadata": {},
   "outputs": [],
   "source": [
    "X_projected = pca.transform(X_scaled)\n",
    "X_projected.shape"
   ]
  },
  {
   "cell_type": "markdown",
   "metadata": {},
   "source": [
    "## Plot"
   ]
  },
  {
   "cell_type": "code",
   "execution_count": null,
   "metadata": {},
   "outputs": [],
   "source": [
    "fig = plt.figure(figsize=(17,5))\n",
    "\n",
    "ax = fig.add_subplot(131, projection='3d')\n",
    "ax.scatter(X[:, 0], X[:, 1], X[:, 2], c=color, cmap=plt.cm.Spectral)\n",
    "ax.set_title(\"Original data\")\n",
    "ax.set_xlabel(\"X\")\n",
    "ax.set_ylabel(\"Y\")\n",
    "ax.set_zlabel(\"Z\")\n",
    "\n",
    "ax = fig.add_subplot(132)\n",
    "ax.scatter(X_projected[:, 0], X_projected[:, 1], c=color, cmap=plt.cm.Spectral)\n",
    "plt.xticks([]), plt.yticks([])\n",
    "plt.title('Projected data with color')\n",
    "\n",
    "ax = fig.add_subplot(133)\n",
    "ax.scatter(X_projected[:, 0], X_projected[:, 1])\n",
    "#plt.xticks([]), plt.yticks([])\n",
    "plt.title('Projected data without color')\n",
    "ax.set_xlabel(\"PC-1\")\n",
    "ax.set_ylabel(\"PC_2\")\n",
    "\n",
    "plt.show()"
   ]
  },
  {
   "cell_type": "markdown",
   "metadata": {},
   "source": [
    "## --- Notes ----------------------------------------------------------------------------------------------------------------"
   ]
  },
  {
   "cell_type": "markdown",
   "metadata": {},
   "source": [
    "PCA doesn't works well with non-linearly separable datasets... \n",
    "\n",
    "LLE successfuly unroll the dataset and make it usable (linearly separable) in 2D.\n",
    "\n",
    "But LLE's result is even more usable using 'Modified' or 'Hessian' versions."
   ]
  },
  {
   "cell_type": "code",
   "execution_count": null,
   "metadata": {},
   "outputs": [],
   "source": []
  }
 ],
 "metadata": {
  "kernelspec": {
   "display_name": "Python 3",
   "language": "python",
   "name": "python3"
  },
  "language_info": {
   "codemirror_mode": {
    "name": "ipython",
    "version": 3
   },
   "file_extension": ".py",
   "mimetype": "text/x-python",
   "name": "python",
   "nbconvert_exporter": "python",
   "pygments_lexer": "ipython3",
   "version": "3.8.10"
  }
 },
 "nbformat": 4,
 "nbformat_minor": 4
}
