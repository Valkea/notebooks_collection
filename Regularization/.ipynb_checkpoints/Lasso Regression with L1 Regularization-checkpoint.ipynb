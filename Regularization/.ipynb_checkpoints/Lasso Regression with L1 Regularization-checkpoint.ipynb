{
 "cells": [
  {
   "cell_type": "code",
   "execution_count": 1,
   "metadata": {},
   "outputs": [],
   "source": [
    "import pandas as pd\n",
    "import numpy as np\n",
    "import matplotlib.pyplot as plt"
   ]
  },
  {
   "cell_type": "code",
   "execution_count": 2,
   "metadata": {},
   "outputs": [],
   "source": [
    "data = pd.read_csv('TP_1_prostate_dataset.txt', sep='\\t')"
   ]
  },
  {
   "cell_type": "code",
   "execution_count": 3,
   "metadata": {},
   "outputs": [
    {
     "data": {
      "text/html": [
       "<div>\n",
       "<style scoped>\n",
       "    .dataframe tbody tr th:only-of-type {\n",
       "        vertical-align: middle;\n",
       "    }\n",
       "\n",
       "    .dataframe tbody tr th {\n",
       "        vertical-align: top;\n",
       "    }\n",
       "\n",
       "    .dataframe thead th {\n",
       "        text-align: right;\n",
       "    }\n",
       "</style>\n",
       "<table border=\"1\" class=\"dataframe\">\n",
       "  <thead>\n",
       "    <tr style=\"text-align: right;\">\n",
       "      <th></th>\n",
       "      <th>col</th>\n",
       "      <th>lcavol</th>\n",
       "      <th>lweight</th>\n",
       "      <th>age</th>\n",
       "      <th>lbph</th>\n",
       "      <th>svi</th>\n",
       "      <th>lcp</th>\n",
       "      <th>gleason</th>\n",
       "      <th>pgg45</th>\n",
       "      <th>lpsa</th>\n",
       "      <th>train</th>\n",
       "    </tr>\n",
       "  </thead>\n",
       "  <tbody>\n",
       "    <tr>\n",
       "      <th>0</th>\n",
       "      <td>1</td>\n",
       "      <td>-0.579818</td>\n",
       "      <td>2.769459</td>\n",
       "      <td>50</td>\n",
       "      <td>-1.386294</td>\n",
       "      <td>0</td>\n",
       "      <td>-1.386294</td>\n",
       "      <td>6</td>\n",
       "      <td>0</td>\n",
       "      <td>-0.430783</td>\n",
       "      <td>T</td>\n",
       "    </tr>\n",
       "    <tr>\n",
       "      <th>1</th>\n",
       "      <td>2</td>\n",
       "      <td>-0.994252</td>\n",
       "      <td>3.319626</td>\n",
       "      <td>58</td>\n",
       "      <td>-1.386294</td>\n",
       "      <td>0</td>\n",
       "      <td>-1.386294</td>\n",
       "      <td>6</td>\n",
       "      <td>0</td>\n",
       "      <td>-0.162519</td>\n",
       "      <td>T</td>\n",
       "    </tr>\n",
       "    <tr>\n",
       "      <th>2</th>\n",
       "      <td>3</td>\n",
       "      <td>-0.510826</td>\n",
       "      <td>2.691243</td>\n",
       "      <td>74</td>\n",
       "      <td>-1.386294</td>\n",
       "      <td>0</td>\n",
       "      <td>-1.386294</td>\n",
       "      <td>7</td>\n",
       "      <td>20</td>\n",
       "      <td>-0.162519</td>\n",
       "      <td>T</td>\n",
       "    </tr>\n",
       "    <tr>\n",
       "      <th>3</th>\n",
       "      <td>4</td>\n",
       "      <td>-1.203973</td>\n",
       "      <td>3.282789</td>\n",
       "      <td>58</td>\n",
       "      <td>-1.386294</td>\n",
       "      <td>0</td>\n",
       "      <td>-1.386294</td>\n",
       "      <td>6</td>\n",
       "      <td>0</td>\n",
       "      <td>-0.162519</td>\n",
       "      <td>T</td>\n",
       "    </tr>\n",
       "    <tr>\n",
       "      <th>4</th>\n",
       "      <td>5</td>\n",
       "      <td>0.751416</td>\n",
       "      <td>3.432373</td>\n",
       "      <td>62</td>\n",
       "      <td>-1.386294</td>\n",
       "      <td>0</td>\n",
       "      <td>-1.386294</td>\n",
       "      <td>6</td>\n",
       "      <td>0</td>\n",
       "      <td>0.371564</td>\n",
       "      <td>T</td>\n",
       "    </tr>\n",
       "  </tbody>\n",
       "</table>\n",
       "</div>"
      ],
      "text/plain": [
       "   col    lcavol   lweight  age      lbph  svi       lcp  gleason  pgg45  \\\n",
       "0    1 -0.579818  2.769459   50 -1.386294    0 -1.386294        6      0   \n",
       "1    2 -0.994252  3.319626   58 -1.386294    0 -1.386294        6      0   \n",
       "2    3 -0.510826  2.691243   74 -1.386294    0 -1.386294        7     20   \n",
       "3    4 -1.203973  3.282789   58 -1.386294    0 -1.386294        6      0   \n",
       "4    5  0.751416  3.432373   62 -1.386294    0 -1.386294        6      0   \n",
       "\n",
       "       lpsa train  \n",
       "0 -0.430783     T  \n",
       "1 -0.162519     T  \n",
       "2 -0.162519     T  \n",
       "3 -0.162519     T  \n",
       "4  0.371564     T  "
      ]
     },
     "execution_count": 3,
     "metadata": {},
     "output_type": "execute_result"
    }
   ],
   "source": [
    "data.head()"
   ]
  },
  {
   "cell_type": "markdown",
   "metadata": {},
   "source": [
    "## Variables selection"
   ]
  },
  {
   "cell_type": "code",
   "execution_count": 4,
   "metadata": {},
   "outputs": [],
   "source": [
    "X = data.iloc[:,1:-2]"
   ]
  },
  {
   "cell_type": "code",
   "execution_count": 5,
   "metadata": {},
   "outputs": [],
   "source": [
    "y = data.iloc[:,-2]"
   ]
  },
  {
   "cell_type": "markdown",
   "metadata": {},
   "source": [
    "## Variables standardization"
   ]
  },
  {
   "cell_type": "code",
   "execution_count": 6,
   "metadata": {},
   "outputs": [],
   "source": [
    "from sklearn.preprocessing import StandardScaler"
   ]
  },
  {
   "cell_type": "code",
   "execution_count": 7,
   "metadata": {},
   "outputs": [],
   "source": [
    "X_std = StandardScaler().fit_transform(X)"
   ]
  },
  {
   "cell_type": "markdown",
   "metadata": {},
   "source": [
    "## Split the dataset"
   ]
  },
  {
   "cell_type": "code",
   "execution_count": 8,
   "metadata": {},
   "outputs": [],
   "source": [
    "from sklearn.model_selection import train_test_split"
   ]
  },
  {
   "cell_type": "code",
   "execution_count": 9,
   "metadata": {},
   "outputs": [],
   "source": [
    "X_train, X_test, y_train, y_test = train_test_split(X_std, y, test_size=0.25, random_state=42)"
   ]
  },
  {
   "cell_type": "code",
   "execution_count": 10,
   "metadata": {},
   "outputs": [
    {
     "data": {
      "text/plain": [
       "((72, 8), (25, 8), (72,), (25,))"
      ]
     },
     "execution_count": 10,
     "metadata": {},
     "output_type": "execute_result"
    }
   ],
   "source": [
    "X_train.shape, X_test.shape, y_train.shape, y_test.shape"
   ]
  },
  {
   "cell_type": "markdown",
   "metadata": {},
   "source": [
    "## Train baseline model for baseline metrics"
   ]
  },
  {
   "cell_type": "code",
   "execution_count": 11,
   "metadata": {},
   "outputs": [
    {
     "name": "stdout",
     "output_type": "stream",
     "text": [
      "strategy: mean     -> R2=-0.015 | RMSE=1.109\n",
      "strategy: median   -> R2=-0.069 | RMSE=1.138\n",
      "strategy: quantile -> R2=-0.447 | RMSE=1.324\n",
      "strategy: constant -> R2=-1.569 | RMSE=1.764\n"
     ]
    }
   ],
   "source": [
    "from sklearn import dummy, metrics \n",
    "\n",
    "strategies = ['mean', 'median', 'quantile', 'constant']\n",
    "quantile_value, constant_value = 0.2, 1\n",
    "dummy_rmse = 10000.0\n",
    "\n",
    "for strategy in strategies:\n",
    "    dum_reg = dummy.DummyRegressor(strategy=strategy, constant=constant_value, quantile=quantile_value)\n",
    "    dum_reg.fit(X_train, y_train)\n",
    "\n",
    "    # Evaluate to get a baseline value  .\n",
    "    d_R2 = dum_reg.score(X_test, y_test)\n",
    "    y_pred = dum_reg.predict(X_test)\n",
    "    d_rmse = metrics.mean_squared_error(y_test, y_pred, squared=False)\n",
    "    print(f\"strategy: {strategy.ljust(8)} -> R2={d_R2:.3f} | RMSE={d_rmse:.3f}\")\n",
    "    if d_rmse < dummy_rmse:\n",
    "        dummy_rmse = d_rmse"
   ]
  },
  {
   "cell_type": "markdown",
   "metadata": {},
   "source": [
    "## Train non regularized linear regression"
   ]
  },
  {
   "cell_type": "code",
   "execution_count": 12,
   "metadata": {},
   "outputs": [],
   "source": [
    "from sklearn.linear_model import LinearRegression"
   ]
  },
  {
   "cell_type": "code",
   "execution_count": 13,
   "metadata": {},
   "outputs": [
    {
     "name": "stdout",
     "output_type": "stream",
     "text": [
      "Non-regularized -> R2=0.633 | RMSE=0.667\n"
     ]
    }
   ],
   "source": [
    "linear_reg = LinearRegression()\n",
    "linear_reg.fit(X_train, y_train)\n",
    "noreg_R2 = linear_reg.score(X_test, y_test)\n",
    "y_pred = linear_reg.predict(X_test)\n",
    "noreg_rmse = metrics.mean_squared_error(y_test, y_pred, squared=False)\n",
    "print(f\"Non-regularized -> R2={noreg_R2:.3f} | RMSE={noreg_rmse:.3f}\")"
   ]
  },
  {
   "cell_type": "markdown",
   "metadata": {},
   "source": [
    "## Train Ridge Regression"
   ]
  },
  {
   "cell_type": "code",
   "execution_count": 14,
   "metadata": {},
   "outputs": [],
   "source": [
    "from sklearn.linear_model import Ridge "
   ]
  },
  {
   "cell_type": "code",
   "execution_count": 15,
   "metadata": {},
   "outputs": [
    {
     "name": "stdout",
     "output_type": "stream",
     "text": [
      "alpha:      0.00001 -> R2=0.633 | RMSE=0.667\n",
      "alpha:      0.00002 -> R2=0.633 | RMSE=0.667\n",
      "alpha:      0.00003 -> R2=0.633 | RMSE=0.667\n",
      "alpha:      0.00004 -> R2=0.633 | RMSE=0.667\n",
      "alpha:      0.00007 -> R2=0.633 | RMSE=0.667\n",
      "alpha:      0.00010 -> R2=0.633 | RMSE=0.667\n",
      "alpha:      0.00017 -> R2=0.633 | RMSE=0.667\n",
      "alpha:      0.00027 -> R2=0.633 | RMSE=0.667\n",
      "alpha:      0.00043 -> R2=0.633 | RMSE=0.667\n",
      "alpha:      0.00069 -> R2=0.633 | RMSE=0.667\n",
      "alpha:      0.00110 -> R2=0.633 | RMSE=0.667\n",
      "alpha:      0.00176 -> R2=0.633 | RMSE=0.667\n",
      "alpha:      0.00281 -> R2=0.633 | RMSE=0.667\n",
      "alpha:      0.00450 -> R2=0.633 | RMSE=0.667\n",
      "alpha:      0.00720 -> R2=0.633 | RMSE=0.667\n",
      "alpha:      0.01151 -> R2=0.633 | RMSE=0.667\n",
      "alpha:      0.01842 -> R2=0.633 | RMSE=0.667\n",
      "alpha:      0.02947 -> R2=0.633 | RMSE=0.667\n",
      "alpha:      0.04715 -> R2=0.633 | RMSE=0.667\n",
      "alpha:      0.07543 -> R2=0.633 | RMSE=0.666\n",
      "alpha:      0.12068 -> R2=0.634 | RMSE=0.666\n",
      "alpha:      0.19307 -> R2=0.634 | RMSE=0.666\n",
      "alpha:      0.30888 -> R2=0.635 | RMSE=0.665\n",
      "alpha:      0.49417 -> R2=0.636 | RMSE=0.664\n",
      "alpha:      0.79060 -> R2=0.638 | RMSE=0.662\n",
      "alpha:      1.26486 -> R2=0.642 | RMSE=0.659\n",
      "alpha:      2.02359 -> R2=0.646 | RMSE=0.655\n",
      "alpha:      3.23746 -> R2=0.652 | RMSE=0.649\n",
      "alpha:      5.17947 -> R2=0.660 | RMSE=0.642\n",
      "alpha:      8.28643 -> R2=0.668 | RMSE=0.635\n",
      "alpha:     13.25711 -> R2=0.675 | RMSE=0.628\n",
      "alpha:     21.20951 -> R2=0.677 | RMSE=0.626\n",
      "alpha:     33.93222 -> R2=0.670 | RMSE=0.632\n",
      "alpha:     54.28675 -> R2=0.650 | RMSE=0.651\n",
      "alpha:     86.85114 -> R2=0.613 | RMSE=0.685\n",
      "alpha:    138.94955 -> R2=0.556 | RMSE=0.733\n",
      "alpha:    222.29965 -> R2=0.480 | RMSE=0.794\n",
      "alpha:    355.64803 -> R2=0.391 | RMSE=0.859\n",
      "alpha:    568.98660 -> R2=0.298 | RMSE=0.922\n",
      "alpha:    910.29818 -> R2=0.213 | RMSE=0.976\n",
      "alpha:   1456.34848 -> R2=0.144 | RMSE=1.018\n",
      "alpha:   2329.95181 -> R2=0.092 | RMSE=1.049\n",
      "alpha:   3727.59372 -> R2=0.055 | RMSE=1.070\n",
      "alpha:   5963.62332 -> R2=0.030 | RMSE=1.084\n",
      "alpha:   9540.95476 -> R2=0.014 | RMSE=1.093\n",
      "alpha:  15264.17967 -> R2=0.003 | RMSE=1.099\n",
      "alpha:  24420.53095 -> R2=-0.003 | RMSE=1.103\n",
      "alpha:  39069.39937 -> R2=-0.008 | RMSE=1.105\n",
      "alpha:  62505.51925 -> R2=-0.010 | RMSE=1.106\n",
      "alpha: 100000.00000 -> R2=-0.012 | RMSE=1.107\n"
     ]
    }
   ],
   "source": [
    "rmse_log = []\n",
    "r2_log = []\n",
    "params = []\n",
    "\n",
    "alphas = np.logspace(-5, 5, 50)\n",
    "for alpha in alphas:\n",
    "    ridge_reg = Ridge(alpha)\n",
    "    ridge_reg.fit(X_train, y_train)\n",
    "    \n",
    "    # Evaluate to get a baseline value  .\n",
    "    r2 = ridge_reg.score(X_test, y_test)\n",
    "    y_pred = ridge_reg.predict(X_test)\n",
    "    rmse = metrics.mean_squared_error(y_test, y_pred, squared=False)\n",
    "    print(f\"alpha: {alpha:12.5f} -> R2={r2:.3f} | RMSE={rmse:.3f}\")\n",
    "       \n",
    "    r2_log.append(r2)\n",
    "    rmse_log.append(rmse)\n",
    "    params.append(ridge_reg.coef_)"
   ]
  },
  {
   "cell_type": "markdown",
   "metadata": {},
   "source": [
    "## Plot the Regularization paths & the error evolution"
   ]
  },
  {
   "cell_type": "code",
   "execution_count": 16,
   "metadata": {},
   "outputs": [
    {
     "data": {
      "image/png": "[encoded data removed]",
      "text/plain": [
       "<Figure size 1080x360 with 2 Axes>"
      ]
     },
     "metadata": {
      "needs_background": "light"
     },
     "output_type": "display_data"
    }
   ],
   "source": [
    "fig = plt.figure(figsize=(15,5))\n",
    "\n",
    "plt.subplot(1,2,1)\n",
    "plt.plot(alphas, rmse_log, label='Ridge')\n",
    "plt.plot([10**-5, 10**5], [dummy_rmse, dummy_rmse], label='Dummy')\n",
    "plt.plot([10**-5, 10**5], [noreg_rmse, noreg_rmse], label='No Reg')\n",
    "plt.title(\"RMSE vs the Regularization term\")\n",
    "plt.xlabel(\"Regularization term\")\n",
    "plt.ylabel(\"RMSE\")\n",
    "ax = plt.gca()\n",
    "ax.set_xscale('log')\n",
    "ax.legend()\n",
    "\n",
    "plt.subplot(1,2,2)\n",
    "plt.plot(alphas, params)\n",
    "plt.title(\"Regularization paths\")\n",
    "plt.xlabel(\"Regularization term\")\n",
    "plt.ylabel(\"Parameter weight\")\n",
    "ax = plt.gca()\n",
    "ax.set_xscale('log')"
   ]
  },
  {
   "cell_type": "markdown",
   "metadata": {},
   "source": [
    "### Get the best regularization term \"manually\""
   ]
  },
  {
   "cell_type": "code",
   "execution_count": 17,
   "metadata": {},
   "outputs": [
    {
     "data": {
      "text/plain": [
       "0.6259501744246688"
      ]
     },
     "execution_count": 17,
     "metadata": {},
     "output_type": "execute_result"
    }
   ],
   "source": [
    "rmse_log[np.argmin(rmse_log)]"
   ]
  },
  {
   "cell_type": "code",
   "execution_count": 18,
   "metadata": {},
   "outputs": [
    {
     "data": {
      "text/plain": [
       "21.209508879201927"
      ]
     },
     "execution_count": 18,
     "metadata": {},
     "output_type": "execute_result"
    }
   ],
   "source": [
    "alphas[np.argmin(rmse_log)]"
   ]
  },
  {
   "cell_type": "markdown",
   "metadata": {},
   "source": [
    "### Get the best regularization term \"automatically\""
   ]
  },
  {
   "cell_type": "code",
   "execution_count": 19,
   "metadata": {},
   "outputs": [],
   "source": [
    "from sklearn.linear_model import RidgeCV"
   ]
  },
  {
   "cell_type": "code",
   "execution_count": 20,
   "metadata": {},
   "outputs": [
    {
     "name": "stdout",
     "output_type": "stream",
     "text": [
      "alpha: 5.179 -> R2=0.660 | RMSE=0.642\n"
     ]
    }
   ],
   "source": [
    "ridgecv = RidgeCV(alphas)\n",
    "ridgecv.fit(X_train, y_train)\n",
    "\n",
    "R2 = ridgecv.score(X_test, y_test)\n",
    "y_pred = ridgecv.predict(X_test)\n",
    "rmse = metrics.mean_squared_error(y_test, y_pred, squared=False)\n",
    "print(f\"alpha: {ridgecv.alpha_:.3f} -> R2={R2:.3f} | RMSE={rmse:.3f}\")"
   ]
  },
  {
   "cell_type": "code",
   "execution_count": null,
   "metadata": {},
   "outputs": [],
   "source": []
  }
 ],
 "metadata": {
  "kernelspec": {
   "display_name": "Python 3",
   "language": "python",
   "name": "python3"
  },
  "language_info": {
   "codemirror_mode": {
    "name": "ipython",
    "version": 3
   },
   "file_extension": ".py",
   "mimetype": "text/x-python",
   "name": "python",
   "nbconvert_exporter": "python",
   "pygments_lexer": "ipython3",
   "version": "3.8.10"
  }
 },
 "nbformat": 4,
 "nbformat_minor": 4
}
