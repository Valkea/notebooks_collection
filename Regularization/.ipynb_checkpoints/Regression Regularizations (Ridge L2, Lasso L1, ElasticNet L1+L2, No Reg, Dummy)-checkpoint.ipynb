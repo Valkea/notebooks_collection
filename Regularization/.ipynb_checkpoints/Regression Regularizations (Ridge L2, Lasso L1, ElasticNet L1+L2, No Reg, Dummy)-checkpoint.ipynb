{
 "cells": [
  {
   "cell_type": "code",
   "execution_count": 1,
   "metadata": {},
   "outputs": [],
   "source": [
    "import pandas as pd\n",
    "import numpy as np\n",
    "import matplotlib.pyplot as plt"
   ]
  },
  {
   "cell_type": "code",
   "execution_count": 2,
   "metadata": {},
   "outputs": [],
   "source": [
    "data = pd.read_csv('data/TP_1_prostate_dataset.txt', sep='\\t')"
   ]
  },
  {
   "cell_type": "code",
   "execution_count": 3,
   "metadata": {},
   "outputs": [
    {
     "data": {
      "text/html": [
       "<div>\n",
       "<style scoped>\n",
       "    .dataframe tbody tr th:only-of-type {\n",
       "        vertical-align: middle;\n",
       "    }\n",
       "\n",
       "    .dataframe tbody tr th {\n",
       "        vertical-align: top;\n",
       "    }\n",
       "\n",
       "    .dataframe thead th {\n",
       "        text-align: right;\n",
       "    }\n",
       "</style>\n",
       "<table border=\"1\" class=\"dataframe\">\n",
       "  <thead>\n",
       "    <tr style=\"text-align: right;\">\n",
       "      <th></th>\n",
       "      <th>col</th>\n",
       "      <th>lcavol</th>\n",
       "      <th>lweight</th>\n",
       "      <th>age</th>\n",
       "      <th>lbph</th>\n",
       "      <th>svi</th>\n",
       "      <th>lcp</th>\n",
       "      <th>gleason</th>\n",
       "      <th>pgg45</th>\n",
       "      <th>lpsa</th>\n",
       "      <th>train</th>\n",
       "    </tr>\n",
       "  </thead>\n",
       "  <tbody>\n",
       "    <tr>\n",
       "      <th>0</th>\n",
       "      <td>1</td>\n",
       "      <td>-0.579818</td>\n",
       "      <td>2.769459</td>\n",
       "      <td>50</td>\n",
       "      <td>-1.386294</td>\n",
       "      <td>0</td>\n",
       "      <td>-1.386294</td>\n",
       "      <td>6</td>\n",
       "      <td>0</td>\n",
       "      <td>-0.430783</td>\n",
       "      <td>T</td>\n",
       "    </tr>\n",
       "    <tr>\n",
       "      <th>1</th>\n",
       "      <td>2</td>\n",
       "      <td>-0.994252</td>\n",
       "      <td>3.319626</td>\n",
       "      <td>58</td>\n",
       "      <td>-1.386294</td>\n",
       "      <td>0</td>\n",
       "      <td>-1.386294</td>\n",
       "      <td>6</td>\n",
       "      <td>0</td>\n",
       "      <td>-0.162519</td>\n",
       "      <td>T</td>\n",
       "    </tr>\n",
       "    <tr>\n",
       "      <th>2</th>\n",
       "      <td>3</td>\n",
       "      <td>-0.510826</td>\n",
       "      <td>2.691243</td>\n",
       "      <td>74</td>\n",
       "      <td>-1.386294</td>\n",
       "      <td>0</td>\n",
       "      <td>-1.386294</td>\n",
       "      <td>7</td>\n",
       "      <td>20</td>\n",
       "      <td>-0.162519</td>\n",
       "      <td>T</td>\n",
       "    </tr>\n",
       "    <tr>\n",
       "      <th>3</th>\n",
       "      <td>4</td>\n",
       "      <td>-1.203973</td>\n",
       "      <td>3.282789</td>\n",
       "      <td>58</td>\n",
       "      <td>-1.386294</td>\n",
       "      <td>0</td>\n",
       "      <td>-1.386294</td>\n",
       "      <td>6</td>\n",
       "      <td>0</td>\n",
       "      <td>-0.162519</td>\n",
       "      <td>T</td>\n",
       "    </tr>\n",
       "    <tr>\n",
       "      <th>4</th>\n",
       "      <td>5</td>\n",
       "      <td>0.751416</td>\n",
       "      <td>3.432373</td>\n",
       "      <td>62</td>\n",
       "      <td>-1.386294</td>\n",
       "      <td>0</td>\n",
       "      <td>-1.386294</td>\n",
       "      <td>6</td>\n",
       "      <td>0</td>\n",
       "      <td>0.371564</td>\n",
       "      <td>T</td>\n",
       "    </tr>\n",
       "  </tbody>\n",
       "</table>\n",
       "</div>"
      ],
      "text/plain": [
       "   col    lcavol   lweight  age      lbph  svi       lcp  gleason  pgg45  \\\n",
       "0    1 -0.579818  2.769459   50 -1.386294    0 -1.386294        6      0   \n",
       "1    2 -0.994252  3.319626   58 -1.386294    0 -1.386294        6      0   \n",
       "2    3 -0.510826  2.691243   74 -1.386294    0 -1.386294        7     20   \n",
       "3    4 -1.203973  3.282789   58 -1.386294    0 -1.386294        6      0   \n",
       "4    5  0.751416  3.432373   62 -1.386294    0 -1.386294        6      0   \n",
       "\n",
       "       lpsa train  \n",
       "0 -0.430783     T  \n",
       "1 -0.162519     T  \n",
       "2 -0.162519     T  \n",
       "3 -0.162519     T  \n",
       "4  0.371564     T  "
      ]
     },
     "execution_count": 3,
     "metadata": {},
     "output_type": "execute_result"
    }
   ],
   "source": [
    "data.head()"
   ]
  },
  {
   "cell_type": "markdown",
   "metadata": {},
   "source": [
    "## Variables selection"
   ]
  },
  {
   "cell_type": "code",
   "execution_count": 4,
   "metadata": {},
   "outputs": [],
   "source": [
    "X = data.iloc[:,1:-2]"
   ]
  },
  {
   "cell_type": "code",
   "execution_count": 5,
   "metadata": {},
   "outputs": [],
   "source": [
    "y = data.iloc[:,-2]"
   ]
  },
  {
   "cell_type": "markdown",
   "metadata": {},
   "source": [
    "## Variables standardization"
   ]
  },
  {
   "cell_type": "code",
   "execution_count": 6,
   "metadata": {},
   "outputs": [],
   "source": [
    "from sklearn.preprocessing import StandardScaler"
   ]
  },
  {
   "cell_type": "code",
   "execution_count": 7,
   "metadata": {},
   "outputs": [],
   "source": [
    "X_std = StandardScaler().fit_transform(X)"
   ]
  },
  {
   "cell_type": "markdown",
   "metadata": {},
   "source": [
    "## Split the dataset"
   ]
  },
  {
   "cell_type": "code",
   "execution_count": 8,
   "metadata": {},
   "outputs": [],
   "source": [
    "from sklearn.model_selection import train_test_split"
   ]
  },
  {
   "cell_type": "code",
   "execution_count": 9,
   "metadata": {},
   "outputs": [],
   "source": [
    "X_train, X_test, y_train, y_test = train_test_split(X_std, y, test_size=0.25, random_state=0)"
   ]
  },
  {
   "cell_type": "code",
   "execution_count": 10,
   "metadata": {},
   "outputs": [
    {
     "data": {
      "text/plain": [
       "((72, 8), (25, 8), (72,), (25,))"
      ]
     },
     "execution_count": 10,
     "metadata": {},
     "output_type": "execute_result"
    }
   ],
   "source": [
    "X_train.shape, X_test.shape, y_train.shape, y_test.shape"
   ]
  },
  {
   "cell_type": "markdown",
   "metadata": {},
   "source": [
    "# Train baseline model for baseline metrics"
   ]
  },
  {
   "cell_type": "code",
   "execution_count": 11,
   "metadata": {},
   "outputs": [
    {
     "name": "stdout",
     "output_type": "stream",
     "text": [
      "strategy: mean     -> R2=-0.069 | RMSE=1.133\n",
      "strategy: median   -> R2=-0.089 | RMSE=1.144\n",
      "strategy: quantile -> R2=-0.323 | RMSE=1.260\n",
      "strategy: constant -> R2=-1.333 | RMSE=1.674\n"
     ]
    }
   ],
   "source": [
    "from sklearn import dummy, metrics \n",
    "\n",
    "strategies = ['mean', 'median', 'quantile', 'constant']\n",
    "quantile_value, constant_value = 0.2, 1\n",
    "dummy_rmse = 10000.0\n",
    "\n",
    "for strategy in strategies:\n",
    "    dum_reg = dummy.DummyRegressor(strategy=strategy, constant=constant_value, quantile=quantile_value)\n",
    "    dum_reg.fit(X_train, y_train)\n",
    "\n",
    "    d_R2 = dum_reg.score(X_test, y_test)\n",
    "    y_pred = dum_reg.predict(X_test)\n",
    "    d_rmse = metrics.mean_squared_error(y_test, y_pred, squared=False)\n",
    "    print(f\"strategy: {strategy.ljust(8)} -> R2={d_R2:.3f} | RMSE={d_rmse:.3f}\")\n",
    "    \n",
    "    if d_rmse < dummy_rmse:\n",
    "        dummy_rmse = d_rmse"
   ]
  },
  {
   "cell_type": "markdown",
   "metadata": {},
   "source": [
    "# Train Non-regularized linear regression"
   ]
  },
  {
   "cell_type": "code",
   "execution_count": 12,
   "metadata": {},
   "outputs": [],
   "source": [
    "from sklearn.linear_model import LinearRegression"
   ]
  },
  {
   "cell_type": "code",
   "execution_count": 13,
   "metadata": {},
   "outputs": [
    {
     "name": "stdout",
     "output_type": "stream",
     "text": [
      "Non-regularized -> R2=0.630 | RMSE=0.667\n"
     ]
    }
   ],
   "source": [
    "linear_reg = LinearRegression()\n",
    "linear_reg.fit(X_train, y_train)\n",
    "noreg_R2 = linear_reg.score(X_test, y_test)\n",
    "y_pred = linear_reg.predict(X_test)\n",
    "noreg_rmse = metrics.mean_squared_error(y_test, y_pred, squared=False)\n",
    "print(f\"Non-regularized -> R2={noreg_R2:.3f} | RMSE={noreg_rmse:.3f}\")"
   ]
  },
  {
   "cell_type": "code",
   "execution_count": 14,
   "metadata": {},
   "outputs": [
    {
     "data": {
      "text/plain": [
       "0.44437009898432467"
      ]
     },
     "execution_count": 14,
     "metadata": {},
     "output_type": "execute_result"
    }
   ],
   "source": [
    "np.mean((y_test-y_pred)**2)"
   ]
  },
  {
   "cell_type": "markdown",
   "metadata": {},
   "source": [
    "# Train Lasso Regression (L1)"
   ]
  },
  {
   "cell_type": "code",
   "execution_count": 15,
   "metadata": {},
   "outputs": [],
   "source": [
    "from sklearn.linear_model import Lasso"
   ]
  },
  {
   "cell_type": "code",
   "execution_count": 16,
   "metadata": {},
   "outputs": [
    {
     "name": "stdout",
     "output_type": "stream",
     "text": [
      "alpha:      0.00001 -> R2=0.630 | RMSE=0.667\n",
      "alpha:      0.00001 -> R2=0.630 | RMSE=0.667\n",
      "alpha:      0.00001 -> R2=0.630 | RMSE=0.667\n",
      "alpha:      0.00001 -> R2=0.630 | RMSE=0.667\n",
      "alpha:      0.00002 -> R2=0.630 | RMSE=0.667\n",
      "alpha:      0.00002 -> R2=0.630 | RMSE=0.667\n",
      "alpha:      0.00002 -> R2=0.630 | RMSE=0.667\n",
      "alpha:      0.00002 -> R2=0.630 | RMSE=0.667\n",
      "alpha:      0.00003 -> R2=0.630 | RMSE=0.667\n",
      "alpha:      0.00003 -> R2=0.630 | RMSE=0.667\n",
      "alpha:      0.00003 -> R2=0.630 | RMSE=0.667\n",
      "alpha:      0.00004 -> R2=0.630 | RMSE=0.667\n",
      "alpha:      0.00004 -> R2=0.630 | RMSE=0.667\n",
      "alpha:      0.00005 -> R2=0.630 | RMSE=0.667\n",
      "alpha:      0.00005 -> R2=0.630 | RMSE=0.667\n",
      "alpha:      0.00006 -> R2=0.630 | RMSE=0.667\n",
      "alpha:      0.00006 -> R2=0.630 | RMSE=0.667\n",
      "alpha:      0.00007 -> R2=0.630 | RMSE=0.667\n",
      "alpha:      0.00008 -> R2=0.630 | RMSE=0.667\n",
      "alpha:      0.00009 -> R2=0.630 | RMSE=0.667\n",
      "alpha:      0.00010 -> R2=0.630 | RMSE=0.667\n",
      "alpha:      0.00011 -> R2=0.630 | RMSE=0.666\n",
      "alpha:      0.00013 -> R2=0.630 | RMSE=0.666\n",
      "alpha:      0.00014 -> R2=0.630 | RMSE=0.666\n",
      "alpha:      0.00016 -> R2=0.630 | RMSE=0.666\n",
      "alpha:      0.00018 -> R2=0.630 | RMSE=0.666\n",
      "alpha:      0.00020 -> R2=0.630 | RMSE=0.666\n",
      "alpha:      0.00023 -> R2=0.630 | RMSE=0.666\n",
      "alpha:      0.00026 -> R2=0.630 | RMSE=0.666\n",
      "alpha:      0.00029 -> R2=0.630 | RMSE=0.666\n",
      "alpha:      0.00032 -> R2=0.630 | RMSE=0.666\n",
      "alpha:      0.00036 -> R2=0.631 | RMSE=0.666\n",
      "alpha:      0.00041 -> R2=0.631 | RMSE=0.666\n",
      "alpha:      0.00046 -> R2=0.631 | RMSE=0.666\n",
      "alpha:      0.00051 -> R2=0.631 | RMSE=0.666\n",
      "alpha:      0.00057 -> R2=0.631 | RMSE=0.666\n",
      "alpha:      0.00064 -> R2=0.631 | RMSE=0.666\n",
      "alpha:      0.00072 -> R2=0.631 | RMSE=0.666\n",
      "alpha:      0.00081 -> R2=0.631 | RMSE=0.666\n",
      "alpha:      0.00091 -> R2=0.631 | RMSE=0.666\n",
      "alpha:      0.00102 -> R2=0.631 | RMSE=0.666\n",
      "alpha:      0.00115 -> R2=0.631 | RMSE=0.665\n",
      "alpha:      0.00129 -> R2=0.632 | RMSE=0.665\n",
      "alpha:      0.00145 -> R2=0.632 | RMSE=0.665\n",
      "alpha:      0.00163 -> R2=0.632 | RMSE=0.665\n",
      "alpha:      0.00183 -> R2=0.632 | RMSE=0.665\n",
      "alpha:      0.00205 -> R2=0.632 | RMSE=0.664\n",
      "alpha:      0.00230 -> R2=0.633 | RMSE=0.664\n",
      "alpha:      0.00258 -> R2=0.633 | RMSE=0.664\n",
      "alpha:      0.00290 -> R2=0.633 | RMSE=0.664\n",
      "alpha:      0.00326 -> R2=0.634 | RMSE=0.663\n",
      "alpha:      0.00365 -> R2=0.634 | RMSE=0.663\n",
      "alpha:      0.00410 -> R2=0.635 | RMSE=0.662\n",
      "alpha:      0.00461 -> R2=0.635 | RMSE=0.662\n",
      "alpha:      0.00517 -> R2=0.636 | RMSE=0.661\n",
      "alpha:      0.00581 -> R2=0.636 | RMSE=0.661\n",
      "alpha:      0.00652 -> R2=0.637 | RMSE=0.660\n",
      "alpha:      0.00732 -> R2=0.638 | RMSE=0.660\n",
      "alpha:      0.00821 -> R2=0.639 | RMSE=0.659\n",
      "alpha:      0.00922 -> R2=0.640 | RMSE=0.658\n",
      "alpha:      0.01035 -> R2=0.641 | RMSE=0.657\n",
      "alpha:      0.01162 -> R2=0.642 | RMSE=0.656\n",
      "alpha:      0.01305 -> R2=0.643 | RMSE=0.655\n",
      "alpha:      0.01465 -> R2=0.644 | RMSE=0.654\n",
      "alpha:      0.01645 -> R2=0.645 | RMSE=0.653\n",
      "alpha:      0.01846 -> R2=0.646 | RMSE=0.652\n",
      "alpha:      0.02073 -> R2=0.647 | RMSE=0.651\n",
      "alpha:      0.02327 -> R2=0.648 | RMSE=0.651\n",
      "alpha:      0.02613 -> R2=0.648 | RMSE=0.650\n",
      "alpha:      0.02933 -> R2=0.649 | RMSE=0.649\n",
      "alpha:      0.03293 -> R2=0.648 | RMSE=0.650\n",
      "alpha:      0.03697 -> R2=0.647 | RMSE=0.651\n",
      "alpha:      0.04150 -> R2=0.645 | RMSE=0.653\n",
      "alpha:      0.04660 -> R2=0.643 | RMSE=0.655\n",
      "alpha:      0.05231 -> R2=0.640 | RMSE=0.657\n",
      "alpha:      0.05873 -> R2=0.637 | RMSE=0.661\n",
      "alpha:      0.06593 -> R2=0.632 | RMSE=0.665\n",
      "alpha:      0.07402 -> R2=0.626 | RMSE=0.670\n",
      "alpha:      0.08310 -> R2=0.622 | RMSE=0.674\n",
      "alpha:      0.09329 -> R2=0.617 | RMSE=0.678\n",
      "alpha:      0.10474 -> R2=0.611 | RMSE=0.684\n",
      "alpha:      0.11758 -> R2=0.606 | RMSE=0.688\n",
      "alpha:      0.13201 -> R2=0.600 | RMSE=0.693\n",
      "alpha:      0.14820 -> R2=0.593 | RMSE=0.700\n",
      "alpha:      0.16638 -> R2=0.583 | RMSE=0.707\n",
      "alpha:      0.18679 -> R2=0.571 | RMSE=0.718\n",
      "alpha:      0.20970 -> R2=0.557 | RMSE=0.730\n",
      "alpha:      0.23543 -> R2=0.539 | RMSE=0.744\n",
      "alpha:      0.26431 -> R2=0.518 | RMSE=0.761\n",
      "alpha:      0.29673 -> R2=0.492 | RMSE=0.781\n",
      "alpha:      0.33313 -> R2=0.461 | RMSE=0.805\n",
      "alpha:      0.37399 -> R2=0.434 | RMSE=0.824\n",
      "alpha:      0.41987 -> R2=0.403 | RMSE=0.847\n",
      "alpha:      0.47138 -> R2=0.363 | RMSE=0.875\n",
      "alpha:      0.52920 -> R2=0.313 | RMSE=0.908\n",
      "alpha:      0.59411 -> R2=0.249 | RMSE=0.950\n",
      "alpha:      0.66699 -> R2=0.162 | RMSE=1.003\n",
      "alpha:      0.74881 -> R2=0.050 | RMSE=1.068\n",
      "alpha:      0.84067 -> R2=-0.069 | RMSE=1.133\n",
      "alpha:      0.94379 -> R2=-0.069 | RMSE=1.133\n",
      "alpha:      1.05956 -> R2=-0.069 | RMSE=1.133\n",
      "alpha:      1.18953 -> R2=-0.069 | RMSE=1.133\n",
      "alpha:      1.33545 -> R2=-0.069 | RMSE=1.133\n",
      "alpha:      1.49927 -> R2=-0.069 | RMSE=1.133\n",
      "alpha:      1.68318 -> R2=-0.069 | RMSE=1.133\n",
      "alpha:      1.88965 -> R2=-0.069 | RMSE=1.133\n",
      "alpha:      2.12145 -> R2=-0.069 | RMSE=1.133\n",
      "alpha:      2.38169 -> R2=-0.069 | RMSE=1.133\n",
      "alpha:      2.67384 -> R2=-0.069 | RMSE=1.133\n",
      "alpha:      3.00184 -> R2=-0.069 | RMSE=1.133\n",
      "alpha:      3.37006 -> R2=-0.069 | RMSE=1.133\n",
      "alpha:      3.78346 -> R2=-0.069 | RMSE=1.133\n",
      "alpha:      4.24757 -> R2=-0.069 | RMSE=1.133\n",
      "alpha:      4.76861 -> R2=-0.069 | RMSE=1.133\n",
      "alpha:      5.35357 -> R2=-0.069 | RMSE=1.133\n",
      "alpha:      6.01028 -> R2=-0.069 | RMSE=1.133\n",
      "alpha:      6.74754 -> R2=-0.069 | RMSE=1.133\n",
      "alpha:      7.57525 -> R2=-0.069 | RMSE=1.133\n",
      "alpha:      8.50449 -> R2=-0.069 | RMSE=1.133\n",
      "alpha:      9.54772 -> R2=-0.069 | RMSE=1.133\n",
      "alpha:     10.71891 -> R2=-0.069 | RMSE=1.133\n",
      "alpha:     12.03378 -> R2=-0.069 | RMSE=1.133\n",
      "alpha:     13.50994 -> R2=-0.069 | RMSE=1.133\n",
      "alpha:     15.16717 -> R2=-0.069 | RMSE=1.133\n",
      "alpha:     17.02769 -> R2=-0.069 | RMSE=1.133\n",
      "alpha:     19.11644 -> R2=-0.069 | RMSE=1.133\n",
      "alpha:     21.46141 -> R2=-0.069 | RMSE=1.133\n",
      "alpha:     24.09404 -> R2=-0.069 | RMSE=1.133\n",
      "alpha:     27.04960 -> R2=-0.069 | RMSE=1.133\n",
      "alpha:     30.36771 -> R2=-0.069 | RMSE=1.133\n",
      "alpha:     34.09285 -> R2=-0.069 | RMSE=1.133\n",
      "alpha:     38.27494 -> R2=-0.069 | RMSE=1.133\n",
      "alpha:     42.97005 -> R2=-0.069 | RMSE=1.133\n",
      "alpha:     48.24109 -> R2=-0.069 | RMSE=1.133\n",
      "alpha:     54.15871 -> R2=-0.069 | RMSE=1.133\n",
      "alpha:     60.80224 -> R2=-0.069 | RMSE=1.133\n",
      "alpha:     68.26072 -> R2=-0.069 | RMSE=1.133\n",
      "alpha:     76.63411 -> R2=-0.069 | RMSE=1.133\n",
      "alpha:     86.03464 -> R2=-0.069 | RMSE=1.133\n",
      "alpha:     96.58832 -> R2=-0.069 | RMSE=1.133\n",
      "alpha:    108.43660 -> R2=-0.069 | RMSE=1.133\n",
      "alpha:    121.73827 -> R2=-0.069 | RMSE=1.133\n",
      "alpha:    136.67164 -> R2=-0.069 | RMSE=1.133\n",
      "alpha:    153.43684 -> R2=-0.069 | RMSE=1.133\n",
      "alpha:    172.25860 -> R2=-0.069 | RMSE=1.133\n",
      "alpha:    193.38918 -> R2=-0.069 | RMSE=1.133\n",
      "alpha:    217.11179 -> R2=-0.069 | RMSE=1.133\n",
      "alpha:    243.74442 -> R2=-0.069 | RMSE=1.133\n",
      "alpha:    273.64400 -> R2=-0.069 | RMSE=1.133\n",
      "alpha:    307.21130 -> R2=-0.069 | RMSE=1.133\n",
      "alpha:    344.89623 -> R2=-0.069 | RMSE=1.133\n",
      "alpha:    387.20388 -> R2=-0.069 | RMSE=1.133\n",
      "alpha:    434.70132 -> R2=-0.069 | RMSE=1.133\n",
      "alpha:    488.02516 -> R2=-0.069 | RMSE=1.133\n",
      "alpha:    547.89012 -> R2=-0.069 | RMSE=1.133\n",
      "alpha:    615.09858 -> R2=-0.069 | RMSE=1.133\n",
      "alpha:    690.55135 -> R2=-0.069 | RMSE=1.133\n",
      "alpha:    775.25975 -> R2=-0.069 | RMSE=1.133\n",
      "alpha:    870.35914 -> R2=-0.069 | RMSE=1.133\n",
      "alpha:    977.12415 -> R2=-0.069 | RMSE=1.133\n",
      "alpha:   1096.98580 -> R2=-0.069 | RMSE=1.133\n",
      "alpha:   1231.55060 -> R2=-0.069 | RMSE=1.133\n",
      "alpha:   1382.62217 -> R2=-0.069 | RMSE=1.133\n",
      "alpha:   1552.22536 -> R2=-0.069 | RMSE=1.133\n",
      "alpha:   1742.63339 -> R2=-0.069 | RMSE=1.133\n",
      "alpha:   1956.39834 -> R2=-0.069 | RMSE=1.133\n",
      "alpha:   2196.38537 -> R2=-0.069 | RMSE=1.133\n",
      "alpha:   2465.81108 -> R2=-0.069 | RMSE=1.133\n",
      "alpha:   2768.28663 -> R2=-0.069 | RMSE=1.133\n",
      "alpha:   3107.86619 -> R2=-0.069 | RMSE=1.133\n",
      "alpha:   3489.10121 -> R2=-0.069 | RMSE=1.133\n",
      "alpha:   3917.10149 -> R2=-0.069 | RMSE=1.133\n",
      "alpha:   4397.60361 -> R2=-0.069 | RMSE=1.133\n",
      "alpha:   4937.04785 -> R2=-0.069 | RMSE=1.133\n",
      "alpha:   5542.66452 -> R2=-0.069 | RMSE=1.133\n",
      "alpha:   6222.57084 -> R2=-0.069 | RMSE=1.133\n",
      "alpha:   6985.87975 -> R2=-0.069 | RMSE=1.133\n",
      "alpha:   7842.82206 -> R2=-0.069 | RMSE=1.133\n",
      "alpha:   8804.88358 -> R2=-0.069 | RMSE=1.133\n",
      "alpha:   9884.95905 -> R2=-0.069 | RMSE=1.133\n",
      "alpha:  11097.52496 -> R2=-0.069 | RMSE=1.133\n",
      "alpha:  12458.83364 -> R2=-0.069 | RMSE=1.133\n",
      "alpha:  13987.13103 -> R2=-0.069 | RMSE=1.133\n",
      "alpha:  15702.90125 -> R2=-0.069 | RMSE=1.133\n",
      "alpha:  17629.14118 -> R2=-0.069 | RMSE=1.133\n",
      "alpha:  19791.66868 -> R2=-0.069 | RMSE=1.133\n"
     ]
    },
    {
     "name": "stdout",
     "output_type": "stream",
     "text": [
      "alpha:  22219.46861 -> R2=-0.069 | RMSE=1.133\n",
      "alpha:  24945.08135 -> R2=-0.069 | RMSE=1.133\n",
      "alpha:  28005.03894 -> R2=-0.069 | RMSE=1.133\n",
      "alpha:  31440.35472 -> R2=-0.069 | RMSE=1.133\n",
      "alpha:  35297.07303 -> R2=-0.069 | RMSE=1.133\n",
      "alpha:  39626.88639 -> R2=-0.069 | RMSE=1.133\n",
      "alpha:  44487.82831 -> R2=-0.069 | RMSE=1.133\n",
      "alpha:  49945.05116 -> R2=-0.069 | RMSE=1.133\n",
      "alpha:  56071.69938 -> R2=-0.069 | RMSE=1.133\n",
      "alpha:  62949.88990 -> R2=-0.069 | RMSE=1.133\n",
      "alpha:  70671.81274 -> R2=-0.069 | RMSE=1.133\n",
      "alpha:  79340.96666 -> R2=-0.069 | RMSE=1.133\n",
      "alpha:  89073.54639 -> R2=-0.069 | RMSE=1.133\n",
      "alpha: 100000.00000 -> R2=-0.069 | RMSE=1.133\n"
     ]
    }
   ],
   "source": [
    "lasso_rmse_log = []\n",
    "lasso_r2_log = []\n",
    "lasso_params = []\n",
    "\n",
    "alphas = np.logspace(-5, 5, 200)\n",
    "for alpha in alphas:\n",
    "    lasso_reg = Lasso(alpha)\n",
    "    lasso_reg.fit(X_train, y_train)\n",
    "    \n",
    "    lasso_r2 = lasso_reg.score(X_test, y_test)\n",
    "    y_pred = lasso_reg.predict(X_test)\n",
    "    lasso_rmse = metrics.mean_squared_error(y_test, y_pred, squared=False)\n",
    "    print(f\"alpha: {alpha:12.5f} -> R2={lasso_r2:.3f} | RMSE={lasso_rmse:.3f}\")\n",
    "       \n",
    "    lasso_r2_log.append(lasso_r2)\n",
    "    lasso_rmse_log.append(lasso_rmse)\n",
    "    lasso_params.append(lasso_reg.coef_)"
   ]
  },
  {
   "cell_type": "markdown",
   "metadata": {},
   "source": [
    "### Plot the Regularization paths & the error evolution"
   ]
  },
  {
   "cell_type": "code",
   "execution_count": 17,
   "metadata": {},
   "outputs": [
    {
     "data": {
      "image/png": "[encoded data removed]",
      "text/plain": [
       "<Figure size 1080x360 with 2 Axes>"
      ]
     },
     "metadata": {
      "needs_background": "light"
     },
     "output_type": "display_data"
    }
   ],
   "source": [
    "fig = plt.figure(figsize=(15,5))\n",
    "\n",
    "plt.subplot(1,2,1)\n",
    "plt.plot([10**-5, 10**5], [dummy_rmse, dummy_rmse], label='Dummy')\n",
    "plt.plot([10**-5, 10**5], [noreg_rmse, noreg_rmse], label='No Reg')\n",
    "plt.plot(alphas, lasso_rmse_log, label='Lasso')\n",
    "plt.title(\"RMSE vs the Regularization term\")\n",
    "plt.xlabel(\"Regularization term\")\n",
    "plt.ylabel(\"RMSE\")\n",
    "plt.plot([0.029, 0.029], [0.64, 1.15], \"k--\")\n",
    "ax = plt.gca()\n",
    "ax.set_xscale('log')\n",
    "ax.legend()\n",
    "\n",
    "plt.subplot(1,2,2)\n",
    "plt.plot(alphas, lasso_params)\n",
    "plt.title(\"Lasso Regularization paths\")\n",
    "plt.xlabel(\"Regularization term\")\n",
    "plt.ylabel(\"Parameter weight\")\n",
    "plt.plot([0.029, 0.029], [-0.2, 0.75], \"k--\")\n",
    "ax = plt.gca()\n",
    "ax.set_xscale('log')"
   ]
  },
  {
   "cell_type": "markdown",
   "metadata": {},
   "source": [
    "### Get the best regularization term \"manually\""
   ]
  },
  {
   "cell_type": "code",
   "execution_count": 18,
   "metadata": {},
   "outputs": [
    {
     "name": "stdout",
     "output_type": "stream",
     "text": [
      "alpha: 0.029 -> R2=0.649 | RMSE=0.649\n"
     ]
    }
   ],
   "source": [
    "lasso_rmse = lasso_rmse_log[np.argmin(lasso_rmse_log)]\n",
    "lasso_R2 =  lasso_r2_log[np.argmin(lasso_rmse_log)]\n",
    "lasso_alpha = alphas[np.argmin(lasso_rmse_log)]\n",
    "print(f\"alpha: {lasso_alpha:.3f} -> R2={lasso_R2:.3f} | RMSE={lasso_rmse:.3f}\")"
   ]
  },
  {
   "cell_type": "markdown",
   "metadata": {},
   "source": [
    "### Get the best regularization term \"automatically\""
   ]
  },
  {
   "cell_type": "code",
   "execution_count": 19,
   "metadata": {},
   "outputs": [],
   "source": [
    "from sklearn.linear_model import LassoCV"
   ]
  },
  {
   "cell_type": "code",
   "execution_count": 20,
   "metadata": {},
   "outputs": [
    {
     "name": "stdout",
     "output_type": "stream",
     "text": [
      "alpha: 0.000 -> R2=0.630 | RMSE=0.667\n"
     ]
    }
   ],
   "source": [
    "lassocv = LassoCV(alphas=alphas, cv=5, random_state=0)\n",
    "lassocv.fit(X_train, y_train)\n",
    "\n",
    "lassocv_R2 = lassocv.score(X_test, y_test)\n",
    "y_pred = lassocv.predict(X_test)\n",
    "lassocv_rmse = metrics.mean_squared_error(y_test, y_pred, squared=False)\n",
    "print(f\"alpha: {lassocv.alpha_:.3f} -> R2={lassocv_R2:.3f} | RMSE={lassocv_rmse:.3f}\")"
   ]
  },
  {
   "cell_type": "markdown",
   "metadata": {},
   "source": [
    "# Train Ridge Regression (L2)"
   ]
  },
  {
   "cell_type": "code",
   "execution_count": 21,
   "metadata": {},
   "outputs": [],
   "source": [
    "from sklearn.linear_model import Ridge "
   ]
  },
  {
   "cell_type": "code",
   "execution_count": 22,
   "metadata": {},
   "outputs": [
    {
     "name": "stdout",
     "output_type": "stream",
     "text": [
      "alpha:      0.00001 -> R2=0.630 | RMSE=0.667\n",
      "alpha:      0.00001 -> R2=0.630 | RMSE=0.667\n",
      "alpha:      0.00001 -> R2=0.630 | RMSE=0.667\n",
      "alpha:      0.00001 -> R2=0.630 | RMSE=0.667\n",
      "alpha:      0.00002 -> R2=0.630 | RMSE=0.667\n",
      "alpha:      0.00002 -> R2=0.630 | RMSE=0.667\n",
      "alpha:      0.00002 -> R2=0.630 | RMSE=0.667\n",
      "alpha:      0.00002 -> R2=0.630 | RMSE=0.667\n",
      "alpha:      0.00003 -> R2=0.630 | RMSE=0.667\n",
      "alpha:      0.00003 -> R2=0.630 | RMSE=0.667\n",
      "alpha:      0.00003 -> R2=0.630 | RMSE=0.667\n",
      "alpha:      0.00004 -> R2=0.630 | RMSE=0.667\n",
      "alpha:      0.00004 -> R2=0.630 | RMSE=0.667\n",
      "alpha:      0.00005 -> R2=0.630 | RMSE=0.667\n",
      "alpha:      0.00005 -> R2=0.630 | RMSE=0.667\n",
      "alpha:      0.00006 -> R2=0.630 | RMSE=0.667\n",
      "alpha:      0.00006 -> R2=0.630 | RMSE=0.667\n",
      "alpha:      0.00007 -> R2=0.630 | RMSE=0.667\n",
      "alpha:      0.00008 -> R2=0.630 | RMSE=0.667\n",
      "alpha:      0.00009 -> R2=0.630 | RMSE=0.667\n",
      "alpha:      0.00010 -> R2=0.630 | RMSE=0.667\n",
      "alpha:      0.00011 -> R2=0.630 | RMSE=0.667\n",
      "alpha:      0.00013 -> R2=0.630 | RMSE=0.667\n",
      "alpha:      0.00014 -> R2=0.630 | RMSE=0.667\n",
      "alpha:      0.00016 -> R2=0.630 | RMSE=0.667\n",
      "alpha:      0.00018 -> R2=0.630 | RMSE=0.667\n",
      "alpha:      0.00020 -> R2=0.630 | RMSE=0.667\n",
      "alpha:      0.00023 -> R2=0.630 | RMSE=0.667\n",
      "alpha:      0.00026 -> R2=0.630 | RMSE=0.667\n",
      "alpha:      0.00029 -> R2=0.630 | RMSE=0.667\n",
      "alpha:      0.00032 -> R2=0.630 | RMSE=0.667\n",
      "alpha:      0.00036 -> R2=0.630 | RMSE=0.667\n",
      "alpha:      0.00041 -> R2=0.630 | RMSE=0.667\n",
      "alpha:      0.00046 -> R2=0.630 | RMSE=0.667\n",
      "alpha:      0.00051 -> R2=0.630 | RMSE=0.667\n",
      "alpha:      0.00057 -> R2=0.630 | RMSE=0.667\n",
      "alpha:      0.00064 -> R2=0.630 | RMSE=0.667\n",
      "alpha:      0.00072 -> R2=0.630 | RMSE=0.667\n",
      "alpha:      0.00081 -> R2=0.630 | RMSE=0.667\n",
      "alpha:      0.00091 -> R2=0.630 | RMSE=0.667\n",
      "alpha:      0.00102 -> R2=0.630 | RMSE=0.667\n",
      "alpha:      0.00115 -> R2=0.630 | RMSE=0.667\n",
      "alpha:      0.00129 -> R2=0.630 | RMSE=0.667\n",
      "alpha:      0.00145 -> R2=0.630 | RMSE=0.667\n",
      "alpha:      0.00163 -> R2=0.630 | RMSE=0.667\n",
      "alpha:      0.00183 -> R2=0.630 | RMSE=0.667\n",
      "alpha:      0.00205 -> R2=0.630 | RMSE=0.667\n",
      "alpha:      0.00230 -> R2=0.630 | RMSE=0.667\n",
      "alpha:      0.00258 -> R2=0.630 | RMSE=0.667\n",
      "alpha:      0.00290 -> R2=0.630 | RMSE=0.667\n",
      "alpha:      0.00326 -> R2=0.630 | RMSE=0.667\n",
      "alpha:      0.00365 -> R2=0.630 | RMSE=0.667\n",
      "alpha:      0.00410 -> R2=0.630 | RMSE=0.667\n",
      "alpha:      0.00461 -> R2=0.630 | RMSE=0.667\n",
      "alpha:      0.00517 -> R2=0.630 | RMSE=0.667\n",
      "alpha:      0.00581 -> R2=0.630 | RMSE=0.667\n",
      "alpha:      0.00652 -> R2=0.630 | RMSE=0.667\n",
      "alpha:      0.00732 -> R2=0.630 | RMSE=0.667\n",
      "alpha:      0.00821 -> R2=0.630 | RMSE=0.667\n",
      "alpha:      0.00922 -> R2=0.630 | RMSE=0.667\n",
      "alpha:      0.01035 -> R2=0.630 | RMSE=0.667\n",
      "alpha:      0.01162 -> R2=0.630 | RMSE=0.667\n",
      "alpha:      0.01305 -> R2=0.630 | RMSE=0.667\n",
      "alpha:      0.01465 -> R2=0.630 | RMSE=0.667\n",
      "alpha:      0.01645 -> R2=0.630 | RMSE=0.666\n",
      "alpha:      0.01846 -> R2=0.630 | RMSE=0.666\n",
      "alpha:      0.02073 -> R2=0.630 | RMSE=0.666\n",
      "alpha:      0.02327 -> R2=0.630 | RMSE=0.666\n",
      "alpha:      0.02613 -> R2=0.630 | RMSE=0.666\n",
      "alpha:      0.02933 -> R2=0.630 | RMSE=0.666\n",
      "alpha:      0.03293 -> R2=0.630 | RMSE=0.666\n",
      "alpha:      0.03697 -> R2=0.630 | RMSE=0.666\n",
      "alpha:      0.04150 -> R2=0.630 | RMSE=0.666\n",
      "alpha:      0.04660 -> R2=0.630 | RMSE=0.666\n",
      "alpha:      0.05231 -> R2=0.631 | RMSE=0.666\n",
      "alpha:      0.05873 -> R2=0.631 | RMSE=0.666\n",
      "alpha:      0.06593 -> R2=0.631 | RMSE=0.666\n",
      "alpha:      0.07402 -> R2=0.631 | RMSE=0.666\n",
      "alpha:      0.08310 -> R2=0.631 | RMSE=0.666\n",
      "alpha:      0.09329 -> R2=0.631 | RMSE=0.666\n",
      "alpha:      0.10474 -> R2=0.631 | RMSE=0.666\n",
      "alpha:      0.11758 -> R2=0.631 | RMSE=0.666\n",
      "alpha:      0.13201 -> R2=0.631 | RMSE=0.666\n",
      "alpha:      0.14820 -> R2=0.631 | RMSE=0.666\n",
      "alpha:      0.16638 -> R2=0.631 | RMSE=0.665\n",
      "alpha:      0.18679 -> R2=0.632 | RMSE=0.665\n",
      "alpha:      0.20970 -> R2=0.632 | RMSE=0.665\n",
      "alpha:      0.23543 -> R2=0.632 | RMSE=0.665\n",
      "alpha:      0.26431 -> R2=0.632 | RMSE=0.665\n",
      "alpha:      0.29673 -> R2=0.632 | RMSE=0.664\n",
      "alpha:      0.33313 -> R2=0.633 | RMSE=0.664\n",
      "alpha:      0.37399 -> R2=0.633 | RMSE=0.664\n",
      "alpha:      0.41987 -> R2=0.633 | RMSE=0.664\n",
      "alpha:      0.47138 -> R2=0.634 | RMSE=0.663\n",
      "alpha:      0.52920 -> R2=0.634 | RMSE=0.663\n",
      "alpha:      0.59411 -> R2=0.635 | RMSE=0.662\n",
      "alpha:      0.66699 -> R2=0.635 | RMSE=0.662\n",
      "alpha:      0.74881 -> R2=0.636 | RMSE=0.662\n",
      "alpha:      0.84067 -> R2=0.636 | RMSE=0.661\n",
      "alpha:      0.94379 -> R2=0.637 | RMSE=0.660\n",
      "alpha:      1.05956 -> R2=0.638 | RMSE=0.660\n",
      "alpha:      1.18953 -> R2=0.639 | RMSE=0.659\n",
      "alpha:      1.33545 -> R2=0.639 | RMSE=0.658\n",
      "alpha:      1.49927 -> R2=0.640 | RMSE=0.657\n",
      "alpha:      1.68318 -> R2=0.641 | RMSE=0.656\n",
      "alpha:      1.88965 -> R2=0.642 | RMSE=0.655\n",
      "alpha:      2.12145 -> R2=0.643 | RMSE=0.654\n",
      "alpha:      2.38169 -> R2=0.645 | RMSE=0.653\n",
      "alpha:      2.67384 -> R2=0.646 | RMSE=0.652\n",
      "alpha:      3.00184 -> R2=0.647 | RMSE=0.651\n",
      "alpha:      3.37006 -> R2=0.648 | RMSE=0.650\n",
      "alpha:      3.78346 -> R2=0.649 | RMSE=0.649\n",
      "alpha:      4.24757 -> R2=0.651 | RMSE=0.648\n",
      "alpha:      4.76861 -> R2=0.652 | RMSE=0.647\n",
      "alpha:      5.35357 -> R2=0.653 | RMSE=0.646\n",
      "alpha:      6.01028 -> R2=0.653 | RMSE=0.645\n",
      "alpha:      6.74754 -> R2=0.654 | RMSE=0.645\n",
      "alpha:      7.57525 -> R2=0.655 | RMSE=0.644\n",
      "alpha:      8.50449 -> R2=0.655 | RMSE=0.644\n",
      "alpha:      9.54772 -> R2=0.654 | RMSE=0.644\n",
      "alpha:     10.71891 -> R2=0.654 | RMSE=0.645\n",
      "alpha:     12.03378 -> R2=0.653 | RMSE=0.646\n",
      "alpha:     13.50994 -> R2=0.651 | RMSE=0.647\n",
      "alpha:     15.16717 -> R2=0.649 | RMSE=0.649\n",
      "alpha:     17.02769 -> R2=0.646 | RMSE=0.652\n",
      "alpha:     19.11644 -> R2=0.643 | RMSE=0.655\n",
      "alpha:     21.46141 -> R2=0.639 | RMSE=0.659\n",
      "alpha:     24.09404 -> R2=0.634 | RMSE=0.663\n",
      "alpha:     27.04960 -> R2=0.629 | RMSE=0.668\n",
      "alpha:     30.36771 -> R2=0.622 | RMSE=0.674\n",
      "alpha:     34.09285 -> R2=0.615 | RMSE=0.680\n",
      "alpha:     38.27494 -> R2=0.607 | RMSE=0.687\n",
      "alpha:     42.97005 -> R2=0.598 | RMSE=0.694\n",
      "alpha:     48.24109 -> R2=0.589 | RMSE=0.703\n",
      "alpha:     54.15871 -> R2=0.579 | RMSE=0.711\n",
      "alpha:     60.80224 -> R2=0.568 | RMSE=0.721\n",
      "alpha:     68.26072 -> R2=0.556 | RMSE=0.731\n",
      "alpha:     76.63411 -> R2=0.543 | RMSE=0.741\n",
      "alpha:     86.03464 -> R2=0.529 | RMSE=0.752\n",
      "alpha:     96.58832 -> R2=0.515 | RMSE=0.763\n",
      "alpha:    108.43660 -> R2=0.500 | RMSE=0.775\n",
      "alpha:    121.73827 -> R2=0.484 | RMSE=0.788\n",
      "alpha:    136.67164 -> R2=0.467 | RMSE=0.800\n",
      "alpha:    153.43684 -> R2=0.449 | RMSE=0.814\n",
      "alpha:    172.25860 -> R2=0.431 | RMSE=0.827\n",
      "alpha:    193.38918 -> R2=0.412 | RMSE=0.841\n",
      "alpha:    217.11179 -> R2=0.392 | RMSE=0.855\n",
      "alpha:    243.74442 -> R2=0.372 | RMSE=0.869\n",
      "alpha:    273.64400 -> R2=0.351 | RMSE=0.883\n",
      "alpha:    307.21130 -> R2=0.330 | RMSE=0.897\n",
      "alpha:    344.89623 -> R2=0.309 | RMSE=0.911\n",
      "alpha:    387.20388 -> R2=0.288 | RMSE=0.925\n",
      "alpha:    434.70132 -> R2=0.267 | RMSE=0.939\n",
      "alpha:    488.02516 -> R2=0.246 | RMSE=0.952\n",
      "alpha:    547.89012 -> R2=0.225 | RMSE=0.965\n",
      "alpha:    615.09858 -> R2=0.205 | RMSE=0.977\n",
      "alpha:    690.55135 -> R2=0.185 | RMSE=0.989\n",
      "alpha:    775.25975 -> R2=0.166 | RMSE=1.001\n",
      "alpha:    870.35914 -> R2=0.148 | RMSE=1.012\n",
      "alpha:    977.12415 -> R2=0.131 | RMSE=1.022\n",
      "alpha:   1096.98580 -> R2=0.114 | RMSE=1.032\n",
      "alpha:   1231.55060 -> R2=0.099 | RMSE=1.041\n",
      "alpha:   1382.62217 -> R2=0.084 | RMSE=1.049\n",
      "alpha:   1552.22536 -> R2=0.071 | RMSE=1.057\n",
      "alpha:   1742.63339 -> R2=0.058 | RMSE=1.064\n",
      "alpha:   1956.39834 -> R2=0.046 | RMSE=1.070\n",
      "alpha:   2196.38537 -> R2=0.035 | RMSE=1.076\n",
      "alpha:   2465.81108 -> R2=0.025 | RMSE=1.082\n",
      "alpha:   2768.28663 -> R2=0.016 | RMSE=1.087\n",
      "alpha:   3107.86619 -> R2=0.008 | RMSE=1.092\n",
      "alpha:   3489.10121 -> R2=0.000 | RMSE=1.096\n",
      "alpha:   3917.10149 -> R2=-0.007 | RMSE=1.100\n",
      "alpha:   4397.60361 -> R2=-0.013 | RMSE=1.103\n",
      "alpha:   4937.04785 -> R2=-0.019 | RMSE=1.106\n",
      "alpha:   5542.66452 -> R2=-0.024 | RMSE=1.109\n",
      "alpha:   6222.57084 -> R2=-0.028 | RMSE=1.111\n",
      "alpha:   6985.87975 -> R2=-0.032 | RMSE=1.114\n",
      "alpha:   7842.82206 -> R2=-0.036 | RMSE=1.116\n",
      "alpha:   8804.88358 -> R2=-0.040 | RMSE=1.118\n",
      "alpha:   9884.95905 -> R2=-0.043 | RMSE=1.119\n",
      "alpha:  11097.52496 -> R2=-0.045 | RMSE=1.121\n",
      "alpha:  12458.83364 -> R2=-0.048 | RMSE=1.122\n",
      "alpha:  13987.13103 -> R2=-0.050 | RMSE=1.123\n",
      "alpha:  15702.90125 -> R2=-0.052 | RMSE=1.124\n",
      "alpha:  17629.14118 -> R2=-0.054 | RMSE=1.125\n",
      "alpha:  19791.66868 -> R2=-0.055 | RMSE=1.126\n",
      "alpha:  22219.46861 -> R2=-0.057 | RMSE=1.127\n",
      "alpha:  24945.08135 -> R2=-0.058 | RMSE=1.127\n",
      "alpha:  28005.03894 -> R2=-0.059 | RMSE=1.128\n",
      "alpha:  31440.35472 -> R2=-0.060 | RMSE=1.129\n",
      "alpha:  35297.07303 -> R2=-0.061 | RMSE=1.129\n",
      "alpha:  39626.88639 -> R2=-0.062 | RMSE=1.129\n",
      "alpha:  44487.82831 -> R2=-0.063 | RMSE=1.130\n",
      "alpha:  49945.05116 -> R2=-0.063 | RMSE=1.130\n",
      "alpha:  56071.69938 -> R2=-0.064 | RMSE=1.130\n",
      "alpha:  62949.88990 -> R2=-0.064 | RMSE=1.131\n",
      "alpha:  70671.81274 -> R2=-0.065 | RMSE=1.131\n"
     ]
    },
    {
     "name": "stdout",
     "output_type": "stream",
     "text": [
      "alpha:  79340.96666 -> R2=-0.065 | RMSE=1.131\n",
      "alpha:  89073.54639 -> R2=-0.066 | RMSE=1.131\n",
      "alpha: 100000.00000 -> R2=-0.066 | RMSE=1.132\n"
     ]
    }
   ],
   "source": [
    "ridge_rmse_log = []\n",
    "ridge_r2_log = []\n",
    "ridge_params = []\n",
    "\n",
    "alphas = np.logspace(-5, 5, 200)\n",
    "\n",
    "for alpha in alphas:\n",
    "    ridge_reg = Ridge(alpha)\n",
    "    ridge_reg.fit(X_train, y_train)\n",
    "    \n",
    "    ridge_r2 = ridge_reg.score(X_test, y_test)\n",
    "    y_pred = ridge_reg.predict(X_test)\n",
    "    ridge_rmse = metrics.mean_squared_error(y_test, y_pred, squared=False)\n",
    "    print(f\"alpha: {alpha:12.5f} -> R2={ridge_r2:.3f} | RMSE={ridge_rmse:.3f}\")\n",
    "       \n",
    "    ridge_r2_log.append(ridge_r2)\n",
    "    ridge_rmse_log.append(ridge_rmse)\n",
    "    ridge_params.append(ridge_reg.coef_)"
   ]
  },
  {
   "cell_type": "markdown",
   "metadata": {},
   "source": [
    "### Plot the Regularization paths & the error evolution"
   ]
  },
  {
   "cell_type": "code",
   "execution_count": 23,
   "metadata": {},
   "outputs": [
    {
     "data": {
      "image/png": "[encoded data removed]",
      "text/plain": [
       "<Figure size 1080x360 with 2 Axes>"
      ]
     },
     "metadata": {
      "needs_background": "light"
     },
     "output_type": "display_data"
    }
   ],
   "source": [
    "fig = plt.figure(figsize=(15,5))\n",
    "\n",
    "plt.subplot(1,2,1)\n",
    "plt.plot([10**-5, 10**5], [dummy_rmse, dummy_rmse], label='Dummy')\n",
    "plt.plot([10**-5, 10**5], [noreg_rmse, noreg_rmse], label='No Reg')\n",
    "plt.plot(alphas, lasso_rmse_log, label='Lasso')\n",
    "plt.plot(alphas, ridge_rmse_log, label='Ridge')\n",
    "plt.title(\"RMSE vs the Regularization term\")\n",
    "plt.xlabel(\"Regularization term\")\n",
    "plt.ylabel(\"RMSE\")\n",
    "plt.plot([8.504, 8.504], [0.64, 1.15], \"k--\")\n",
    "ax = plt.gca()\n",
    "ax.set_xscale('log')\n",
    "ax.legend()\n",
    "\n",
    "plt.subplot(1,2,2)\n",
    "plt.plot(alphas, ridge_params)\n",
    "plt.title(\"Ridge Regularization paths\")\n",
    "plt.xlabel(\"Regularization term\")\n",
    "plt.ylabel(\"Parameter weight\")\n",
    "plt.plot([8.504, 8.504], [-0.2, 0.75], \"k--\")\n",
    "ax = plt.gca()\n",
    "ax.set_xscale('log')"
   ]
  },
  {
   "cell_type": "markdown",
   "metadata": {},
   "source": [
    "### Get the best regularization term \"manually\""
   ]
  },
  {
   "cell_type": "code",
   "execution_count": 24,
   "metadata": {},
   "outputs": [
    {
     "name": "stdout",
     "output_type": "stream",
     "text": [
      "alpha: 8.504 -> R2=0.655 | RMSE=0.644\n"
     ]
    }
   ],
   "source": [
    "ridge_rmse = ridge_rmse_log[np.argmin(ridge_rmse_log)]\n",
    "ridge_R2 =  ridge_r2_log[np.argmin(ridge_rmse_log)]\n",
    "alpha = alphas[np.argmin(ridge_rmse_log)]\n",
    "print(f\"alpha: {alpha:.3f} -> R2={ridge_R2:.3f} | RMSE={ridge_rmse:.3f}\")"
   ]
  },
  {
   "cell_type": "markdown",
   "metadata": {},
   "source": [
    "### Get the best regularization term \"automatically\""
   ]
  },
  {
   "cell_type": "code",
   "execution_count": 25,
   "metadata": {},
   "outputs": [],
   "source": [
    "from sklearn.linear_model import RidgeCV"
   ]
  },
  {
   "cell_type": "code",
   "execution_count": 26,
   "metadata": {
    "scrolled": true
   },
   "outputs": [
    {
     "name": "stdout",
     "output_type": "stream",
     "text": [
      "alpha: 3.002 -> R2=0.647 | RMSE=0.651\n"
     ]
    }
   ],
   "source": [
    "ridgecv = RidgeCV(alphas, cv=5)\n",
    "ridgecv.fit(X_train, y_train)\n",
    "\n",
    "ridgecv_R2 = ridgecv.score(X_test, y_test)\n",
    "y_pred = ridgecv.predict(X_test)\n",
    "ridgecv_rmse = metrics.mean_squared_error(y_test, y_pred, squared=False)\n",
    "print(f\"alpha: {ridgecv.alpha_:.3f} -> R2={ridgecv_R2:.3f} | RMSE={ridgecv_rmse:.3f}\")"
   ]
  },
  {
   "cell_type": "markdown",
   "metadata": {},
   "source": [
    "# Train Elastic-Net (L1 + L2)"
   ]
  },
  {
   "cell_type": "code",
   "execution_count": 27,
   "metadata": {},
   "outputs": [],
   "source": [
    "from sklearn.linear_model import ElasticNet"
   ]
  },
  {
   "cell_type": "code",
   "execution_count": 28,
   "metadata": {},
   "outputs": [
    {
     "name": "stdout",
     "output_type": "stream",
     "text": [
      "alpha:      0.00001 -> R2=0.630 | RMSE=0.667\n",
      "alpha:      0.00001 -> R2=0.630 | RMSE=0.667\n",
      "alpha:      0.00001 -> R2=0.630 | RMSE=0.667\n",
      "alpha:      0.00001 -> R2=0.630 | RMSE=0.667\n",
      "alpha:      0.00002 -> R2=0.630 | RMSE=0.667\n",
      "alpha:      0.00002 -> R2=0.630 | RMSE=0.667\n",
      "alpha:      0.00002 -> R2=0.630 | RMSE=0.667\n",
      "alpha:      0.00002 -> R2=0.630 | RMSE=0.667\n",
      "alpha:      0.00003 -> R2=0.630 | RMSE=0.667\n",
      "alpha:      0.00003 -> R2=0.630 | RMSE=0.667\n",
      "alpha:      0.00003 -> R2=0.630 | RMSE=0.667\n",
      "alpha:      0.00004 -> R2=0.630 | RMSE=0.667\n",
      "alpha:      0.00004 -> R2=0.630 | RMSE=0.667\n",
      "alpha:      0.00005 -> R2=0.630 | RMSE=0.667\n",
      "alpha:      0.00005 -> R2=0.630 | RMSE=0.667\n",
      "alpha:      0.00006 -> R2=0.630 | RMSE=0.667\n",
      "alpha:      0.00006 -> R2=0.630 | RMSE=0.667\n",
      "alpha:      0.00007 -> R2=0.630 | RMSE=0.667\n",
      "alpha:      0.00008 -> R2=0.630 | RMSE=0.667\n",
      "alpha:      0.00009 -> R2=0.630 | RMSE=0.667\n",
      "alpha:      0.00010 -> R2=0.630 | RMSE=0.667\n",
      "alpha:      0.00011 -> R2=0.630 | RMSE=0.667\n",
      "alpha:      0.00013 -> R2=0.630 | RMSE=0.667\n",
      "alpha:      0.00014 -> R2=0.630 | RMSE=0.667\n",
      "alpha:      0.00016 -> R2=0.630 | RMSE=0.666\n",
      "alpha:      0.00018 -> R2=0.630 | RMSE=0.666\n",
      "alpha:      0.00020 -> R2=0.630 | RMSE=0.666\n",
      "alpha:      0.00023 -> R2=0.630 | RMSE=0.666\n",
      "alpha:      0.00026 -> R2=0.630 | RMSE=0.666\n",
      "alpha:      0.00029 -> R2=0.630 | RMSE=0.666\n",
      "alpha:      0.00032 -> R2=0.630 | RMSE=0.666\n",
      "alpha:      0.00036 -> R2=0.630 | RMSE=0.666\n",
      "alpha:      0.00041 -> R2=0.630 | RMSE=0.666\n",
      "alpha:      0.00046 -> R2=0.630 | RMSE=0.666\n",
      "alpha:      0.00051 -> R2=0.630 | RMSE=0.666\n",
      "alpha:      0.00057 -> R2=0.631 | RMSE=0.666\n",
      "alpha:      0.00064 -> R2=0.631 | RMSE=0.666\n",
      "alpha:      0.00072 -> R2=0.631 | RMSE=0.666\n",
      "alpha:      0.00081 -> R2=0.631 | RMSE=0.666\n",
      "alpha:      0.00091 -> R2=0.631 | RMSE=0.666\n",
      "alpha:      0.00102 -> R2=0.631 | RMSE=0.666\n",
      "alpha:      0.00115 -> R2=0.631 | RMSE=0.666\n",
      "alpha:      0.00129 -> R2=0.631 | RMSE=0.666\n",
      "alpha:      0.00145 -> R2=0.631 | RMSE=0.666\n",
      "alpha:      0.00163 -> R2=0.631 | RMSE=0.665\n",
      "alpha:      0.00183 -> R2=0.631 | RMSE=0.665\n",
      "alpha:      0.00205 -> R2=0.632 | RMSE=0.665\n",
      "alpha:      0.00230 -> R2=0.632 | RMSE=0.665\n",
      "alpha:      0.00258 -> R2=0.632 | RMSE=0.665\n",
      "alpha:      0.00290 -> R2=0.632 | RMSE=0.665\n",
      "alpha:      0.00326 -> R2=0.633 | RMSE=0.664\n",
      "alpha:      0.00365 -> R2=0.633 | RMSE=0.664\n",
      "alpha:      0.00410 -> R2=0.633 | RMSE=0.664\n",
      "alpha:      0.00461 -> R2=0.633 | RMSE=0.664\n",
      "alpha:      0.00517 -> R2=0.634 | RMSE=0.663\n",
      "alpha:      0.00581 -> R2=0.634 | RMSE=0.663\n",
      "alpha:      0.00652 -> R2=0.635 | RMSE=0.662\n",
      "alpha:      0.00732 -> R2=0.635 | RMSE=0.662\n",
      "alpha:      0.00821 -> R2=0.636 | RMSE=0.661\n",
      "alpha:      0.00922 -> R2=0.637 | RMSE=0.661\n",
      "alpha:      0.01035 -> R2=0.637 | RMSE=0.660\n",
      "alpha:      0.01162 -> R2=0.638 | RMSE=0.659\n",
      "alpha:      0.01305 -> R2=0.639 | RMSE=0.659\n",
      "alpha:      0.01465 -> R2=0.640 | RMSE=0.658\n",
      "alpha:      0.01645 -> R2=0.641 | RMSE=0.657\n",
      "alpha:      0.01846 -> R2=0.642 | RMSE=0.656\n",
      "alpha:      0.02073 -> R2=0.643 | RMSE=0.655\n",
      "alpha:      0.02327 -> R2=0.644 | RMSE=0.654\n",
      "alpha:      0.02613 -> R2=0.645 | RMSE=0.653\n",
      "alpha:      0.02933 -> R2=0.646 | RMSE=0.652\n",
      "alpha:      0.03293 -> R2=0.647 | RMSE=0.651\n",
      "alpha:      0.03697 -> R2=0.649 | RMSE=0.650\n",
      "alpha:      0.04150 -> R2=0.650 | RMSE=0.649\n",
      "alpha:      0.04660 -> R2=0.651 | RMSE=0.648\n",
      "alpha:      0.05231 -> R2=0.651 | RMSE=0.647\n",
      "alpha:      0.05873 -> R2=0.652 | RMSE=0.647\n",
      "alpha:      0.06593 -> R2=0.652 | RMSE=0.646\n",
      "alpha:      0.07402 -> R2=0.652 | RMSE=0.647\n",
      "alpha:      0.08310 -> R2=0.651 | RMSE=0.648\n",
      "alpha:      0.09329 -> R2=0.649 | RMSE=0.649\n",
      "alpha:      0.10474 -> R2=0.647 | RMSE=0.652\n",
      "alpha:      0.11758 -> R2=0.644 | RMSE=0.654\n",
      "alpha:      0.13201 -> R2=0.640 | RMSE=0.658\n",
      "alpha:      0.14820 -> R2=0.635 | RMSE=0.662\n",
      "alpha:      0.16638 -> R2=0.629 | RMSE=0.667\n",
      "alpha:      0.18679 -> R2=0.622 | RMSE=0.674\n",
      "alpha:      0.20970 -> R2=0.614 | RMSE=0.681\n",
      "alpha:      0.23543 -> R2=0.607 | RMSE=0.687\n",
      "alpha:      0.26431 -> R2=0.599 | RMSE=0.694\n",
      "alpha:      0.29673 -> R2=0.589 | RMSE=0.703\n",
      "alpha:      0.33313 -> R2=0.578 | RMSE=0.712\n",
      "alpha:      0.37399 -> R2=0.568 | RMSE=0.721\n",
      "alpha:      0.41987 -> R2=0.555 | RMSE=0.731\n",
      "alpha:      0.47138 -> R2=0.541 | RMSE=0.743\n",
      "alpha:      0.52920 -> R2=0.523 | RMSE=0.757\n",
      "alpha:      0.59411 -> R2=0.503 | RMSE=0.772\n",
      "alpha:      0.66699 -> R2=0.480 | RMSE=0.790\n",
      "alpha:      0.74881 -> R2=0.453 | RMSE=0.811\n",
      "alpha:      0.84067 -> R2=0.422 | RMSE=0.833\n",
      "alpha:      0.94379 -> R2=0.388 | RMSE=0.858\n",
      "alpha:      1.05956 -> R2=0.348 | RMSE=0.885\n",
      "alpha:      1.18953 -> R2=0.304 | RMSE=0.915\n",
      "alpha:      1.33545 -> R2=0.254 | RMSE=0.947\n",
      "alpha:      1.49927 -> R2=0.203 | RMSE=0.979\n",
      "alpha:      1.68318 -> R2=0.155 | RMSE=1.007\n",
      "alpha:      1.88965 -> R2=0.105 | RMSE=1.037\n",
      "alpha:      2.12145 -> R2=0.052 | RMSE=1.067\n",
      "alpha:      2.38169 -> R2=-0.004 | RMSE=1.098\n",
      "alpha:      2.67384 -> R2=-0.056 | RMSE=1.126\n",
      "alpha:      3.00184 -> R2=-0.069 | RMSE=1.133\n",
      "alpha:      3.37006 -> R2=-0.069 | RMSE=1.133\n",
      "alpha:      3.78346 -> R2=-0.069 | RMSE=1.133\n",
      "alpha:      4.24757 -> R2=-0.069 | RMSE=1.133\n",
      "alpha:      4.76861 -> R2=-0.069 | RMSE=1.133\n",
      "alpha:      5.35357 -> R2=-0.069 | RMSE=1.133\n",
      "alpha:      6.01028 -> R2=-0.069 | RMSE=1.133\n",
      "alpha:      6.74754 -> R2=-0.069 | RMSE=1.133\n",
      "alpha:      7.57525 -> R2=-0.069 | RMSE=1.133\n",
      "alpha:      8.50449 -> R2=-0.069 | RMSE=1.133\n",
      "alpha:      9.54772 -> R2=-0.069 | RMSE=1.133\n",
      "alpha:     10.71891 -> R2=-0.069 | RMSE=1.133\n",
      "alpha:     12.03378 -> R2=-0.069 | RMSE=1.133\n",
      "alpha:     13.50994 -> R2=-0.069 | RMSE=1.133\n",
      "alpha:     15.16717 -> R2=-0.069 | RMSE=1.133\n",
      "alpha:     17.02769 -> R2=-0.069 | RMSE=1.133\n",
      "alpha:     19.11644 -> R2=-0.069 | RMSE=1.133\n",
      "alpha:     21.46141 -> R2=-0.069 | RMSE=1.133\n",
      "alpha:     24.09404 -> R2=-0.069 | RMSE=1.133\n",
      "alpha:     27.04960 -> R2=-0.069 | RMSE=1.133\n",
      "alpha:     30.36771 -> R2=-0.069 | RMSE=1.133\n",
      "alpha:     34.09285 -> R2=-0.069 | RMSE=1.133\n",
      "alpha:     38.27494 -> R2=-0.069 | RMSE=1.133\n",
      "alpha:     42.97005 -> R2=-0.069 | RMSE=1.133\n",
      "alpha:     48.24109 -> R2=-0.069 | RMSE=1.133\n",
      "alpha:     54.15871 -> R2=-0.069 | RMSE=1.133\n",
      "alpha:     60.80224 -> R2=-0.069 | RMSE=1.133\n",
      "alpha:     68.26072 -> R2=-0.069 | RMSE=1.133\n",
      "alpha:     76.63411 -> R2=-0.069 | RMSE=1.133\n",
      "alpha:     86.03464 -> R2=-0.069 | RMSE=1.133\n",
      "alpha:     96.58832 -> R2=-0.069 | RMSE=1.133\n",
      "alpha:    108.43660 -> R2=-0.069 | RMSE=1.133\n",
      "alpha:    121.73827 -> R2=-0.069 | RMSE=1.133\n",
      "alpha:    136.67164 -> R2=-0.069 | RMSE=1.133\n",
      "alpha:    153.43684 -> R2=-0.069 | RMSE=1.133\n",
      "alpha:    172.25860 -> R2=-0.069 | RMSE=1.133\n",
      "alpha:    193.38918 -> R2=-0.069 | RMSE=1.133\n",
      "alpha:    217.11179 -> R2=-0.069 | RMSE=1.133\n",
      "alpha:    243.74442 -> R2=-0.069 | RMSE=1.133\n",
      "alpha:    273.64400 -> R2=-0.069 | RMSE=1.133\n",
      "alpha:    307.21130 -> R2=-0.069 | RMSE=1.133\n",
      "alpha:    344.89623 -> R2=-0.069 | RMSE=1.133\n",
      "alpha:    387.20388 -> R2=-0.069 | RMSE=1.133\n",
      "alpha:    434.70132 -> R2=-0.069 | RMSE=1.133\n",
      "alpha:    488.02516 -> R2=-0.069 | RMSE=1.133\n",
      "alpha:    547.89012 -> R2=-0.069 | RMSE=1.133\n",
      "alpha:    615.09858 -> R2=-0.069 | RMSE=1.133\n",
      "alpha:    690.55135 -> R2=-0.069 | RMSE=1.133\n",
      "alpha:    775.25975 -> R2=-0.069 | RMSE=1.133\n",
      "alpha:    870.35914 -> R2=-0.069 | RMSE=1.133\n",
      "alpha:    977.12415 -> R2=-0.069 | RMSE=1.133\n",
      "alpha:   1096.98580 -> R2=-0.069 | RMSE=1.133\n",
      "alpha:   1231.55060 -> R2=-0.069 | RMSE=1.133\n",
      "alpha:   1382.62217 -> R2=-0.069 | RMSE=1.133\n",
      "alpha:   1552.22536 -> R2=-0.069 | RMSE=1.133\n",
      "alpha:   1742.63339 -> R2=-0.069 | RMSE=1.133\n",
      "alpha:   1956.39834 -> R2=-0.069 | RMSE=1.133\n",
      "alpha:   2196.38537 -> R2=-0.069 | RMSE=1.133\n",
      "alpha:   2465.81108 -> R2=-0.069 | RMSE=1.133\n",
      "alpha:   2768.28663 -> R2=-0.069 | RMSE=1.133\n",
      "alpha:   3107.86619 -> R2=-0.069 | RMSE=1.133\n",
      "alpha:   3489.10121 -> R2=-0.069 | RMSE=1.133\n",
      "alpha:   3917.10149 -> R2=-0.069 | RMSE=1.133\n",
      "alpha:   4397.60361 -> R2=-0.069 | RMSE=1.133\n",
      "alpha:   4937.04785 -> R2=-0.069 | RMSE=1.133\n",
      "alpha:   5542.66452 -> R2=-0.069 | RMSE=1.133\n",
      "alpha:   6222.57084 -> R2=-0.069 | RMSE=1.133\n",
      "alpha:   6985.87975 -> R2=-0.069 | RMSE=1.133\n",
      "alpha:   7842.82206 -> R2=-0.069 | RMSE=1.133\n",
      "alpha:   8804.88358 -> R2=-0.069 | RMSE=1.133\n",
      "alpha:   9884.95905 -> R2=-0.069 | RMSE=1.133\n",
      "alpha:  11097.52496 -> R2=-0.069 | RMSE=1.133\n",
      "alpha:  12458.83364 -> R2=-0.069 | RMSE=1.133\n",
      "alpha:  13987.13103 -> R2=-0.069 | RMSE=1.133\n",
      "alpha:  15702.90125 -> R2=-0.069 | RMSE=1.133\n",
      "alpha:  17629.14118 -> R2=-0.069 | RMSE=1.133\n"
     ]
    },
    {
     "name": "stdout",
     "output_type": "stream",
     "text": [
      "alpha:  19791.66868 -> R2=-0.069 | RMSE=1.133\n",
      "alpha:  22219.46861 -> R2=-0.069 | RMSE=1.133\n",
      "alpha:  24945.08135 -> R2=-0.069 | RMSE=1.133\n",
      "alpha:  28005.03894 -> R2=-0.069 | RMSE=1.133\n",
      "alpha:  31440.35472 -> R2=-0.069 | RMSE=1.133\n",
      "alpha:  35297.07303 -> R2=-0.069 | RMSE=1.133\n",
      "alpha:  39626.88639 -> R2=-0.069 | RMSE=1.133\n",
      "alpha:  44487.82831 -> R2=-0.069 | RMSE=1.133\n",
      "alpha:  49945.05116 -> R2=-0.069 | RMSE=1.133\n",
      "alpha:  56071.69938 -> R2=-0.069 | RMSE=1.133\n",
      "alpha:  62949.88990 -> R2=-0.069 | RMSE=1.133\n",
      "alpha:  70671.81274 -> R2=-0.069 | RMSE=1.133\n",
      "alpha:  79340.96666 -> R2=-0.069 | RMSE=1.133\n",
      "alpha:  89073.54639 -> R2=-0.069 | RMSE=1.133\n",
      "alpha: 100000.00000 -> R2=-0.069 | RMSE=1.133\n"
     ]
    }
   ],
   "source": [
    "elastic_rmse_log = []\n",
    "elastic_r2_log = []\n",
    "elastic_params = []\n",
    "\n",
    "alphas = np.logspace(-5, 5, 200)\n",
    "l1r = 0.3\n",
    "for alpha in alphas:\n",
    "    elastic_reg = ElasticNet(alpha, l1_ratio=l1r)\n",
    "    elastic_reg.fit(X_train, y_train)\n",
    "    \n",
    "    elastic_r2 = elastic_reg.score(X_test, y_test)\n",
    "    y_pred = elastic_reg.predict(X_test)\n",
    "    elastic_rmse = metrics.mean_squared_error(y_test, y_pred, squared=False)\n",
    "    print(f\"alpha: {alpha:12.5f} -> R2={elastic_r2:.3f} | RMSE={elastic_rmse:.3f}\")\n",
    "       \n",
    "    elastic_r2_log.append(elastic_r2)\n",
    "    elastic_rmse_log.append(elastic_rmse)\n",
    "    elastic_params.append(elastic_reg.coef_)"
   ]
  },
  {
   "cell_type": "markdown",
   "metadata": {},
   "source": [
    "### Plot the Regularization paths & the error evolution"
   ]
  },
  {
   "cell_type": "code",
   "execution_count": 29,
   "metadata": {},
   "outputs": [
    {
     "data": {
      "image/png": "[encoded data removed]",
      "text/plain": [
       "<Figure size 1080x360 with 2 Axes>"
      ]
     },
     "metadata": {
      "needs_background": "light"
     },
     "output_type": "display_data"
    }
   ],
   "source": [
    "fig = plt.figure(figsize=(15,5))\n",
    "\n",
    "plt.subplot(1,2,1)\n",
    "plt.plot([10**-5, 10**5], [dummy_rmse, dummy_rmse], label='Dummy')\n",
    "plt.plot([10**-5, 10**5], [noreg_rmse, noreg_rmse], label='No Reg')\n",
    "plt.plot(alphas, lasso_rmse_log, label='Lasso')\n",
    "plt.plot(alphas, ridge_rmse_log, label='Ridge')\n",
    "plt.plot(alphas, elastic_rmse_log, label='Elastic-Net')\n",
    "plt.title(\"RMSE vs the Regularization term\")\n",
    "plt.xlabel(\"Regularization term\")\n",
    "plt.ylabel(\"RMSE\")\n",
    "plt.plot([0.066, 0.066], [0.64, 1.15], \"k--\")\n",
    "ax = plt.gca()\n",
    "ax.set_xscale('log')\n",
    "ax.legend()\n",
    "\n",
    "plt.subplot(1,2,2)\n",
    "plt.plot(alphas, elastic_params)\n",
    "plt.title(\"Elastic-Net Regularization paths\")\n",
    "plt.xlabel(\"Regularization term\")\n",
    "plt.ylabel(\"Parameter weight\")\n",
    "plt.plot([0.066, 0.066], [-0.2, 0.75], \"k--\")\n",
    "ax = plt.gca()\n",
    "ax.set_xscale('log')"
   ]
  },
  {
   "cell_type": "markdown",
   "metadata": {},
   "source": [
    "### Get the best regularization term \"manually\""
   ]
  },
  {
   "cell_type": "code",
   "execution_count": 30,
   "metadata": {},
   "outputs": [
    {
     "name": "stdout",
     "output_type": "stream",
     "text": [
      "alpha: 0.06593 -> R2=0.652 | RMSE=0.646\n"
     ]
    }
   ],
   "source": [
    "elastic_rmse = elastic_rmse_log[np.argmin(elastic_rmse_log)]\n",
    "elastic_R2 =  elastic_r2_log[np.argmin(elastic_rmse_log)]\n",
    "elastic_alpha = alphas[np.argmin(elastic_rmse_log)]\n",
    "print(f\"alpha: {elastic_alpha:.5f} -> R2={elastic_R2:.3f} | RMSE={elastic_rmse:.3f}\")"
   ]
  },
  {
   "cell_type": "markdown",
   "metadata": {},
   "source": [
    "### Get the best regularization term \"automatically\""
   ]
  },
  {
   "cell_type": "code",
   "execution_count": 31,
   "metadata": {},
   "outputs": [],
   "source": [
    "from sklearn.linear_model import ElasticNetCV"
   ]
  },
  {
   "cell_type": "code",
   "execution_count": 32,
   "metadata": {},
   "outputs": [
    {
     "name": "stdout",
     "output_type": "stream",
     "text": [
      "alpha: 0.00051 -> R2=0.631 | RMSE=0.666\n"
     ]
    }
   ],
   "source": [
    "elasticcv = ElasticNetCV(alphas=alphas, cv=5, random_state=0, l1_ratio=0.5)\n",
    "elasticcv.fit(X_train, y_train)\n",
    "\n",
    "elasticcv_R2 = elasticcv.score(X_test, y_test)\n",
    "y_pred = elasticcv.predict(X_test)\n",
    "elasticcv_rmse = metrics.mean_squared_error(y_test, y_pred, squared=False)\n",
    "print(f\"alpha: {elasticcv.alpha_:.5f} -> R2={elasticcv_R2:.3f} | RMSE={elasticcv_rmse:.3f}\")"
   ]
  },
  {
   "cell_type": "code",
   "execution_count": null,
   "metadata": {},
   "outputs": [],
   "source": []
  },
  {
   "cell_type": "markdown",
   "metadata": {},
   "source": [
    "# Conclusion\n",
    "with this train/cv/test split, the Ridge Regression seems to produce the best results... but it would probably be different with more data or a K-Fold"
   ]
  }
 ],
 "metadata": {
  "kernelspec": {
   "display_name": "Python 3",
   "language": "python",
   "name": "python3"
  },
  "language_info": {
   "codemirror_mode": {
    "name": "ipython",
    "version": 3
   },
   "file_extension": ".py",
   "mimetype": "text/x-python",
   "name": "python",
   "nbconvert_exporter": "python",
   "pygments_lexer": "ipython3",
   "version": "3.8.10"
  }
 },
 "nbformat": 4,
 "nbformat_minor": 4
}
