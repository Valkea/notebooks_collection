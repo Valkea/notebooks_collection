{
 "cells": [
  {
   "cell_type": "code",
   "execution_count": 5,
   "metadata": {},
   "outputs": [],
   "source": [
    "from sklearn.metrics import f1_score, roc_auc_score\n",
    "from sklearn.metrics import classification_report, confusion_matrix, plot_confusion_matrix"
   ]
  },
  {
   "cell_type": "code",
   "execution_count": 1,
   "metadata": {},
   "outputs": [],
   "source": [
    "import numpy as np\n",
    "\n",
    "X = np.array([-1, 1, 1, 1])\n",
    "y = np.array([0, 1, 1, 1])"
   ]
  },
  {
   "cell_type": "code",
   "execution_count": 2,
   "metadata": {},
   "outputs": [
    {
     "name": "stdout",
     "output_type": "stream",
     "text": [
      "Strategy: stratified    -> accuracy: 0.75 | F1 score: 0.40\n",
      "Strategy: most_frequent -> accuracy: 0.75 | F1 score: 0.86\n",
      "Strategy: prior         -> accuracy: 0.75 | F1 score: 0.86\n",
      "Strategy: uniform       -> accuracy: 1.00 | F1 score: 0.40\n",
      "Strategy: constant      -> accuracy: 0.75 | F1 score: 0.86\n"
     ]
    }
   ],
   "source": [
    "from sklearn.dummy import DummyClassifier\n",
    "from sklearn.metrics import f1_score\n",
    "\n",
    "strategies = ['stratified', 'most_frequent', 'prior', 'uniform', 'constant']\n",
    "constant_value = 1\n",
    "\n",
    "for strategy in strategies:\n",
    "    dummy_clf = DummyClassifier(strategy=strategy, constant=constant_value)\n",
    "    dummy_clf.fit(X, y)\n",
    "    \n",
    "    y_pred = dummy_clf.predict(X)\n",
    "    print(f\"Strategy: {strategy.ljust(13)} -> accuracy: {dummy_clf.score(X, y):.2f} | F1 score: {f1_score(y, y_pred):.2f}\")\n"
   ]
  },
  {
   "cell_type": "code",
   "execution_count": 3,
   "metadata": {},
   "outputs": [
    {
     "name": "stdout",
     "output_type": "stream",
     "text": [
      "Strategy: mean     -> R2: 0.00 | MSE: 0.43\n",
      "Strategy: median   -> R2: -0.33 | MSE: 0.50\n",
      "Strategy: quantile -> R2: -0.12 | MSE: 0.46\n",
      "Strategy: constant -> R2: -0.33 | MSE: 0.50\n"
     ]
    }
   ],
   "source": [
    "from sklearn.dummy import DummyRegressor\n",
    "from sklearn.metrics import mean_squared_error, mean_absolute_error\n",
    "\n",
    "strategies = ['mean', 'median', 'quantile', 'constant']\n",
    "quantile_value = 0.2\n",
    "constant_value = 1\n",
    "\n",
    "for strategy in strategies:\n",
    "    dummy_reg = DummyRegressor(strategy=strategy, constant=constant_value, quantile=quantile_value)\n",
    "    dummy_reg.fit(X, y)\n",
    "    \n",
    "    y_pred = dummy_reg.predict(X)\n",
    "    print(f\"Strategy: {strategy.ljust(8)} -> R2: {dummy_reg.score(X, y):.2f} | MSE: {mean_squared_error(y, y_pred, squared=False):.2f}\")\n"
   ]
  },
  {
   "cell_type": "code",
   "execution_count": 6,
   "metadata": {},
   "outputs": [
    {
     "name": "stdout",
     "output_type": "stream",
     "text": [
      "[[0 1]\n",
      " [0 3]]\n"
     ]
    }
   ],
   "source": [
    "print(confusion_matrix(y, y_pred))"
   ]
  },
  {
   "cell_type": "code",
   "execution_count": 7,
   "metadata": {},
   "outputs": [
    {
     "name": "stderr",
     "output_type": "stream",
     "text": [
      "/home/valkea/.local/lib/python3.8/site-packages/sklearn/utils/deprecation.py:87: FutureWarning: Function plot_confusion_matrix is deprecated; Function `plot_confusion_matrix` is deprecated in 1.0 and will be removed in 1.2. Use one of the class methods: ConfusionMatrixDisplay.from_predictions or ConfusionMatrixDisplay.from_estimator.\n",
      "  warnings.warn(msg, category=FutureWarning)\n"
     ]
    },
    {
     "data": {
      "text/plain": [
       "<sklearn.metrics._plot.confusion_matrix.ConfusionMatrixDisplay at 0x7f2cc42dabe0>"
      ]
     },
     "execution_count": 7,
     "metadata": {},
     "output_type": "execute_result"
    },
    {
     "data": {
      "image/png": "[encoded data removed]",
      "text/plain": [
       "<Figure size 432x288 with 2 Axes>"
      ]
     },
     "metadata": {
      "needs_background": "light"
     },
     "output_type": "display_data"
    }
   ],
   "source": [
    "plot_confusion_matrix(dummy_clf, X, y)"
   ]
  },
  {
   "cell_type": "code",
   "execution_count": 8,
   "metadata": {},
   "outputs": [
    {
     "name": "stdout",
     "output_type": "stream",
     "text": [
      "              precision    recall  f1-score   support\n",
      "\n",
      "           0       0.00      0.00      0.00         1\n",
      "           1       0.75      1.00      0.86         3\n",
      "\n",
      "    accuracy                           0.75         4\n",
      "   macro avg       0.38      0.50      0.43         4\n",
      "weighted avg       0.56      0.75      0.64         4\n",
      "\n"
     ]
    }
   ],
   "source": [
    "print(classification_report(y, y_pred, zero_division=False))"
   ]
  },
  {
   "cell_type": "code",
   "execution_count": null,
   "metadata": {},
   "outputs": [],
   "source": []
  }
 ],
 "metadata": {
  "kernelspec": {
   "display_name": "Python 3",
   "language": "python",
   "name": "python3"
  },
  "language_info": {
   "codemirror_mode": {
    "name": "ipython",
    "version": 3
   },
   "file_extension": ".py",
   "mimetype": "text/x-python",
   "name": "python",
   "nbconvert_exporter": "python",
   "pygments_lexer": "ipython3",
   "version": "3.8.10"
  }
 },
 "nbformat": 4,
 "nbformat_minor": 4
}
