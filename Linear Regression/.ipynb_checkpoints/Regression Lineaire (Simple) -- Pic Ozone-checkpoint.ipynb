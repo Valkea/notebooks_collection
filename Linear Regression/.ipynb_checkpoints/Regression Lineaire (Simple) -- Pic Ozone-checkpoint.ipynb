{
 "cells": [
  {
   "cell_type": "code",
   "execution_count": 1,
   "metadata": {},
   "outputs": [],
   "source": [
    "import pandas as pd"
   ]
  },
  {
   "cell_type": "markdown",
   "metadata": {},
   "source": [
    "# Load Data"
   ]
  },
  {
   "cell_type": "code",
   "execution_count": 2,
   "metadata": {},
   "outputs": [],
   "source": [
    "data = pd.read_csv('data/Dataset_ozone.txt', sep=';', decimal=',') #  index_col=0,"
   ]
  },
  {
   "cell_type": "code",
   "execution_count": 3,
   "metadata": {},
   "outputs": [
    {
     "data": {
      "text/html": [
       "<div>\n",
       "<style scoped>\n",
       "    .dataframe tbody tr th:only-of-type {\n",
       "        vertical-align: middle;\n",
       "    }\n",
       "\n",
       "    .dataframe tbody tr th {\n",
       "        vertical-align: top;\n",
       "    }\n",
       "\n",
       "    .dataframe thead th {\n",
       "        text-align: right;\n",
       "    }\n",
       "</style>\n",
       "<table border=\"1\" class=\"dataframe\">\n",
       "  <thead>\n",
       "    <tr style=\"text-align: right;\">\n",
       "      <th></th>\n",
       "      <th>obs</th>\n",
       "      <th>maxO3</th>\n",
       "      <th>T9</th>\n",
       "      <th>T12</th>\n",
       "      <th>T15</th>\n",
       "      <th>Ne9</th>\n",
       "      <th>Ne12</th>\n",
       "      <th>Ne15</th>\n",
       "      <th>Vx9</th>\n",
       "      <th>Vx12</th>\n",
       "      <th>Vx15</th>\n",
       "      <th>maxO3v</th>\n",
       "      <th>vent</th>\n",
       "      <th>pluie</th>\n",
       "    </tr>\n",
       "  </thead>\n",
       "  <tbody>\n",
       "    <tr>\n",
       "      <th>0</th>\n",
       "      <td>601</td>\n",
       "      <td>87</td>\n",
       "      <td>15.6</td>\n",
       "      <td>18.5</td>\n",
       "      <td>18.4</td>\n",
       "      <td>4</td>\n",
       "      <td>4</td>\n",
       "      <td>8</td>\n",
       "      <td>0.6946</td>\n",
       "      <td>-1.7101</td>\n",
       "      <td>-0.6946</td>\n",
       "      <td>84</td>\n",
       "      <td>Nord</td>\n",
       "      <td>Sec</td>\n",
       "    </tr>\n",
       "    <tr>\n",
       "      <th>1</th>\n",
       "      <td>602</td>\n",
       "      <td>82</td>\n",
       "      <td>17.0</td>\n",
       "      <td>18.4</td>\n",
       "      <td>17.7</td>\n",
       "      <td>5</td>\n",
       "      <td>5</td>\n",
       "      <td>7</td>\n",
       "      <td>-4.3301</td>\n",
       "      <td>-4.0000</td>\n",
       "      <td>-3.0000</td>\n",
       "      <td>87</td>\n",
       "      <td>Nord</td>\n",
       "      <td>Sec</td>\n",
       "    </tr>\n",
       "    <tr>\n",
       "      <th>2</th>\n",
       "      <td>603</td>\n",
       "      <td>92</td>\n",
       "      <td>15.3</td>\n",
       "      <td>17.6</td>\n",
       "      <td>19.5</td>\n",
       "      <td>2</td>\n",
       "      <td>5</td>\n",
       "      <td>4</td>\n",
       "      <td>2.9544</td>\n",
       "      <td>1.8794</td>\n",
       "      <td>0.5209</td>\n",
       "      <td>82</td>\n",
       "      <td>Est</td>\n",
       "      <td>Sec</td>\n",
       "    </tr>\n",
       "    <tr>\n",
       "      <th>3</th>\n",
       "      <td>604</td>\n",
       "      <td>114</td>\n",
       "      <td>16.2</td>\n",
       "      <td>19.7</td>\n",
       "      <td>22.5</td>\n",
       "      <td>1</td>\n",
       "      <td>1</td>\n",
       "      <td>0</td>\n",
       "      <td>0.9848</td>\n",
       "      <td>0.3473</td>\n",
       "      <td>-0.1736</td>\n",
       "      <td>92</td>\n",
       "      <td>Nord</td>\n",
       "      <td>Sec</td>\n",
       "    </tr>\n",
       "    <tr>\n",
       "      <th>4</th>\n",
       "      <td>605</td>\n",
       "      <td>94</td>\n",
       "      <td>17.4</td>\n",
       "      <td>20.5</td>\n",
       "      <td>20.4</td>\n",
       "      <td>8</td>\n",
       "      <td>8</td>\n",
       "      <td>7</td>\n",
       "      <td>-0.5000</td>\n",
       "      <td>-2.9544</td>\n",
       "      <td>-4.3301</td>\n",
       "      <td>114</td>\n",
       "      <td>Ouest</td>\n",
       "      <td>Sec</td>\n",
       "    </tr>\n",
       "  </tbody>\n",
       "</table>\n",
       "</div>"
      ],
      "text/plain": [
       "   obs  maxO3    T9   T12   T15  Ne9  Ne12  Ne15     Vx9    Vx12    Vx15  \\\n",
       "0  601     87  15.6  18.5  18.4    4     4     8  0.6946 -1.7101 -0.6946   \n",
       "1  602     82  17.0  18.4  17.7    5     5     7 -4.3301 -4.0000 -3.0000   \n",
       "2  603     92  15.3  17.6  19.5    2     5     4  2.9544  1.8794  0.5209   \n",
       "3  604    114  16.2  19.7  22.5    1     1     0  0.9848  0.3473 -0.1736   \n",
       "4  605     94  17.4  20.5  20.4    8     8     7 -0.5000 -2.9544 -4.3301   \n",
       "\n",
       "   maxO3v   vent pluie  \n",
       "0      84   Nord   Sec  \n",
       "1      87   Nord   Sec  \n",
       "2      82    Est   Sec  \n",
       "3      92   Nord   Sec  \n",
       "4     114  Ouest   Sec  "
      ]
     },
     "execution_count": 3,
     "metadata": {},
     "output_type": "execute_result"
    }
   ],
   "source": [
    "data.head()"
   ]
  },
  {
   "cell_type": "code",
   "execution_count": 4,
   "metadata": {},
   "outputs": [
    {
     "data": {
      "text/html": [
       "<div>\n",
       "<style scoped>\n",
       "    .dataframe tbody tr th:only-of-type {\n",
       "        vertical-align: middle;\n",
       "    }\n",
       "\n",
       "    .dataframe tbody tr th {\n",
       "        vertical-align: top;\n",
       "    }\n",
       "\n",
       "    .dataframe thead th {\n",
       "        text-align: right;\n",
       "    }\n",
       "</style>\n",
       "<table border=\"1\" class=\"dataframe\">\n",
       "  <thead>\n",
       "    <tr style=\"text-align: right;\">\n",
       "      <th></th>\n",
       "      <th>obs</th>\n",
       "      <th>maxO3</th>\n",
       "      <th>T9</th>\n",
       "      <th>T12</th>\n",
       "      <th>T15</th>\n",
       "      <th>Ne9</th>\n",
       "      <th>Ne12</th>\n",
       "      <th>Ne15</th>\n",
       "      <th>Vx9</th>\n",
       "      <th>Vx12</th>\n",
       "      <th>Vx15</th>\n",
       "      <th>maxO3v</th>\n",
       "      <th>vent</th>\n",
       "      <th>pluie</th>\n",
       "    </tr>\n",
       "  </thead>\n",
       "  <tbody>\n",
       "    <tr>\n",
       "      <th>count</th>\n",
       "      <td>112.000000</td>\n",
       "      <td>112.000000</td>\n",
       "      <td>112.000000</td>\n",
       "      <td>112.000000</td>\n",
       "      <td>112.000000</td>\n",
       "      <td>112.000000</td>\n",
       "      <td>112.000000</td>\n",
       "      <td>112.000000</td>\n",
       "      <td>112.000000</td>\n",
       "      <td>112.000000</td>\n",
       "      <td>112.000000</td>\n",
       "      <td>112.000000</td>\n",
       "      <td>112</td>\n",
       "      <td>112</td>\n",
       "    </tr>\n",
       "    <tr>\n",
       "      <th>unique</th>\n",
       "      <td>NaN</td>\n",
       "      <td>NaN</td>\n",
       "      <td>NaN</td>\n",
       "      <td>NaN</td>\n",
       "      <td>NaN</td>\n",
       "      <td>NaN</td>\n",
       "      <td>NaN</td>\n",
       "      <td>NaN</td>\n",
       "      <td>NaN</td>\n",
       "      <td>NaN</td>\n",
       "      <td>NaN</td>\n",
       "      <td>NaN</td>\n",
       "      <td>4</td>\n",
       "      <td>2</td>\n",
       "    </tr>\n",
       "    <tr>\n",
       "      <th>top</th>\n",
       "      <td>NaN</td>\n",
       "      <td>NaN</td>\n",
       "      <td>NaN</td>\n",
       "      <td>NaN</td>\n",
       "      <td>NaN</td>\n",
       "      <td>NaN</td>\n",
       "      <td>NaN</td>\n",
       "      <td>NaN</td>\n",
       "      <td>NaN</td>\n",
       "      <td>NaN</td>\n",
       "      <td>NaN</td>\n",
       "      <td>NaN</td>\n",
       "      <td>Ouest</td>\n",
       "      <td>Sec</td>\n",
       "    </tr>\n",
       "    <tr>\n",
       "      <th>freq</th>\n",
       "      <td>NaN</td>\n",
       "      <td>NaN</td>\n",
       "      <td>NaN</td>\n",
       "      <td>NaN</td>\n",
       "      <td>NaN</td>\n",
       "      <td>NaN</td>\n",
       "      <td>NaN</td>\n",
       "      <td>NaN</td>\n",
       "      <td>NaN</td>\n",
       "      <td>NaN</td>\n",
       "      <td>NaN</td>\n",
       "      <td>NaN</td>\n",
       "      <td>50</td>\n",
       "      <td>69</td>\n",
       "    </tr>\n",
       "    <tr>\n",
       "      <th>mean</th>\n",
       "      <td>763.205357</td>\n",
       "      <td>90.303571</td>\n",
       "      <td>18.360714</td>\n",
       "      <td>21.526786</td>\n",
       "      <td>22.627679</td>\n",
       "      <td>4.928571</td>\n",
       "      <td>5.017857</td>\n",
       "      <td>4.830357</td>\n",
       "      <td>-1.214346</td>\n",
       "      <td>-1.611004</td>\n",
       "      <td>-1.690683</td>\n",
       "      <td>90.571429</td>\n",
       "      <td>NaN</td>\n",
       "      <td>NaN</td>\n",
       "    </tr>\n",
       "    <tr>\n",
       "      <th>std</th>\n",
       "      <td>110.149705</td>\n",
       "      <td>28.187225</td>\n",
       "      <td>3.122726</td>\n",
       "      <td>4.042321</td>\n",
       "      <td>4.530859</td>\n",
       "      <td>2.594916</td>\n",
       "      <td>2.281860</td>\n",
       "      <td>2.332259</td>\n",
       "      <td>2.632742</td>\n",
       "      <td>2.795673</td>\n",
       "      <td>2.810198</td>\n",
       "      <td>28.276853</td>\n",
       "      <td>NaN</td>\n",
       "      <td>NaN</td>\n",
       "    </tr>\n",
       "    <tr>\n",
       "      <th>min</th>\n",
       "      <td>601.000000</td>\n",
       "      <td>42.000000</td>\n",
       "      <td>11.300000</td>\n",
       "      <td>14.000000</td>\n",
       "      <td>14.900000</td>\n",
       "      <td>0.000000</td>\n",
       "      <td>0.000000</td>\n",
       "      <td>0.000000</td>\n",
       "      <td>-7.878500</td>\n",
       "      <td>-7.878500</td>\n",
       "      <td>-9.000000</td>\n",
       "      <td>42.000000</td>\n",
       "      <td>NaN</td>\n",
       "      <td>NaN</td>\n",
       "    </tr>\n",
       "    <tr>\n",
       "      <th>25%</th>\n",
       "      <td>701.750000</td>\n",
       "      <td>70.750000</td>\n",
       "      <td>16.200000</td>\n",
       "      <td>18.600000</td>\n",
       "      <td>19.275000</td>\n",
       "      <td>3.000000</td>\n",
       "      <td>4.000000</td>\n",
       "      <td>3.000000</td>\n",
       "      <td>-3.276450</td>\n",
       "      <td>-3.564700</td>\n",
       "      <td>-3.939200</td>\n",
       "      <td>71.000000</td>\n",
       "      <td>NaN</td>\n",
       "      <td>NaN</td>\n",
       "    </tr>\n",
       "    <tr>\n",
       "      <th>50%</th>\n",
       "      <td>729.500000</td>\n",
       "      <td>81.500000</td>\n",
       "      <td>17.800000</td>\n",
       "      <td>20.550000</td>\n",
       "      <td>22.050000</td>\n",
       "      <td>6.000000</td>\n",
       "      <td>5.000000</td>\n",
       "      <td>5.000000</td>\n",
       "      <td>-0.866000</td>\n",
       "      <td>-1.879400</td>\n",
       "      <td>-1.549650</td>\n",
       "      <td>82.500000</td>\n",
       "      <td>NaN</td>\n",
       "      <td>NaN</td>\n",
       "    </tr>\n",
       "    <tr>\n",
       "      <th>75%</th>\n",
       "      <td>829.250000</td>\n",
       "      <td>106.000000</td>\n",
       "      <td>19.925000</td>\n",
       "      <td>23.550000</td>\n",
       "      <td>25.400000</td>\n",
       "      <td>7.000000</td>\n",
       "      <td>7.000000</td>\n",
       "      <td>7.000000</td>\n",
       "      <td>0.694600</td>\n",
       "      <td>0.000000</td>\n",
       "      <td>0.000000</td>\n",
       "      <td>106.000000</td>\n",
       "      <td>NaN</td>\n",
       "      <td>NaN</td>\n",
       "    </tr>\n",
       "    <tr>\n",
       "      <th>max</th>\n",
       "      <td>930.000000</td>\n",
       "      <td>166.000000</td>\n",
       "      <td>27.000000</td>\n",
       "      <td>33.500000</td>\n",
       "      <td>35.500000</td>\n",
       "      <td>8.000000</td>\n",
       "      <td>8.000000</td>\n",
       "      <td>8.000000</td>\n",
       "      <td>5.196200</td>\n",
       "      <td>6.577800</td>\n",
       "      <td>5.000000</td>\n",
       "      <td>166.000000</td>\n",
       "      <td>NaN</td>\n",
       "      <td>NaN</td>\n",
       "    </tr>\n",
       "  </tbody>\n",
       "</table>\n",
       "</div>"
      ],
      "text/plain": [
       "               obs       maxO3          T9         T12         T15  \\\n",
       "count   112.000000  112.000000  112.000000  112.000000  112.000000   \n",
       "unique         NaN         NaN         NaN         NaN         NaN   \n",
       "top            NaN         NaN         NaN         NaN         NaN   \n",
       "freq           NaN         NaN         NaN         NaN         NaN   \n",
       "mean    763.205357   90.303571   18.360714   21.526786   22.627679   \n",
       "std     110.149705   28.187225    3.122726    4.042321    4.530859   \n",
       "min     601.000000   42.000000   11.300000   14.000000   14.900000   \n",
       "25%     701.750000   70.750000   16.200000   18.600000   19.275000   \n",
       "50%     729.500000   81.500000   17.800000   20.550000   22.050000   \n",
       "75%     829.250000  106.000000   19.925000   23.550000   25.400000   \n",
       "max     930.000000  166.000000   27.000000   33.500000   35.500000   \n",
       "\n",
       "               Ne9        Ne12        Ne15         Vx9        Vx12  \\\n",
       "count   112.000000  112.000000  112.000000  112.000000  112.000000   \n",
       "unique         NaN         NaN         NaN         NaN         NaN   \n",
       "top            NaN         NaN         NaN         NaN         NaN   \n",
       "freq           NaN         NaN         NaN         NaN         NaN   \n",
       "mean      4.928571    5.017857    4.830357   -1.214346   -1.611004   \n",
       "std       2.594916    2.281860    2.332259    2.632742    2.795673   \n",
       "min       0.000000    0.000000    0.000000   -7.878500   -7.878500   \n",
       "25%       3.000000    4.000000    3.000000   -3.276450   -3.564700   \n",
       "50%       6.000000    5.000000    5.000000   -0.866000   -1.879400   \n",
       "75%       7.000000    7.000000    7.000000    0.694600    0.000000   \n",
       "max       8.000000    8.000000    8.000000    5.196200    6.577800   \n",
       "\n",
       "              Vx15      maxO3v   vent pluie  \n",
       "count   112.000000  112.000000    112   112  \n",
       "unique         NaN         NaN      4     2  \n",
       "top            NaN         NaN  Ouest   Sec  \n",
       "freq           NaN         NaN     50    69  \n",
       "mean     -1.690683   90.571429    NaN   NaN  \n",
       "std       2.810198   28.276853    NaN   NaN  \n",
       "min      -9.000000   42.000000    NaN   NaN  \n",
       "25%      -3.939200   71.000000    NaN   NaN  \n",
       "50%      -1.549650   82.500000    NaN   NaN  \n",
       "75%       0.000000  106.000000    NaN   NaN  \n",
       "max       5.000000  166.000000    NaN   NaN  "
      ]
     },
     "execution_count": 4,
     "metadata": {},
     "output_type": "execute_result"
    }
   ],
   "source": [
    "data.describe(include='all')"
   ]
  },
  {
   "cell_type": "code",
   "execution_count": 5,
   "metadata": {},
   "outputs": [
    {
     "name": "stdout",
     "output_type": "stream",
     "text": [
      "<class 'pandas.core.frame.DataFrame'>\n",
      "RangeIndex: 112 entries, 0 to 111\n",
      "Data columns (total 14 columns):\n",
      " #   Column  Non-Null Count  Dtype  \n",
      "---  ------  --------------  -----  \n",
      " 0   obs     112 non-null    int64  \n",
      " 1   maxO3   112 non-null    int64  \n",
      " 2   T9      112 non-null    float64\n",
      " 3   T12     112 non-null    float64\n",
      " 4   T15     112 non-null    float64\n",
      " 5   Ne9     112 non-null    int64  \n",
      " 6   Ne12    112 non-null    int64  \n",
      " 7   Ne15    112 non-null    int64  \n",
      " 8   Vx9     112 non-null    float64\n",
      " 9   Vx12    112 non-null    float64\n",
      " 10  Vx15    112 non-null    float64\n",
      " 11  maxO3v  112 non-null    int64  \n",
      " 12  vent    112 non-null    object \n",
      " 13  pluie   112 non-null    object \n",
      "dtypes: float64(6), int64(6), object(2)\n",
      "memory usage: 12.4+ KB\n"
     ]
    }
   ],
   "source": [
    "data.info()"
   ]
  },
  {
   "cell_type": "markdown",
   "metadata": {},
   "source": [
    "-----"
   ]
  },
  {
   "cell_type": "markdown",
   "metadata": {},
   "source": [
    "- Missing : Il ne manque pas de données.\n",
    "- Data format : il n'y en a pas \n",
    "- Other format : Les formats sont les bons\n",
    "- Duplicates : ??\n",
    "- Multiple contents : il n'y en a pas\n",
    "- Outliers : ??\n",
    "- Champs lexicales : ??"
   ]
  },
  {
   "cell_type": "markdown",
   "metadata": {},
   "source": [
    "# Explore"
   ]
  },
  {
   "cell_type": "code",
   "execution_count": 6,
   "metadata": {},
   "outputs": [],
   "source": [
    "import matplotlib.pyplot as plt"
   ]
  },
  {
   "cell_type": "code",
   "execution_count": 7,
   "metadata": {},
   "outputs": [
    {
     "data": {
      "text/plain": [
       "Text(0.5, 1.0, 'Max03 vs MaxO3veille')"
      ]
     },
     "execution_count": 7,
     "metadata": {},
     "output_type": "execute_result"
    },
    {
     "data": {
      "image/png": "[encoded data removed]",
      "text/plain": [
       "<Figure size 1080x1080 with 12 Axes>"
      ]
     },
     "metadata": {
      "needs_background": "light"
     },
     "output_type": "display_data"
    }
   ],
   "source": [
    "fig = plt.figure(figsize=(15,15))\n",
    "\n",
    "ax = fig.add_subplot(431)\n",
    "ax.scatter(data['maxO3'], data['T9'])\n",
    "ax.set_title(\"Max03 vs T9\")\n",
    "\n",
    "ax = fig.add_subplot(432)\n",
    "ax.scatter(data['maxO3'], data['T12'])\n",
    "ax.set_title(\"Max03 vs T12\")\n",
    "\n",
    "ax = fig.add_subplot(433)\n",
    "ax.scatter(data['maxO3'], data['T15'])\n",
    "ax.set_title(\"Max03 vs T15\")\n",
    "\n",
    "\n",
    "ax = fig.add_subplot(434)\n",
    "ax.scatter(data['maxO3'], data['Ne9'])\n",
    "ax.set_title(\"Max03 vs Ne9\")\n",
    "\n",
    "ax = fig.add_subplot(435)\n",
    "ax.scatter(data['maxO3'], data['Ne12'])\n",
    "ax.set_title(\"Max03 vs Ne12\")\n",
    "\n",
    "ax = fig.add_subplot(436)\n",
    "ax.scatter(data['maxO3'], data['Ne15'])\n",
    "ax.set_title(\"Max03 vs Ne15\")\n",
    "\n",
    "\n",
    "ax = fig.add_subplot(437)\n",
    "ax.scatter(data['maxO3'], data['Vx9'])\n",
    "ax.set_title(\"Max03 vs Vx9\")\n",
    "\n",
    "ax = fig.add_subplot(438)\n",
    "ax.scatter(data['maxO3'], data['Vx12'])\n",
    "ax.set_title(\"Max03 vs Vx12\")\n",
    "\n",
    "ax = fig.add_subplot(439)\n",
    "ax.scatter(data['maxO3'], data['Vx15'])\n",
    "ax.set_title(\"Max03 vs Vx15\")\n",
    "\n",
    "\n",
    "ax = fig.add_subplot(4,3,10)\n",
    "ax.scatter(data['maxO3'], data['vent'])\n",
    "ax.set_title(\"Max03 vs Vent\")\n",
    "\n",
    "ax = fig.add_subplot(4,3,11)\n",
    "ax.scatter(data['maxO3'], data['pluie'])\n",
    "ax.set_title(\"Max03 vs Pluie\")\n",
    "\n",
    "ax = fig.add_subplot(4,3,12)\n",
    "ax.scatter(data['maxO3'], data['maxO3v'])\n",
    "ax.set_title(\"Max03 vs MaxO3veille\")"
   ]
  },
  {
   "cell_type": "markdown",
   "metadata": {},
   "source": [
    "# Split dataset (train / test / no-validation)"
   ]
  },
  {
   "cell_type": "code",
   "execution_count": 8,
   "metadata": {},
   "outputs": [],
   "source": [
    "#X = pd.concat([data['T12'], data['Ne12']], axis='columns')\n",
    "X = pd.concat([data['T12']], axis='columns')\n",
    "y = data['maxO3']"
   ]
  },
  {
   "cell_type": "code",
   "execution_count": 9,
   "metadata": {},
   "outputs": [],
   "source": [
    "from sklearn.model_selection import train_test_split\n",
    "X_train, X_test, y_train, y_test = train_test_split(X, y, test_size=0.33, random_state=42)"
   ]
  },
  {
   "cell_type": "code",
   "execution_count": 10,
   "metadata": {},
   "outputs": [
    {
     "name": "stdout",
     "output_type": "stream",
     "text": [
      "(75, 1) (75,) (37, 1) (37,)\n"
     ]
    }
   ],
   "source": [
    "print(X_train.shape, y_train.shape, X_test.shape, y_test.shape)"
   ]
  },
  {
   "cell_type": "markdown",
   "metadata": {},
   "source": [
    "# Regression Lineaire (sklearn)"
   ]
  },
  {
   "cell_type": "code",
   "execution_count": 11,
   "metadata": {},
   "outputs": [],
   "source": [
    "from sklearn.linear_model import LinearRegression"
   ]
  },
  {
   "cell_type": "code",
   "execution_count": 12,
   "metadata": {},
   "outputs": [],
   "source": [
    "lr = LinearRegression().fit(X_train, y_train)"
   ]
  },
  {
   "cell_type": "markdown",
   "metadata": {},
   "source": [
    "### Check 'determinant coefficient' (coéfficient de détermination)"
   ]
  },
  {
   "cell_type": "code",
   "execution_count": 13,
   "metadata": {},
   "outputs": [
    {
     "name": "stdout",
     "output_type": "stream",
     "text": [
      "R2 score: 0.62\n"
     ]
    }
   ],
   "source": [
    "R2 = lr.score(X_train, y_train)\n",
    "print(f\"R2 score: {R2:.02F}\")"
   ]
  },
  {
   "cell_type": "markdown",
   "metadata": {},
   "source": [
    "### Predict with X_test"
   ]
  },
  {
   "cell_type": "code",
   "execution_count": 14,
   "metadata": {},
   "outputs": [],
   "source": [
    "y_pred = lr.predict(X_test)"
   ]
  },
  {
   "cell_type": "code",
   "execution_count": 15,
   "metadata": {},
   "outputs": [
    {
     "name": "stdout",
     "output_type": "stream",
     "text": [
      "Real:67 - Pred:74\n",
      "Real:60 - Pred:89\n",
      "Real:94 - Pred:84\n",
      "Real:66 - Pred:90\n",
      "Real:84 - Pred:83\n",
      "Real:111 - Pred:109\n",
      "Real:67 - Pred:99\n",
      "Real:90 - Pred:83\n",
      "Real:101 - Pred:78\n",
      "Real:69 - Pred:58\n",
      "Real:67 - Pred:87\n",
      "Real:160 - Pred:132\n",
      "Real:98 - Pred:96\n",
      "Real:69 - Pred:69\n",
      "Real:87 - Pred:73\n",
      "Real:121 - Pred:103\n",
      "Real:159 - Pred:125\n",
      "Real:100 - Pred:97\n",
      "Real:96 - Pred:78\n",
      "Real:59 - Pred:72\n",
      "Real:77 - Pred:85\n",
      "Real:72 - Pred:79\n",
      "Real:93 - Pred:72\n",
      "Real:70 - Pred:66\n",
      "Real:66 - Pred:76\n",
      "Real:54 - Pred:75\n",
      "Real:108 - Pred:100\n",
      "Real:59 - Pred:83\n",
      "Real:114 - Pred:114\n",
      "Real:131 - Pred:126\n",
      "Real:88 - Pred:77\n",
      "Real:79 - Pred:75\n",
      "Real:92 - Pred:77\n",
      "Real:106 - Pred:91\n",
      "Real:113 - Pred:72\n",
      "Real:156 - Pred:137\n",
      "Real:72 - Pred:90\n"
     ]
    }
   ],
   "source": [
    "for y1, y2 in zip(y_test, y_pred):\n",
    "    print(f\"Real:{y1} - Pred:{round(y2)}\")"
   ]
  },
  {
   "cell_type": "markdown",
   "metadata": {},
   "source": [
    "### Plot dataset and regression line"
   ]
  },
  {
   "cell_type": "code",
   "execution_count": 16,
   "metadata": {},
   "outputs": [
    {
     "data": {
      "text/plain": [
       "[<matplotlib.lines.Line2D at 0x7fd3f08ce8e0>]"
      ]
     },
     "execution_count": 16,
     "metadata": {},
     "output_type": "execute_result"
    },
    {
     "data": {
      "image/png": "[encoded data removed]",
      "text/plain": [
       "<Figure size 720x720 with 1 Axes>"
      ]
     },
     "metadata": {
      "needs_background": "light"
     },
     "output_type": "display_data"
    }
   ],
   "source": [
    "fig = plt.figure(figsize=(10,10))\n",
    "\n",
    "ax = fig.add_subplot(111)\n",
    "ax.scatter(X_test, y_test)\n",
    "ax.set_xlabel(\"T12 (°C))\")\n",
    "ax.set_ylabel(\"Max O3\")\n",
    "ax.plot(X_test, y_pred, color='blue', linewidth=3)"
   ]
  },
  {
   "cell_type": "markdown",
   "metadata": {},
   "source": [
    "# Regression Lineaire (statsmodels)"
   ]
  },
  {
   "cell_type": "code",
   "execution_count": 17,
   "metadata": {},
   "outputs": [],
   "source": [
    "import statsmodels.api as sm\n",
    "import statsmodels.formula.api as smf"
   ]
  },
  {
   "cell_type": "markdown",
   "metadata": {},
   "source": [
    "/!\\ By default, statsmodels fits a line passing through the origin, i.e. it doesn't fit an intercept.\n",
    "\n",
    "Hence, you need to use thecommand 'add_constant' so that it also fits an intercept.\n",
    "\n",
    "It's NOT needed with sm.OLS instead of smf.ols..."
   ]
  },
  {
   "cell_type": "code",
   "execution_count": 18,
   "metadata": {},
   "outputs": [
    {
     "data": {
      "text/plain": [
       "(75, 2)"
      ]
     },
     "execution_count": 18,
     "metadata": {},
     "output_type": "execute_result"
    }
   ],
   "source": [
    "# Only with sm.OLS\n",
    "X_trainc = sm.add_constant(X_train)\n",
    "X_trainc.shape"
   ]
  },
  {
   "cell_type": "code",
   "execution_count": 19,
   "metadata": {},
   "outputs": [],
   "source": [
    "# Only with smf.ols\n",
    "#sm_dataset = pd.concat([X_test, y_test], axis='columns')"
   ]
  },
  {
   "cell_type": "code",
   "execution_count": 20,
   "metadata": {},
   "outputs": [],
   "source": [
    "#lrs = smf.ols('maxO3 ~ T12', data=sm_dataset)\n",
    "lrs = sm.OLS(y_train, X_trainc)"
   ]
  },
  {
   "cell_type": "code",
   "execution_count": 21,
   "metadata": {},
   "outputs": [],
   "source": [
    "lrs_fit = lrs.fit()"
   ]
  },
  {
   "cell_type": "markdown",
   "metadata": {},
   "source": [
    "### Check regression infos"
   ]
  },
  {
   "cell_type": "code",
   "execution_count": 22,
   "metadata": {},
   "outputs": [
    {
     "data": {
      "text/html": [
       "<table class=\"simpletable\">\n",
       "<caption>OLS Regression Results</caption>\n",
       "<tr>\n",
       "  <th>Dep. Variable:</th>          <td>maxO3</td>      <th>  R-squared:         </th> <td>   0.621</td>\n",
       "</tr>\n",
       "<tr>\n",
       "  <th>Model:</th>                   <td>OLS</td>       <th>  Adj. R-squared:    </th> <td>   0.616</td>\n",
       "</tr>\n",
       "<tr>\n",
       "  <th>Method:</th>             <td>Least Squares</td>  <th>  F-statistic:       </th> <td>   119.5</td>\n",
       "</tr>\n",
       "<tr>\n",
       "  <th>Date:</th>             <td>Mon, 04 Oct 2021</td> <th>  Prob (F-statistic):</th> <td>4.99e-17</td>\n",
       "</tr>\n",
       "<tr>\n",
       "  <th>Time:</th>                 <td>23:38:38</td>     <th>  Log-Likelihood:    </th> <td> -320.69</td>\n",
       "</tr>\n",
       "<tr>\n",
       "  <th>No. Observations:</th>      <td>    75</td>      <th>  AIC:               </th> <td>   645.4</td>\n",
       "</tr>\n",
       "<tr>\n",
       "  <th>Df Residuals:</th>          <td>    73</td>      <th>  BIC:               </th> <td>   650.0</td>\n",
       "</tr>\n",
       "<tr>\n",
       "  <th>Df Model:</th>              <td>     1</td>      <th>                     </th>     <td> </td>   \n",
       "</tr>\n",
       "<tr>\n",
       "  <th>Covariance Type:</th>      <td>nonrobust</td>    <th>                     </th>     <td> </td>   \n",
       "</tr>\n",
       "</table>\n",
       "<table class=\"simpletable\">\n",
       "<tr>\n",
       "    <td></td>       <th>coef</th>     <th>std err</th>      <th>t</th>      <th>P>|t|</th>  <th>[0.025</th>    <th>0.975]</th>  \n",
       "</tr>\n",
       "<tr>\n",
       "  <th>const</th> <td>  -23.7534</td> <td>   10.590</td> <td>   -2.243</td> <td> 0.028</td> <td>  -44.860</td> <td>   -2.647</td>\n",
       "</tr>\n",
       "<tr>\n",
       "  <th>T12</th>   <td>    5.2563</td> <td>    0.481</td> <td>   10.932</td> <td> 0.000</td> <td>    4.298</td> <td>    6.215</td>\n",
       "</tr>\n",
       "</table>\n",
       "<table class=\"simpletable\">\n",
       "<tr>\n",
       "  <th>Omnibus:</th>       <td> 2.193</td> <th>  Durbin-Watson:     </th> <td>   2.362</td>\n",
       "</tr>\n",
       "<tr>\n",
       "  <th>Prob(Omnibus):</th> <td> 0.334</td> <th>  Jarque-Bera (JB):  </th> <td>   2.032</td>\n",
       "</tr>\n",
       "<tr>\n",
       "  <th>Skew:</th>          <td> 0.397</td> <th>  Prob(JB):          </th> <td>   0.362</td>\n",
       "</tr>\n",
       "<tr>\n",
       "  <th>Kurtosis:</th>      <td> 2.865</td> <th>  Cond. No.          </th> <td>    115.</td>\n",
       "</tr>\n",
       "</table><br/><br/>Notes:<br/>[1] Standard Errors assume that the covariance matrix of the errors is correctly specified."
      ],
      "text/plain": [
       "<class 'statsmodels.iolib.summary.Summary'>\n",
       "\"\"\"\n",
       "                            OLS Regression Results                            \n",
       "==============================================================================\n",
       "Dep. Variable:                  maxO3   R-squared:                       0.621\n",
       "Model:                            OLS   Adj. R-squared:                  0.616\n",
       "Method:                 Least Squares   F-statistic:                     119.5\n",
       "Date:                Mon, 04 Oct 2021   Prob (F-statistic):           4.99e-17\n",
       "Time:                        23:38:38   Log-Likelihood:                -320.69\n",
       "No. Observations:                  75   AIC:                             645.4\n",
       "Df Residuals:                      73   BIC:                             650.0\n",
       "Df Model:                           1                                         \n",
       "Covariance Type:            nonrobust                                         \n",
       "==============================================================================\n",
       "                 coef    std err          t      P>|t|      [0.025      0.975]\n",
       "------------------------------------------------------------------------------\n",
       "const        -23.7534     10.590     -2.243      0.028     -44.860      -2.647\n",
       "T12            5.2563      0.481     10.932      0.000       4.298       6.215\n",
       "==============================================================================\n",
       "Omnibus:                        2.193   Durbin-Watson:                   2.362\n",
       "Prob(Omnibus):                  0.334   Jarque-Bera (JB):                2.032\n",
       "Skew:                           0.397   Prob(JB):                        0.362\n",
       "Kurtosis:                       2.865   Cond. No.                         115.\n",
       "==============================================================================\n",
       "\n",
       "Notes:\n",
       "[1] Standard Errors assume that the covariance matrix of the errors is correctly specified.\n",
       "\"\"\""
      ]
     },
     "execution_count": 22,
     "metadata": {},
     "output_type": "execute_result"
    }
   ],
   "source": [
    "lrs_fit.summary()"
   ]
  },
  {
   "cell_type": "markdown",
   "metadata": {},
   "source": [
    "### Predict with X_test"
   ]
  },
  {
   "cell_type": "code",
   "execution_count": 23,
   "metadata": {},
   "outputs": [
    {
     "data": {
      "text/plain": [
       "(37, 2)"
      ]
     },
     "execution_count": 23,
     "metadata": {},
     "output_type": "execute_result"
    }
   ],
   "source": [
    "# Only with sm.OLS\n",
    "X_testc = sm.add_constant(X_test)\n",
    "X_testc.shape"
   ]
  },
  {
   "cell_type": "code",
   "execution_count": 24,
   "metadata": {},
   "outputs": [
    {
     "data": {
      "text/plain": [
       "40      74.014266\n",
       "65      88.731983\n",
       "4       84.001289\n",
       "47      89.783249\n",
       "42      83.475656\n",
       "69     108.706028\n",
       "26      99.244638\n",
       "11      82.950023\n",
       "10      77.693696\n",
       "44      58.245284\n",
       "73      87.155085\n",
       "55     131.833869\n",
       "68      96.090842\n",
       "97      69.283572\n",
       "0       73.488634\n",
       "18     103.449700\n",
       "53     125.000643\n",
       "80      96.616475\n",
       "103     78.219328\n",
       "91      72.437368\n",
       "36      85.052554\n",
       "12      79.270594\n",
       "31      71.911735\n",
       "66      66.129775\n",
       "90      75.591165\n",
       "62      74.539899\n",
       "22      99.770271\n",
       "85      82.950023\n",
       "81     114.487988\n",
       "77     125.526276\n",
       "15      76.642430\n",
       "30      75.065532\n",
       "45      76.642430\n",
       "9       91.360147\n",
       "33      71.911735\n",
       "56     136.564564\n",
       "64      89.783249\n",
       "dtype: float64"
      ]
     },
     "execution_count": 24,
     "metadata": {},
     "output_type": "execute_result"
    }
   ],
   "source": [
    "y_pred2 = lrs_fit.predict(X_testc)\n",
    "y_pred2"
   ]
  },
  {
   "cell_type": "markdown",
   "metadata": {},
   "source": [
    "### Plot dataset and regression line"
   ]
  },
  {
   "cell_type": "code",
   "execution_count": 25,
   "metadata": {},
   "outputs": [
    {
     "data": {
      "text/plain": [
       "[<matplotlib.lines.Line2D at 0x7fd3ebfd8940>]"
      ]
     },
     "execution_count": 25,
     "metadata": {},
     "output_type": "execute_result"
    },
    {
     "data": {
      "image/png": "[encoded data removed]",
      "text/plain": [
       "<Figure size 720x720 with 1 Axes>"
      ]
     },
     "metadata": {
      "needs_background": "light"
     },
     "output_type": "display_data"
    }
   ],
   "source": [
    "fig = plt.figure(figsize=(10,10))\n",
    "\n",
    "ax = fig.add_subplot(111)\n",
    "ax.scatter(X_test, y_test)\n",
    "ax.set_xlabel(\"T12 (°C))\")\n",
    "ax.set_ylabel(\"Max O3\")\n",
    "ax.plot(X_test, y_pred2, color='blue', linewidth=3)"
   ]
  },
  {
   "cell_type": "markdown",
   "metadata": {},
   "source": [
    "### Représentez les résidus du modèle"
   ]
  },
  {
   "cell_type": "code",
   "execution_count": 26,
   "metadata": {},
   "outputs": [],
   "source": [
    "residu_s = lrs_fit.resid"
   ]
  },
  {
   "cell_type": "code",
   "execution_count": 27,
   "metadata": {},
   "outputs": [
    {
     "data": {
      "image/png": "[encoded data removed]",
      "text/plain": [
       "<Figure size 432x288 with 1 Axes>"
      ]
     },
     "metadata": {
      "needs_background": "light"
     },
     "output_type": "display_data"
    }
   ],
   "source": [
    "plt.hist(residu_s, density=True)\n",
    "plt.xlabel('Résidus')\n",
    "plt.title('Histogramme des résidus')\n",
    "plt.show()"
   ]
  },
  {
   "cell_type": "markdown",
   "metadata": {},
   "source": [
    "### Predict alone"
   ]
  },
  {
   "cell_type": "code",
   "execution_count": 28,
   "metadata": {},
   "outputs": [
    {
     "name": "stdout",
     "output_type": "stream",
     "text": [
      "76.12\n"
     ]
    }
   ],
   "source": [
    "a_prevoir = pd.DataFrame({'const':[1],'T12':[19]})\n",
    "maxO3_prev = lrs_fit.predict(a_prevoir)\n",
    "print(round(maxO3_prev[0], 2))"
   ]
  },
  {
   "cell_type": "markdown",
   "metadata": {},
   "source": [
    "XXX"
   ]
  },
  {
   "cell_type": "code",
   "execution_count": 29,
   "metadata": {},
   "outputs": [
    {
     "data": {
      "text/html": [
       "<table class=\"simpletable\">\n",
       "<caption>OLS Regression Results</caption>\n",
       "<tr>\n",
       "  <th>Dep. Variable:</th>          <td>maxO3</td>      <th>  R-squared:         </th> <td>   0.621</td>\n",
       "</tr>\n",
       "<tr>\n",
       "  <th>Model:</th>                   <td>OLS</td>       <th>  Adj. R-squared:    </th> <td>   0.616</td>\n",
       "</tr>\n",
       "<tr>\n",
       "  <th>Method:</th>             <td>Least Squares</td>  <th>  F-statistic:       </th> <td>   119.5</td>\n",
       "</tr>\n",
       "<tr>\n",
       "  <th>Date:</th>             <td>Mon, 04 Oct 2021</td> <th>  Prob (F-statistic):</th> <td>4.99e-17</td>\n",
       "</tr>\n",
       "<tr>\n",
       "  <th>Time:</th>                 <td>23:38:38</td>     <th>  Log-Likelihood:    </th> <td> -320.69</td>\n",
       "</tr>\n",
       "<tr>\n",
       "  <th>No. Observations:</th>      <td>    75</td>      <th>  AIC:               </th> <td>   645.4</td>\n",
       "</tr>\n",
       "<tr>\n",
       "  <th>Df Residuals:</th>          <td>    73</td>      <th>  BIC:               </th> <td>   650.0</td>\n",
       "</tr>\n",
       "<tr>\n",
       "  <th>Df Model:</th>              <td>     1</td>      <th>                     </th>     <td> </td>   \n",
       "</tr>\n",
       "<tr>\n",
       "  <th>Covariance Type:</th>      <td>nonrobust</td>    <th>                     </th>     <td> </td>   \n",
       "</tr>\n",
       "</table>\n",
       "<table class=\"simpletable\">\n",
       "<tr>\n",
       "    <td></td>       <th>coef</th>     <th>std err</th>      <th>t</th>      <th>P>|t|</th>  <th>[0.025</th>    <th>0.975]</th>  \n",
       "</tr>\n",
       "<tr>\n",
       "  <th>const</th> <td>  -23.7534</td> <td>   10.590</td> <td>   -2.243</td> <td> 0.028</td> <td>  -44.860</td> <td>   -2.647</td>\n",
       "</tr>\n",
       "<tr>\n",
       "  <th>T12</th>   <td>    5.2563</td> <td>    0.481</td> <td>   10.932</td> <td> 0.000</td> <td>    4.298</td> <td>    6.215</td>\n",
       "</tr>\n",
       "</table>\n",
       "<table class=\"simpletable\">\n",
       "<tr>\n",
       "  <th>Omnibus:</th>       <td> 2.193</td> <th>  Durbin-Watson:     </th> <td>   2.362</td>\n",
       "</tr>\n",
       "<tr>\n",
       "  <th>Prob(Omnibus):</th> <td> 0.334</td> <th>  Jarque-Bera (JB):  </th> <td>   2.032</td>\n",
       "</tr>\n",
       "<tr>\n",
       "  <th>Skew:</th>          <td> 0.397</td> <th>  Prob(JB):          </th> <td>   0.362</td>\n",
       "</tr>\n",
       "<tr>\n",
       "  <th>Kurtosis:</th>      <td> 2.865</td> <th>  Cond. No.          </th> <td>    115.</td>\n",
       "</tr>\n",
       "</table><br/><br/>Notes:<br/>[1] Standard Errors assume that the covariance matrix of the errors is correctly specified."
      ],
      "text/plain": [
       "<class 'statsmodels.iolib.summary.Summary'>\n",
       "\"\"\"\n",
       "                            OLS Regression Results                            \n",
       "==============================================================================\n",
       "Dep. Variable:                  maxO3   R-squared:                       0.621\n",
       "Model:                            OLS   Adj. R-squared:                  0.616\n",
       "Method:                 Least Squares   F-statistic:                     119.5\n",
       "Date:                Mon, 04 Oct 2021   Prob (F-statistic):           4.99e-17\n",
       "Time:                        23:38:38   Log-Likelihood:                -320.69\n",
       "No. Observations:                  75   AIC:                             645.4\n",
       "Df Residuals:                      73   BIC:                             650.0\n",
       "Df Model:                           1                                         \n",
       "Covariance Type:            nonrobust                                         \n",
       "==============================================================================\n",
       "                 coef    std err          t      P>|t|      [0.025      0.975]\n",
       "------------------------------------------------------------------------------\n",
       "const        -23.7534     10.590     -2.243      0.028     -44.860      -2.647\n",
       "T12            5.2563      0.481     10.932      0.000       4.298       6.215\n",
       "==============================================================================\n",
       "Omnibus:                        2.193   Durbin-Watson:                   2.362\n",
       "Prob(Omnibus):                  0.334   Jarque-Bera (JB):                2.032\n",
       "Skew:                           0.397   Prob(JB):                        0.362\n",
       "Kurtosis:                       2.865   Cond. No.                         115.\n",
       "==============================================================================\n",
       "\n",
       "Notes:\n",
       "[1] Standard Errors assume that the covariance matrix of the errors is correctly specified.\n",
       "\"\"\""
      ]
     },
     "execution_count": 29,
     "metadata": {},
     "output_type": "execute_result"
    }
   ],
   "source": [
    "lrs_fit.summary()"
   ]
  },
  {
   "cell_type": "code",
   "execution_count": null,
   "metadata": {},
   "outputs": [],
   "source": []
  }
 ],
 "metadata": {
  "kernelspec": {
   "display_name": "Python 3",
   "language": "python",
   "name": "python3"
  },
  "language_info": {
   "codemirror_mode": {
    "name": "ipython",
    "version": 3
   },
   "file_extension": ".py",
   "mimetype": "text/x-python",
   "name": "python",
   "nbconvert_exporter": "python",
   "pygments_lexer": "ipython3",
   "version": "3.8.10"
  }
 },
 "nbformat": 4,
 "nbformat_minor": 4
}
