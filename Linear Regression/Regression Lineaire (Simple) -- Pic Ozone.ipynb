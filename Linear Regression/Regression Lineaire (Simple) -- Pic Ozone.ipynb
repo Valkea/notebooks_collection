{
 "cells": [
  {
   "cell_type": "code",
   "execution_count": 1,
   "metadata": {},
   "outputs": [],
   "source": [
    "import pandas as pd"
   ]
  },
  {
   "cell_type": "markdown",
   "metadata": {},
   "source": [
    "# Load Data"
   ]
  },
  {
   "cell_type": "code",
   "execution_count": 2,
   "metadata": {},
   "outputs": [],
   "source": [
    "data = pd.read_csv('data/Dataset_ozone.txt', sep=';', decimal=',') #  index_col=0,"
   ]
  },
  {
   "cell_type": "code",
   "execution_count": 3,
   "metadata": {},
   "outputs": [
    {
     "data": {
      "text/html": [
       "<div>\n",
       "<style scoped>\n",
       "    .dataframe tbody tr th:only-of-type {\n",
       "        vertical-align: middle;\n",
       "    }\n",
       "\n",
       "    .dataframe tbody tr th {\n",
       "        vertical-align: top;\n",
       "    }\n",
       "\n",
       "    .dataframe thead th {\n",
       "        text-align: right;\n",
       "    }\n",
       "</style>\n",
       "<table border=\"1\" class=\"dataframe\">\n",
       "  <thead>\n",
       "    <tr style=\"text-align: right;\">\n",
       "      <th></th>\n",
       "      <th>obs</th>\n",
       "      <th>maxO3</th>\n",
       "      <th>T9</th>\n",
       "      <th>T12</th>\n",
       "      <th>T15</th>\n",
       "      <th>Ne9</th>\n",
       "      <th>Ne12</th>\n",
       "      <th>Ne15</th>\n",
       "      <th>Vx9</th>\n",
       "      <th>Vx12</th>\n",
       "      <th>Vx15</th>\n",
       "      <th>maxO3v</th>\n",
       "      <th>vent</th>\n",
       "      <th>pluie</th>\n",
       "    </tr>\n",
       "  </thead>\n",
       "  <tbody>\n",
       "    <tr>\n",
       "      <th>0</th>\n",
       "      <td>601</td>\n",
       "      <td>87</td>\n",
       "      <td>15.6</td>\n",
       "      <td>18.5</td>\n",
       "      <td>18.4</td>\n",
       "      <td>4</td>\n",
       "      <td>4</td>\n",
       "      <td>8</td>\n",
       "      <td>0.6946</td>\n",
       "      <td>-1.7101</td>\n",
       "      <td>-0.6946</td>\n",
       "      <td>84</td>\n",
       "      <td>Nord</td>\n",
       "      <td>Sec</td>\n",
       "    </tr>\n",
       "    <tr>\n",
       "      <th>1</th>\n",
       "      <td>602</td>\n",
       "      <td>82</td>\n",
       "      <td>17.0</td>\n",
       "      <td>18.4</td>\n",
       "      <td>17.7</td>\n",
       "      <td>5</td>\n",
       "      <td>5</td>\n",
       "      <td>7</td>\n",
       "      <td>-4.3301</td>\n",
       "      <td>-4.0000</td>\n",
       "      <td>-3.0000</td>\n",
       "      <td>87</td>\n",
       "      <td>Nord</td>\n",
       "      <td>Sec</td>\n",
       "    </tr>\n",
       "    <tr>\n",
       "      <th>2</th>\n",
       "      <td>603</td>\n",
       "      <td>92</td>\n",
       "      <td>15.3</td>\n",
       "      <td>17.6</td>\n",
       "      <td>19.5</td>\n",
       "      <td>2</td>\n",
       "      <td>5</td>\n",
       "      <td>4</td>\n",
       "      <td>2.9544</td>\n",
       "      <td>1.8794</td>\n",
       "      <td>0.5209</td>\n",
       "      <td>82</td>\n",
       "      <td>Est</td>\n",
       "      <td>Sec</td>\n",
       "    </tr>\n",
       "    <tr>\n",
       "      <th>3</th>\n",
       "      <td>604</td>\n",
       "      <td>114</td>\n",
       "      <td>16.2</td>\n",
       "      <td>19.7</td>\n",
       "      <td>22.5</td>\n",
       "      <td>1</td>\n",
       "      <td>1</td>\n",
       "      <td>0</td>\n",
       "      <td>0.9848</td>\n",
       "      <td>0.3473</td>\n",
       "      <td>-0.1736</td>\n",
       "      <td>92</td>\n",
       "      <td>Nord</td>\n",
       "      <td>Sec</td>\n",
       "    </tr>\n",
       "    <tr>\n",
       "      <th>4</th>\n",
       "      <td>605</td>\n",
       "      <td>94</td>\n",
       "      <td>17.4</td>\n",
       "      <td>20.5</td>\n",
       "      <td>20.4</td>\n",
       "      <td>8</td>\n",
       "      <td>8</td>\n",
       "      <td>7</td>\n",
       "      <td>-0.5000</td>\n",
       "      <td>-2.9544</td>\n",
       "      <td>-4.3301</td>\n",
       "      <td>114</td>\n",
       "      <td>Ouest</td>\n",
       "      <td>Sec</td>\n",
       "    </tr>\n",
       "  </tbody>\n",
       "</table>\n",
       "</div>"
      ],
      "text/plain": [
       "   obs  maxO3    T9   T12   T15  Ne9  Ne12  Ne15     Vx9    Vx12    Vx15  \\\n",
       "0  601     87  15.6  18.5  18.4    4     4     8  0.6946 -1.7101 -0.6946   \n",
       "1  602     82  17.0  18.4  17.7    5     5     7 -4.3301 -4.0000 -3.0000   \n",
       "2  603     92  15.3  17.6  19.5    2     5     4  2.9544  1.8794  0.5209   \n",
       "3  604    114  16.2  19.7  22.5    1     1     0  0.9848  0.3473 -0.1736   \n",
       "4  605     94  17.4  20.5  20.4    8     8     7 -0.5000 -2.9544 -4.3301   \n",
       "\n",
       "   maxO3v   vent pluie  \n",
       "0      84   Nord   Sec  \n",
       "1      87   Nord   Sec  \n",
       "2      82    Est   Sec  \n",
       "3      92   Nord   Sec  \n",
       "4     114  Ouest   Sec  "
      ]
     },
     "execution_count": 3,
     "metadata": {},
     "output_type": "execute_result"
    }
   ],
   "source": [
    "data.head()"
   ]
  },
  {
   "cell_type": "code",
   "execution_count": 4,
   "metadata": {},
   "outputs": [
    {
     "data": {
      "text/html": [
       "<div>\n",
       "<style scoped>\n",
       "    .dataframe tbody tr th:only-of-type {\n",
       "        vertical-align: middle;\n",
       "    }\n",
       "\n",
       "    .dataframe tbody tr th {\n",
       "        vertical-align: top;\n",
       "    }\n",
       "\n",
       "    .dataframe thead th {\n",
       "        text-align: right;\n",
       "    }\n",
       "</style>\n",
       "<table border=\"1\" class=\"dataframe\">\n",
       "  <thead>\n",
       "    <tr style=\"text-align: right;\">\n",
       "      <th></th>\n",
       "      <th>obs</th>\n",
       "      <th>maxO3</th>\n",
       "      <th>T9</th>\n",
       "      <th>T12</th>\n",
       "      <th>T15</th>\n",
       "      <th>Ne9</th>\n",
       "      <th>Ne12</th>\n",
       "      <th>Ne15</th>\n",
       "      <th>Vx9</th>\n",
       "      <th>Vx12</th>\n",
       "      <th>Vx15</th>\n",
       "      <th>maxO3v</th>\n",
       "      <th>vent</th>\n",
       "      <th>pluie</th>\n",
       "    </tr>\n",
       "  </thead>\n",
       "  <tbody>\n",
       "    <tr>\n",
       "      <th>count</th>\n",
       "      <td>112.000000</td>\n",
       "      <td>112.000000</td>\n",
       "      <td>112.000000</td>\n",
       "      <td>112.000000</td>\n",
       "      <td>112.000000</td>\n",
       "      <td>112.000000</td>\n",
       "      <td>112.000000</td>\n",
       "      <td>112.000000</td>\n",
       "      <td>112.000000</td>\n",
       "      <td>112.000000</td>\n",
       "      <td>112.000000</td>\n",
       "      <td>112.000000</td>\n",
       "      <td>112</td>\n",
       "      <td>112</td>\n",
       "    </tr>\n",
       "    <tr>\n",
       "      <th>unique</th>\n",
       "      <td>NaN</td>\n",
       "      <td>NaN</td>\n",
       "      <td>NaN</td>\n",
       "      <td>NaN</td>\n",
       "      <td>NaN</td>\n",
       "      <td>NaN</td>\n",
       "      <td>NaN</td>\n",
       "      <td>NaN</td>\n",
       "      <td>NaN</td>\n",
       "      <td>NaN</td>\n",
       "      <td>NaN</td>\n",
       "      <td>NaN</td>\n",
       "      <td>4</td>\n",
       "      <td>2</td>\n",
       "    </tr>\n",
       "    <tr>\n",
       "      <th>top</th>\n",
       "      <td>NaN</td>\n",
       "      <td>NaN</td>\n",
       "      <td>NaN</td>\n",
       "      <td>NaN</td>\n",
       "      <td>NaN</td>\n",
       "      <td>NaN</td>\n",
       "      <td>NaN</td>\n",
       "      <td>NaN</td>\n",
       "      <td>NaN</td>\n",
       "      <td>NaN</td>\n",
       "      <td>NaN</td>\n",
       "      <td>NaN</td>\n",
       "      <td>Ouest</td>\n",
       "      <td>Sec</td>\n",
       "    </tr>\n",
       "    <tr>\n",
       "      <th>freq</th>\n",
       "      <td>NaN</td>\n",
       "      <td>NaN</td>\n",
       "      <td>NaN</td>\n",
       "      <td>NaN</td>\n",
       "      <td>NaN</td>\n",
       "      <td>NaN</td>\n",
       "      <td>NaN</td>\n",
       "      <td>NaN</td>\n",
       "      <td>NaN</td>\n",
       "      <td>NaN</td>\n",
       "      <td>NaN</td>\n",
       "      <td>NaN</td>\n",
       "      <td>50</td>\n",
       "      <td>69</td>\n",
       "    </tr>\n",
       "    <tr>\n",
       "      <th>mean</th>\n",
       "      <td>763.205357</td>\n",
       "      <td>90.303571</td>\n",
       "      <td>18.360714</td>\n",
       "      <td>21.526786</td>\n",
       "      <td>22.627679</td>\n",
       "      <td>4.928571</td>\n",
       "      <td>5.017857</td>\n",
       "      <td>4.830357</td>\n",
       "      <td>-1.214346</td>\n",
       "      <td>-1.611004</td>\n",
       "      <td>-1.690683</td>\n",
       "      <td>90.571429</td>\n",
       "      <td>NaN</td>\n",
       "      <td>NaN</td>\n",
       "    </tr>\n",
       "    <tr>\n",
       "      <th>std</th>\n",
       "      <td>110.149705</td>\n",
       "      <td>28.187225</td>\n",
       "      <td>3.122726</td>\n",
       "      <td>4.042321</td>\n",
       "      <td>4.530859</td>\n",
       "      <td>2.594916</td>\n",
       "      <td>2.281860</td>\n",
       "      <td>2.332259</td>\n",
       "      <td>2.632742</td>\n",
       "      <td>2.795673</td>\n",
       "      <td>2.810198</td>\n",
       "      <td>28.276853</td>\n",
       "      <td>NaN</td>\n",
       "      <td>NaN</td>\n",
       "    </tr>\n",
       "    <tr>\n",
       "      <th>min</th>\n",
       "      <td>601.000000</td>\n",
       "      <td>42.000000</td>\n",
       "      <td>11.300000</td>\n",
       "      <td>14.000000</td>\n",
       "      <td>14.900000</td>\n",
       "      <td>0.000000</td>\n",
       "      <td>0.000000</td>\n",
       "      <td>0.000000</td>\n",
       "      <td>-7.878500</td>\n",
       "      <td>-7.878500</td>\n",
       "      <td>-9.000000</td>\n",
       "      <td>42.000000</td>\n",
       "      <td>NaN</td>\n",
       "      <td>NaN</td>\n",
       "    </tr>\n",
       "    <tr>\n",
       "      <th>25%</th>\n",
       "      <td>701.750000</td>\n",
       "      <td>70.750000</td>\n",
       "      <td>16.200000</td>\n",
       "      <td>18.600000</td>\n",
       "      <td>19.275000</td>\n",
       "      <td>3.000000</td>\n",
       "      <td>4.000000</td>\n",
       "      <td>3.000000</td>\n",
       "      <td>-3.276450</td>\n",
       "      <td>-3.564700</td>\n",
       "      <td>-3.939200</td>\n",
       "      <td>71.000000</td>\n",
       "      <td>NaN</td>\n",
       "      <td>NaN</td>\n",
       "    </tr>\n",
       "    <tr>\n",
       "      <th>50%</th>\n",
       "      <td>729.500000</td>\n",
       "      <td>81.500000</td>\n",
       "      <td>17.800000</td>\n",
       "      <td>20.550000</td>\n",
       "      <td>22.050000</td>\n",
       "      <td>6.000000</td>\n",
       "      <td>5.000000</td>\n",
       "      <td>5.000000</td>\n",
       "      <td>-0.866000</td>\n",
       "      <td>-1.879400</td>\n",
       "      <td>-1.549650</td>\n",
       "      <td>82.500000</td>\n",
       "      <td>NaN</td>\n",
       "      <td>NaN</td>\n",
       "    </tr>\n",
       "    <tr>\n",
       "      <th>75%</th>\n",
       "      <td>829.250000</td>\n",
       "      <td>106.000000</td>\n",
       "      <td>19.925000</td>\n",
       "      <td>23.550000</td>\n",
       "      <td>25.400000</td>\n",
       "      <td>7.000000</td>\n",
       "      <td>7.000000</td>\n",
       "      <td>7.000000</td>\n",
       "      <td>0.694600</td>\n",
       "      <td>0.000000</td>\n",
       "      <td>0.000000</td>\n",
       "      <td>106.000000</td>\n",
       "      <td>NaN</td>\n",
       "      <td>NaN</td>\n",
       "    </tr>\n",
       "    <tr>\n",
       "      <th>max</th>\n",
       "      <td>930.000000</td>\n",
       "      <td>166.000000</td>\n",
       "      <td>27.000000</td>\n",
       "      <td>33.500000</td>\n",
       "      <td>35.500000</td>\n",
       "      <td>8.000000</td>\n",
       "      <td>8.000000</td>\n",
       "      <td>8.000000</td>\n",
       "      <td>5.196200</td>\n",
       "      <td>6.577800</td>\n",
       "      <td>5.000000</td>\n",
       "      <td>166.000000</td>\n",
       "      <td>NaN</td>\n",
       "      <td>NaN</td>\n",
       "    </tr>\n",
       "  </tbody>\n",
       "</table>\n",
       "</div>"
      ],
      "text/plain": [
       "               obs       maxO3          T9         T12         T15  \\\n",
       "count   112.000000  112.000000  112.000000  112.000000  112.000000   \n",
       "unique         NaN         NaN         NaN         NaN         NaN   \n",
       "top            NaN         NaN         NaN         NaN         NaN   \n",
       "freq           NaN         NaN         NaN         NaN         NaN   \n",
       "mean    763.205357   90.303571   18.360714   21.526786   22.627679   \n",
       "std     110.149705   28.187225    3.122726    4.042321    4.530859   \n",
       "min     601.000000   42.000000   11.300000   14.000000   14.900000   \n",
       "25%     701.750000   70.750000   16.200000   18.600000   19.275000   \n",
       "50%     729.500000   81.500000   17.800000   20.550000   22.050000   \n",
       "75%     829.250000  106.000000   19.925000   23.550000   25.400000   \n",
       "max     930.000000  166.000000   27.000000   33.500000   35.500000   \n",
       "\n",
       "               Ne9        Ne12        Ne15         Vx9        Vx12  \\\n",
       "count   112.000000  112.000000  112.000000  112.000000  112.000000   \n",
       "unique         NaN         NaN         NaN         NaN         NaN   \n",
       "top            NaN         NaN         NaN         NaN         NaN   \n",
       "freq           NaN         NaN         NaN         NaN         NaN   \n",
       "mean      4.928571    5.017857    4.830357   -1.214346   -1.611004   \n",
       "std       2.594916    2.281860    2.332259    2.632742    2.795673   \n",
       "min       0.000000    0.000000    0.000000   -7.878500   -7.878500   \n",
       "25%       3.000000    4.000000    3.000000   -3.276450   -3.564700   \n",
       "50%       6.000000    5.000000    5.000000   -0.866000   -1.879400   \n",
       "75%       7.000000    7.000000    7.000000    0.694600    0.000000   \n",
       "max       8.000000    8.000000    8.000000    5.196200    6.577800   \n",
       "\n",
       "              Vx15      maxO3v   vent pluie  \n",
       "count   112.000000  112.000000    112   112  \n",
       "unique         NaN         NaN      4     2  \n",
       "top            NaN         NaN  Ouest   Sec  \n",
       "freq           NaN         NaN     50    69  \n",
       "mean     -1.690683   90.571429    NaN   NaN  \n",
       "std       2.810198   28.276853    NaN   NaN  \n",
       "min      -9.000000   42.000000    NaN   NaN  \n",
       "25%      -3.939200   71.000000    NaN   NaN  \n",
       "50%      -1.549650   82.500000    NaN   NaN  \n",
       "75%       0.000000  106.000000    NaN   NaN  \n",
       "max       5.000000  166.000000    NaN   NaN  "
      ]
     },
     "execution_count": 4,
     "metadata": {},
     "output_type": "execute_result"
    }
   ],
   "source": [
    "data.describe(include='all')"
   ]
  },
  {
   "cell_type": "code",
   "execution_count": 5,
   "metadata": {},
   "outputs": [
    {
     "name": "stdout",
     "output_type": "stream",
     "text": [
      "<class 'pandas.core.frame.DataFrame'>\n",
      "RangeIndex: 112 entries, 0 to 111\n",
      "Data columns (total 14 columns):\n",
      " #   Column  Non-Null Count  Dtype  \n",
      "---  ------  --------------  -----  \n",
      " 0   obs     112 non-null    int64  \n",
      " 1   maxO3   112 non-null    int64  \n",
      " 2   T9      112 non-null    float64\n",
      " 3   T12     112 non-null    float64\n",
      " 4   T15     112 non-null    float64\n",
      " 5   Ne9     112 non-null    int64  \n",
      " 6   Ne12    112 non-null    int64  \n",
      " 7   Ne15    112 non-null    int64  \n",
      " 8   Vx9     112 non-null    float64\n",
      " 9   Vx12    112 non-null    float64\n",
      " 10  Vx15    112 non-null    float64\n",
      " 11  maxO3v  112 non-null    int64  \n",
      " 12  vent    112 non-null    object \n",
      " 13  pluie   112 non-null    object \n",
      "dtypes: float64(6), int64(6), object(2)\n",
      "memory usage: 12.4+ KB\n"
     ]
    }
   ],
   "source": [
    "data.info()"
   ]
  },
  {
   "cell_type": "markdown",
   "metadata": {},
   "source": [
    "-----"
   ]
  },
  {
   "cell_type": "markdown",
   "metadata": {},
   "source": [
    "- Missing : Il ne manque pas de données.\n",
    "- Data format : il n'y en a pas \n",
    "- Other format : Les formats sont les bons\n",
    "- Duplicates : ??\n",
    "- Multiple contents : il n'y en a pas\n",
    "- Outliers : ??\n",
    "- Champs lexicales : ??"
   ]
  },
  {
   "cell_type": "markdown",
   "metadata": {},
   "source": [
    "# Explore"
   ]
  },
  {
   "cell_type": "code",
   "execution_count": 6,
   "metadata": {},
   "outputs": [],
   "source": [
    "import matplotlib.pyplot as plt"
   ]
  },
  {
   "cell_type": "code",
   "execution_count": 7,
   "metadata": {},
   "outputs": [
    {
     "data": {
      "text/plain": [
       "Text(0.5, 1.0, 'Max03 vs MaxO3veille')"
      ]
     },
     "execution_count": 7,
     "metadata": {},
     "output_type": "execute_result"
    },
    {
     "data": {
      "image/png": "[encoded data removed]",
      "text/plain": [
       "<Figure size 1080x1080 with 12 Axes>"
      ]
     },
     "metadata": {
      "needs_background": "light"
     },
     "output_type": "display_data"
    }
   ],
   "source": [
    "fig = plt.figure(figsize=(15,15))\n",
    "\n",
    "ax = fig.add_subplot(431)\n",
    "ax.scatter(data['maxO3'], data['T9'])\n",
    "ax.set_title(\"Max03 vs T9\")\n",
    "\n",
    "ax = fig.add_subplot(432)\n",
    "ax.scatter(data['maxO3'], data['T12'])\n",
    "ax.set_title(\"Max03 vs T12\")\n",
    "\n",
    "ax = fig.add_subplot(433)\n",
    "ax.scatter(data['maxO3'], data['T15'])\n",
    "ax.set_title(\"Max03 vs T15\")\n",
    "\n",
    "\n",
    "ax = fig.add_subplot(434)\n",
    "ax.scatter(data['maxO3'], data['Ne9'])\n",
    "ax.set_title(\"Max03 vs Ne9\")\n",
    "\n",
    "ax = fig.add_subplot(435)\n",
    "ax.scatter(data['maxO3'], data['Ne12'])\n",
    "ax.set_title(\"Max03 vs Ne12\")\n",
    "\n",
    "ax = fig.add_subplot(436)\n",
    "ax.scatter(data['maxO3'], data['Ne15'])\n",
    "ax.set_title(\"Max03 vs Ne15\")\n",
    "\n",
    "\n",
    "ax = fig.add_subplot(437)\n",
    "ax.scatter(data['maxO3'], data['Vx9'])\n",
    "ax.set_title(\"Max03 vs Vx9\")\n",
    "\n",
    "ax = fig.add_subplot(438)\n",
    "ax.scatter(data['maxO3'], data['Vx12'])\n",
    "ax.set_title(\"Max03 vs Vx12\")\n",
    "\n",
    "ax = fig.add_subplot(439)\n",
    "ax.scatter(data['maxO3'], data['Vx15'])\n",
    "ax.set_title(\"Max03 vs Vx15\")\n",
    "\n",
    "\n",
    "ax = fig.add_subplot(4,3,10)\n",
    "ax.scatter(data['maxO3'], data['vent'])\n",
    "ax.set_title(\"Max03 vs Vent\")\n",
    "\n",
    "ax = fig.add_subplot(4,3,11)\n",
    "ax.scatter(data['maxO3'], data['pluie'])\n",
    "ax.set_title(\"Max03 vs Pluie\")\n",
    "\n",
    "ax = fig.add_subplot(4,3,12)\n",
    "ax.scatter(data['maxO3'], data['maxO3v'])\n",
    "ax.set_title(\"Max03 vs MaxO3veille\")"
   ]
  },
  {
   "cell_type": "markdown",
   "metadata": {},
   "source": [
    "# Split dataset (train / test / no-validation)"
   ]
  },
  {
   "cell_type": "code",
   "execution_count": 192,
   "metadata": {},
   "outputs": [],
   "source": [
    "X = pd.concat([data['T12'], data['Ne12'], data['Vx12'], data['Vx15']], axis='columns')\n",
    "#X = pd.concat([data['T12']], axis='columns')\n",
    "y = data['maxO3']"
   ]
  },
  {
   "cell_type": "code",
   "execution_count": 193,
   "metadata": {},
   "outputs": [],
   "source": [
    "from sklearn.model_selection import train_test_split\n",
    "X_train, X_test, y_train, y_test = train_test_split(X, y, test_size=0.33, random_state=42)"
   ]
  },
  {
   "cell_type": "code",
   "execution_count": 194,
   "metadata": {},
   "outputs": [
    {
     "name": "stdout",
     "output_type": "stream",
     "text": [
      "(75, 4) (75,) (37, 4) (37,)\n"
     ]
    }
   ],
   "source": [
    "print(X_train.shape, y_train.shape, X_test.shape, y_test.shape)"
   ]
  },
  {
   "cell_type": "markdown",
   "metadata": {},
   "source": [
    "# Regression Lineaire (sklearn)"
   ]
  },
  {
   "cell_type": "code",
   "execution_count": 195,
   "metadata": {},
   "outputs": [],
   "source": [
    "from sklearn.linear_model import LinearRegression"
   ]
  },
  {
   "cell_type": "code",
   "execution_count": 196,
   "metadata": {},
   "outputs": [],
   "source": [
    "lr = LinearRegression().fit(X_train, y_train)"
   ]
  },
  {
   "cell_type": "markdown",
   "metadata": {},
   "source": [
    "### Check 'determinant coefficient' (coéfficient de détermination)"
   ]
  },
  {
   "cell_type": "code",
   "execution_count": 197,
   "metadata": {},
   "outputs": [
    {
     "name": "stdout",
     "output_type": "stream",
     "text": [
      "R2 score: 0.68\n"
     ]
    }
   ],
   "source": [
    "R2 = lr.score(X_train, y_train)\n",
    "print(f\"R2 score: {R2:.02F}\")"
   ]
  },
  {
   "cell_type": "markdown",
   "metadata": {},
   "source": [
    "### Predict with X_test"
   ]
  },
  {
   "cell_type": "code",
   "execution_count": 198,
   "metadata": {},
   "outputs": [],
   "source": [
    "y_pred = lr.predict(X_test)"
   ]
  },
  {
   "cell_type": "code",
   "execution_count": 199,
   "metadata": {},
   "outputs": [
    {
     "name": "stdout",
     "output_type": "stream",
     "text": [
      "Real:67 - Pred:68\n",
      "Real:60 - Pred:75\n",
      "Real:94 - Pred:73\n",
      "Real:66 - Pred:84\n",
      "Real:84 - Pred:85\n",
      "Real:111 - Pred:103\n",
      "Real:67 - Pred:98\n",
      "Real:90 - Pred:83\n",
      "Real:101 - Pred:76\n",
      "Real:69 - Pred:53\n",
      "Real:67 - Pred:81\n",
      "Real:160 - Pred:134\n",
      "Real:98 - Pred:104\n",
      "Real:69 - Pred:69\n",
      "Real:87 - Pred:80\n",
      "Real:121 - Pred:115\n",
      "Real:159 - Pred:123\n",
      "Real:100 - Pred:89\n",
      "Real:96 - Pred:93\n",
      "Real:59 - Pred:71\n",
      "Real:77 - Pred:66\n",
      "Real:72 - Pred:72\n",
      "Real:93 - Pred:73\n",
      "Real:70 - Pred:63\n",
      "Real:66 - Pred:83\n",
      "Real:54 - Pred:72\n",
      "Real:108 - Pred:94\n",
      "Real:59 - Pred:74\n",
      "Real:114 - Pred:116\n",
      "Real:131 - Pred:121\n",
      "Real:88 - Pred:80\n",
      "Real:79 - Pred:72\n",
      "Real:92 - Pred:75\n",
      "Real:106 - Pred:84\n",
      "Real:113 - Pred:63\n",
      "Real:156 - Pred:135\n",
      "Real:72 - Pred:79\n"
     ]
    }
   ],
   "source": [
    "for y1, y2 in zip(y_test, y_pred):\n",
    "    print(f\"Real:{y1} - Pred:{round(y2)}\")"
   ]
  },
  {
   "cell_type": "markdown",
   "metadata": {},
   "source": [
    "### Plot dataset and regression line"
   ]
  },
  {
   "cell_type": "code",
   "execution_count": 200,
   "metadata": {},
   "outputs": [
    {
     "data": {
      "text/plain": [
       "((37, 4), (37,))"
      ]
     },
     "execution_count": 200,
     "metadata": {},
     "output_type": "execute_result"
    }
   ],
   "source": [
    "X_test.shape, y_test.shape"
   ]
  },
  {
   "cell_type": "code",
   "execution_count": 201,
   "metadata": {},
   "outputs": [
    {
     "ename": "ValueError",
     "evalue": "x and y must be the same size",
     "output_type": "error",
     "traceback": [
      "\u001b[0;31m---------------------------------------------------------------------------\u001b[0m",
      "\u001b[0;31mValueError\u001b[0m                                Traceback (most recent call last)",
      "\u001b[0;32m<ipython-input-201-3ab5e04475e6>\u001b[0m in \u001b[0;36m<module>\u001b[0;34m\u001b[0m\n\u001b[1;32m      2\u001b[0m \u001b[0;34m\u001b[0m\u001b[0m\n\u001b[1;32m      3\u001b[0m \u001b[0max\u001b[0m \u001b[0;34m=\u001b[0m \u001b[0mfig\u001b[0m\u001b[0;34m.\u001b[0m\u001b[0madd_subplot\u001b[0m\u001b[0;34m(\u001b[0m\u001b[0;36m111\u001b[0m\u001b[0;34m)\u001b[0m\u001b[0;34m\u001b[0m\u001b[0;34m\u001b[0m\u001b[0m\n\u001b[0;32m----> 4\u001b[0;31m \u001b[0max\u001b[0m\u001b[0;34m.\u001b[0m\u001b[0mscatter\u001b[0m\u001b[0;34m(\u001b[0m\u001b[0mX_test\u001b[0m\u001b[0;34m,\u001b[0m \u001b[0my_test\u001b[0m\u001b[0;34m)\u001b[0m\u001b[0;34m\u001b[0m\u001b[0;34m\u001b[0m\u001b[0m\n\u001b[0m\u001b[1;32m      5\u001b[0m \u001b[0max\u001b[0m\u001b[0;34m.\u001b[0m\u001b[0mset_xlabel\u001b[0m\u001b[0;34m(\u001b[0m\u001b[0;34m\"T12 (°C))\"\u001b[0m\u001b[0;34m)\u001b[0m\u001b[0;34m\u001b[0m\u001b[0;34m\u001b[0m\u001b[0m\n\u001b[1;32m      6\u001b[0m \u001b[0max\u001b[0m\u001b[0;34m.\u001b[0m\u001b[0mset_ylabel\u001b[0m\u001b[0;34m(\u001b[0m\u001b[0;34m\"Max O3\"\u001b[0m\u001b[0;34m)\u001b[0m\u001b[0;34m\u001b[0m\u001b[0;34m\u001b[0m\u001b[0m\n",
      "\u001b[0;32m/usr/local/lib/python3.8/dist-packages/matplotlib/__init__.py\u001b[0m in \u001b[0;36minner\u001b[0;34m(ax, data, *args, **kwargs)\u001b[0m\n\u001b[1;32m   1359\u001b[0m     \u001b[0;32mdef\u001b[0m \u001b[0minner\u001b[0m\u001b[0;34m(\u001b[0m\u001b[0max\u001b[0m\u001b[0;34m,\u001b[0m \u001b[0;34m*\u001b[0m\u001b[0margs\u001b[0m\u001b[0;34m,\u001b[0m \u001b[0mdata\u001b[0m\u001b[0;34m=\u001b[0m\u001b[0;32mNone\u001b[0m\u001b[0;34m,\u001b[0m \u001b[0;34m**\u001b[0m\u001b[0mkwargs\u001b[0m\u001b[0;34m)\u001b[0m\u001b[0;34m:\u001b[0m\u001b[0;34m\u001b[0m\u001b[0;34m\u001b[0m\u001b[0m\n\u001b[1;32m   1360\u001b[0m         \u001b[0;32mif\u001b[0m \u001b[0mdata\u001b[0m \u001b[0;32mis\u001b[0m \u001b[0;32mNone\u001b[0m\u001b[0;34m:\u001b[0m\u001b[0;34m\u001b[0m\u001b[0;34m\u001b[0m\u001b[0m\n\u001b[0;32m-> 1361\u001b[0;31m             \u001b[0;32mreturn\u001b[0m \u001b[0mfunc\u001b[0m\u001b[0;34m(\u001b[0m\u001b[0max\u001b[0m\u001b[0;34m,\u001b[0m \u001b[0;34m*\u001b[0m\u001b[0mmap\u001b[0m\u001b[0;34m(\u001b[0m\u001b[0msanitize_sequence\u001b[0m\u001b[0;34m,\u001b[0m \u001b[0margs\u001b[0m\u001b[0;34m)\u001b[0m\u001b[0;34m,\u001b[0m \u001b[0;34m**\u001b[0m\u001b[0mkwargs\u001b[0m\u001b[0;34m)\u001b[0m\u001b[0;34m\u001b[0m\u001b[0;34m\u001b[0m\u001b[0m\n\u001b[0m\u001b[1;32m   1362\u001b[0m \u001b[0;34m\u001b[0m\u001b[0m\n\u001b[1;32m   1363\u001b[0m         \u001b[0mbound\u001b[0m \u001b[0;34m=\u001b[0m \u001b[0mnew_sig\u001b[0m\u001b[0;34m.\u001b[0m\u001b[0mbind\u001b[0m\u001b[0;34m(\u001b[0m\u001b[0max\u001b[0m\u001b[0;34m,\u001b[0m \u001b[0;34m*\u001b[0m\u001b[0margs\u001b[0m\u001b[0;34m,\u001b[0m \u001b[0;34m**\u001b[0m\u001b[0mkwargs\u001b[0m\u001b[0;34m)\u001b[0m\u001b[0;34m\u001b[0m\u001b[0;34m\u001b[0m\u001b[0m\n",
      "\u001b[0;32m/usr/local/lib/python3.8/dist-packages/matplotlib/axes/_axes.py\u001b[0m in \u001b[0;36mscatter\u001b[0;34m(self, x, y, s, c, marker, cmap, norm, vmin, vmax, alpha, linewidths, edgecolors, plotnonfinite, **kwargs)\u001b[0m\n\u001b[1;32m   4496\u001b[0m         \u001b[0my\u001b[0m \u001b[0;34m=\u001b[0m \u001b[0mnp\u001b[0m\u001b[0;34m.\u001b[0m\u001b[0mma\u001b[0m\u001b[0;34m.\u001b[0m\u001b[0mravel\u001b[0m\u001b[0;34m(\u001b[0m\u001b[0my\u001b[0m\u001b[0;34m)\u001b[0m\u001b[0;34m\u001b[0m\u001b[0;34m\u001b[0m\u001b[0m\n\u001b[1;32m   4497\u001b[0m         \u001b[0;32mif\u001b[0m \u001b[0mx\u001b[0m\u001b[0;34m.\u001b[0m\u001b[0msize\u001b[0m \u001b[0;34m!=\u001b[0m \u001b[0my\u001b[0m\u001b[0;34m.\u001b[0m\u001b[0msize\u001b[0m\u001b[0;34m:\u001b[0m\u001b[0;34m\u001b[0m\u001b[0;34m\u001b[0m\u001b[0m\n\u001b[0;32m-> 4498\u001b[0;31m             \u001b[0;32mraise\u001b[0m \u001b[0mValueError\u001b[0m\u001b[0;34m(\u001b[0m\u001b[0;34m\"x and y must be the same size\"\u001b[0m\u001b[0;34m)\u001b[0m\u001b[0;34m\u001b[0m\u001b[0;34m\u001b[0m\u001b[0m\n\u001b[0m\u001b[1;32m   4499\u001b[0m \u001b[0;34m\u001b[0m\u001b[0m\n\u001b[1;32m   4500\u001b[0m         \u001b[0;32mif\u001b[0m \u001b[0ms\u001b[0m \u001b[0;32mis\u001b[0m \u001b[0;32mNone\u001b[0m\u001b[0;34m:\u001b[0m\u001b[0;34m\u001b[0m\u001b[0;34m\u001b[0m\u001b[0m\n",
      "\u001b[0;31mValueError\u001b[0m: x and y must be the same size"
     ]
    },
    {
     "data": {
      "image/png": "[encoded data removed]",
      "text/plain": [
       "<Figure size 720x720 with 1 Axes>"
      ]
     },
     "metadata": {
      "needs_background": "light"
     },
     "output_type": "display_data"
    }
   ],
   "source": [
    "fig = plt.figure(figsize=(10,10))\n",
    "\n",
    "ax = fig.add_subplot(111)\n",
    "ax.scatter(X_test, y_test)\n",
    "ax.set_xlabel(\"T12 (°C))\")\n",
    "ax.set_ylabel(\"Max O3\")\n",
    "ax.plot(X_test, y_pred, color='blue', linewidth=3)"
   ]
  },
  {
   "cell_type": "markdown",
   "metadata": {},
   "source": [
    "# Regression Lineaire (statsmodels)"
   ]
  },
  {
   "cell_type": "code",
   "execution_count": 202,
   "metadata": {},
   "outputs": [],
   "source": [
    "import statsmodels.api as sm\n",
    "import statsmodels.formula.api as smf"
   ]
  },
  {
   "cell_type": "markdown",
   "metadata": {},
   "source": [
    "/!\\ By default, statsmodels fits a line passing through the origin, i.e. it doesn't fit an intercept.\n",
    "\n",
    "Hence, you need to use thecommand 'add_constant' so that it also fits an intercept.\n",
    "\n",
    "It's NOT needed with sm.OLS instead of smf.ols..."
   ]
  },
  {
   "cell_type": "code",
   "execution_count": 203,
   "metadata": {},
   "outputs": [
    {
     "data": {
      "text/plain": [
       "(75, 5)"
      ]
     },
     "execution_count": 203,
     "metadata": {},
     "output_type": "execute_result"
    }
   ],
   "source": [
    "# Only with sm.OLS\n",
    "X_trainc = sm.add_constant(X_train)\n",
    "X_trainc.shape"
   ]
  },
  {
   "cell_type": "code",
   "execution_count": 204,
   "metadata": {},
   "outputs": [],
   "source": [
    "# Only with smf.ols\n",
    "#sm_dataset = pd.concat([X_test, y_test], axis='columns')"
   ]
  },
  {
   "cell_type": "code",
   "execution_count": 205,
   "metadata": {},
   "outputs": [],
   "source": [
    "#lrs = smf.ols('maxO3 ~ T12', data=sm_dataset)\n",
    "lrs = sm.OLS(y_train, X_trainc)"
   ]
  },
  {
   "cell_type": "code",
   "execution_count": 206,
   "metadata": {},
   "outputs": [],
   "source": [
    "lrs_fit = lrs.fit()"
   ]
  },
  {
   "cell_type": "markdown",
   "metadata": {},
   "source": [
    "### Check regression infos"
   ]
  },
  {
   "cell_type": "code",
   "execution_count": 207,
   "metadata": {},
   "outputs": [
    {
     "data": {
      "text/html": [
       "<table class=\"simpletable\">\n",
       "<caption>OLS Regression Results</caption>\n",
       "<tr>\n",
       "  <th>Dep. Variable:</th>          <td>maxO3</td>      <th>  R-squared:         </th> <td>   0.677</td>\n",
       "</tr>\n",
       "<tr>\n",
       "  <th>Model:</th>                   <td>OLS</td>       <th>  Adj. R-squared:    </th> <td>   0.659</td>\n",
       "</tr>\n",
       "<tr>\n",
       "  <th>Method:</th>             <td>Least Squares</td>  <th>  F-statistic:       </th> <td>   36.71</td>\n",
       "</tr>\n",
       "<tr>\n",
       "  <th>Date:</th>             <td>Tue, 05 Oct 2021</td> <th>  Prob (F-statistic):</th> <td>1.61e-16</td>\n",
       "</tr>\n",
       "<tr>\n",
       "  <th>Time:</th>                 <td>22:25:16</td>     <th>  Log-Likelihood:    </th> <td> -314.65</td>\n",
       "</tr>\n",
       "<tr>\n",
       "  <th>No. Observations:</th>      <td>    75</td>      <th>  AIC:               </th> <td>   639.3</td>\n",
       "</tr>\n",
       "<tr>\n",
       "  <th>Df Residuals:</th>          <td>    70</td>      <th>  BIC:               </th> <td>   650.9</td>\n",
       "</tr>\n",
       "<tr>\n",
       "  <th>Df Model:</th>              <td>     4</td>      <th>                     </th>     <td> </td>   \n",
       "</tr>\n",
       "<tr>\n",
       "  <th>Covariance Type:</th>      <td>nonrobust</td>    <th>                     </th>     <td> </td>   \n",
       "</tr>\n",
       "</table>\n",
       "<table class=\"simpletable\">\n",
       "<tr>\n",
       "    <td></td>       <th>coef</th>     <th>std err</th>      <th>t</th>      <th>P>|t|</th>  <th>[0.025</th>    <th>0.975]</th>  \n",
       "</tr>\n",
       "<tr>\n",
       "  <th>const</th> <td>   13.0750</td> <td>   17.315</td> <td>    0.755</td> <td> 0.453</td> <td>  -21.459</td> <td>   47.609</td>\n",
       "</tr>\n",
       "<tr>\n",
       "  <th>T12</th>   <td>    4.1489</td> <td>    0.607</td> <td>    6.840</td> <td> 0.000</td> <td>    2.939</td> <td>    5.359</td>\n",
       "</tr>\n",
       "<tr>\n",
       "  <th>Ne12</th>  <td>   -2.1896</td> <td>    1.219</td> <td>   -1.796</td> <td> 0.077</td> <td>   -4.621</td> <td>    0.242</td>\n",
       "</tr>\n",
       "<tr>\n",
       "  <th>Vx12</th>  <td>    0.0155</td> <td>    1.329</td> <td>    0.012</td> <td> 0.991</td> <td>   -2.635</td> <td>    2.666</td>\n",
       "</tr>\n",
       "<tr>\n",
       "  <th>Vx15</th>  <td>    1.6660</td> <td>    1.359</td> <td>    1.226</td> <td> 0.224</td> <td>   -1.045</td> <td>    4.377</td>\n",
       "</tr>\n",
       "</table>\n",
       "<table class=\"simpletable\">\n",
       "<tr>\n",
       "  <th>Omnibus:</th>       <td> 0.980</td> <th>  Durbin-Watson:     </th> <td>   2.395</td>\n",
       "</tr>\n",
       "<tr>\n",
       "  <th>Prob(Omnibus):</th> <td> 0.613</td> <th>  Jarque-Bera (JB):  </th> <td>   0.770</td>\n",
       "</tr>\n",
       "<tr>\n",
       "  <th>Skew:</th>          <td> 0.248</td> <th>  Prob(JB):          </th> <td>   0.680</td>\n",
       "</tr>\n",
       "<tr>\n",
       "  <th>Kurtosis:</th>      <td> 2.978</td> <th>  Cond. No.          </th> <td>    204.</td>\n",
       "</tr>\n",
       "</table><br/><br/>Notes:<br/>[1] Standard Errors assume that the covariance matrix of the errors is correctly specified."
      ],
      "text/plain": [
       "<class 'statsmodels.iolib.summary.Summary'>\n",
       "\"\"\"\n",
       "                            OLS Regression Results                            \n",
       "==============================================================================\n",
       "Dep. Variable:                  maxO3   R-squared:                       0.677\n",
       "Model:                            OLS   Adj. R-squared:                  0.659\n",
       "Method:                 Least Squares   F-statistic:                     36.71\n",
       "Date:                Tue, 05 Oct 2021   Prob (F-statistic):           1.61e-16\n",
       "Time:                        22:25:16   Log-Likelihood:                -314.65\n",
       "No. Observations:                  75   AIC:                             639.3\n",
       "Df Residuals:                      70   BIC:                             650.9\n",
       "Df Model:                           4                                         \n",
       "Covariance Type:            nonrobust                                         \n",
       "==============================================================================\n",
       "                 coef    std err          t      P>|t|      [0.025      0.975]\n",
       "------------------------------------------------------------------------------\n",
       "const         13.0750     17.315      0.755      0.453     -21.459      47.609\n",
       "T12            4.1489      0.607      6.840      0.000       2.939       5.359\n",
       "Ne12          -2.1896      1.219     -1.796      0.077      -4.621       0.242\n",
       "Vx12           0.0155      1.329      0.012      0.991      -2.635       2.666\n",
       "Vx15           1.6660      1.359      1.226      0.224      -1.045       4.377\n",
       "==============================================================================\n",
       "Omnibus:                        0.980   Durbin-Watson:                   2.395\n",
       "Prob(Omnibus):                  0.613   Jarque-Bera (JB):                0.770\n",
       "Skew:                           0.248   Prob(JB):                        0.680\n",
       "Kurtosis:                       2.978   Cond. No.                         204.\n",
       "==============================================================================\n",
       "\n",
       "Notes:\n",
       "[1] Standard Errors assume that the covariance matrix of the errors is correctly specified.\n",
       "\"\"\""
      ]
     },
     "execution_count": 207,
     "metadata": {},
     "output_type": "execute_result"
    }
   ],
   "source": [
    "lrs_fit.summary()"
   ]
  },
  {
   "cell_type": "markdown",
   "metadata": {},
   "source": [
    "### Predict with X_test"
   ]
  },
  {
   "cell_type": "code",
   "execution_count": 208,
   "metadata": {},
   "outputs": [
    {
     "data": {
      "text/plain": [
       "(37, 5)"
      ]
     },
     "execution_count": 208,
     "metadata": {},
     "output_type": "execute_result"
    }
   ],
   "source": [
    "# Only with sm.OLS\n",
    "X_testc = sm.add_constant(X_test)\n",
    "X_testc.shape"
   ]
  },
  {
   "cell_type": "code",
   "execution_count": 209,
   "metadata": {},
   "outputs": [
    {
     "data": {
      "text/plain": [
       "40      68.195919\n",
       "65      74.956294\n",
       "4       73.351906\n",
       "47      84.145908\n",
       "42      84.632008\n",
       "69     102.805082\n",
       "26      97.718180\n",
       "11      82.987594\n",
       "10      76.352778\n",
       "44      53.008526\n",
       "73      81.042277\n",
       "55     134.000598\n",
       "68     103.791267\n",
       "97      69.405890\n",
       "0       79.888231\n",
       "18     114.648433\n",
       "53     122.798672\n",
       "80      89.402644\n",
       "103     93.435031\n",
       "91      70.794604\n",
       "36      66.360047\n",
       "12      71.917860\n",
       "31      73.210892\n",
       "66      63.338390\n",
       "90      83.377504\n",
       "62      71.658322\n",
       "22      93.929131\n",
       "85      74.391188\n",
       "81     115.756709\n",
       "77     121.092692\n",
       "15      79.616425\n",
       "30      71.835561\n",
       "45      74.553875\n",
       "9       84.200943\n",
       "33      63.180310\n",
       "56     135.256838\n",
       "64      78.636857\n",
       "dtype: float64"
      ]
     },
     "execution_count": 209,
     "metadata": {},
     "output_type": "execute_result"
    }
   ],
   "source": [
    "y_pred2 = lrs_fit.predict(X_testc)\n",
    "y_pred2"
   ]
  },
  {
   "cell_type": "markdown",
   "metadata": {},
   "source": [
    "### Plot dataset and regression line"
   ]
  },
  {
   "cell_type": "code",
   "execution_count": 210,
   "metadata": {},
   "outputs": [
    {
     "ename": "ValueError",
     "evalue": "x and y must be the same size",
     "output_type": "error",
     "traceback": [
      "\u001b[0;31m---------------------------------------------------------------------------\u001b[0m",
      "\u001b[0;31mValueError\u001b[0m                                Traceback (most recent call last)",
      "\u001b[0;32m<ipython-input-210-4027563ac008>\u001b[0m in \u001b[0;36m<module>\u001b[0;34m\u001b[0m\n\u001b[1;32m      2\u001b[0m \u001b[0;34m\u001b[0m\u001b[0m\n\u001b[1;32m      3\u001b[0m \u001b[0max\u001b[0m \u001b[0;34m=\u001b[0m \u001b[0mfig\u001b[0m\u001b[0;34m.\u001b[0m\u001b[0madd_subplot\u001b[0m\u001b[0;34m(\u001b[0m\u001b[0;36m111\u001b[0m\u001b[0;34m)\u001b[0m\u001b[0;34m\u001b[0m\u001b[0;34m\u001b[0m\u001b[0m\n\u001b[0;32m----> 4\u001b[0;31m \u001b[0max\u001b[0m\u001b[0;34m.\u001b[0m\u001b[0mscatter\u001b[0m\u001b[0;34m(\u001b[0m\u001b[0mX_test\u001b[0m\u001b[0;34m,\u001b[0m \u001b[0my_test\u001b[0m\u001b[0;34m)\u001b[0m\u001b[0;34m\u001b[0m\u001b[0;34m\u001b[0m\u001b[0m\n\u001b[0m\u001b[1;32m      5\u001b[0m \u001b[0max\u001b[0m\u001b[0;34m.\u001b[0m\u001b[0mset_xlabel\u001b[0m\u001b[0;34m(\u001b[0m\u001b[0;34m\"T12 (°C))\"\u001b[0m\u001b[0;34m)\u001b[0m\u001b[0;34m\u001b[0m\u001b[0;34m\u001b[0m\u001b[0m\n\u001b[1;32m      6\u001b[0m \u001b[0max\u001b[0m\u001b[0;34m.\u001b[0m\u001b[0mset_ylabel\u001b[0m\u001b[0;34m(\u001b[0m\u001b[0;34m\"Max O3\"\u001b[0m\u001b[0;34m)\u001b[0m\u001b[0;34m\u001b[0m\u001b[0;34m\u001b[0m\u001b[0m\n",
      "\u001b[0;32m/usr/local/lib/python3.8/dist-packages/matplotlib/__init__.py\u001b[0m in \u001b[0;36minner\u001b[0;34m(ax, data, *args, **kwargs)\u001b[0m\n\u001b[1;32m   1359\u001b[0m     \u001b[0;32mdef\u001b[0m \u001b[0minner\u001b[0m\u001b[0;34m(\u001b[0m\u001b[0max\u001b[0m\u001b[0;34m,\u001b[0m \u001b[0;34m*\u001b[0m\u001b[0margs\u001b[0m\u001b[0;34m,\u001b[0m \u001b[0mdata\u001b[0m\u001b[0;34m=\u001b[0m\u001b[0;32mNone\u001b[0m\u001b[0;34m,\u001b[0m \u001b[0;34m**\u001b[0m\u001b[0mkwargs\u001b[0m\u001b[0;34m)\u001b[0m\u001b[0;34m:\u001b[0m\u001b[0;34m\u001b[0m\u001b[0;34m\u001b[0m\u001b[0m\n\u001b[1;32m   1360\u001b[0m         \u001b[0;32mif\u001b[0m \u001b[0mdata\u001b[0m \u001b[0;32mis\u001b[0m \u001b[0;32mNone\u001b[0m\u001b[0;34m:\u001b[0m\u001b[0;34m\u001b[0m\u001b[0;34m\u001b[0m\u001b[0m\n\u001b[0;32m-> 1361\u001b[0;31m             \u001b[0;32mreturn\u001b[0m \u001b[0mfunc\u001b[0m\u001b[0;34m(\u001b[0m\u001b[0max\u001b[0m\u001b[0;34m,\u001b[0m \u001b[0;34m*\u001b[0m\u001b[0mmap\u001b[0m\u001b[0;34m(\u001b[0m\u001b[0msanitize_sequence\u001b[0m\u001b[0;34m,\u001b[0m \u001b[0margs\u001b[0m\u001b[0;34m)\u001b[0m\u001b[0;34m,\u001b[0m \u001b[0;34m**\u001b[0m\u001b[0mkwargs\u001b[0m\u001b[0;34m)\u001b[0m\u001b[0;34m\u001b[0m\u001b[0;34m\u001b[0m\u001b[0m\n\u001b[0m\u001b[1;32m   1362\u001b[0m \u001b[0;34m\u001b[0m\u001b[0m\n\u001b[1;32m   1363\u001b[0m         \u001b[0mbound\u001b[0m \u001b[0;34m=\u001b[0m \u001b[0mnew_sig\u001b[0m\u001b[0;34m.\u001b[0m\u001b[0mbind\u001b[0m\u001b[0;34m(\u001b[0m\u001b[0max\u001b[0m\u001b[0;34m,\u001b[0m \u001b[0;34m*\u001b[0m\u001b[0margs\u001b[0m\u001b[0;34m,\u001b[0m \u001b[0;34m**\u001b[0m\u001b[0mkwargs\u001b[0m\u001b[0;34m)\u001b[0m\u001b[0;34m\u001b[0m\u001b[0;34m\u001b[0m\u001b[0m\n",
      "\u001b[0;32m/usr/local/lib/python3.8/dist-packages/matplotlib/axes/_axes.py\u001b[0m in \u001b[0;36mscatter\u001b[0;34m(self, x, y, s, c, marker, cmap, norm, vmin, vmax, alpha, linewidths, edgecolors, plotnonfinite, **kwargs)\u001b[0m\n\u001b[1;32m   4496\u001b[0m         \u001b[0my\u001b[0m \u001b[0;34m=\u001b[0m \u001b[0mnp\u001b[0m\u001b[0;34m.\u001b[0m\u001b[0mma\u001b[0m\u001b[0;34m.\u001b[0m\u001b[0mravel\u001b[0m\u001b[0;34m(\u001b[0m\u001b[0my\u001b[0m\u001b[0;34m)\u001b[0m\u001b[0;34m\u001b[0m\u001b[0;34m\u001b[0m\u001b[0m\n\u001b[1;32m   4497\u001b[0m         \u001b[0;32mif\u001b[0m \u001b[0mx\u001b[0m\u001b[0;34m.\u001b[0m\u001b[0msize\u001b[0m \u001b[0;34m!=\u001b[0m \u001b[0my\u001b[0m\u001b[0;34m.\u001b[0m\u001b[0msize\u001b[0m\u001b[0;34m:\u001b[0m\u001b[0;34m\u001b[0m\u001b[0;34m\u001b[0m\u001b[0m\n\u001b[0;32m-> 4498\u001b[0;31m             \u001b[0;32mraise\u001b[0m \u001b[0mValueError\u001b[0m\u001b[0;34m(\u001b[0m\u001b[0;34m\"x and y must be the same size\"\u001b[0m\u001b[0;34m)\u001b[0m\u001b[0;34m\u001b[0m\u001b[0;34m\u001b[0m\u001b[0m\n\u001b[0m\u001b[1;32m   4499\u001b[0m \u001b[0;34m\u001b[0m\u001b[0m\n\u001b[1;32m   4500\u001b[0m         \u001b[0;32mif\u001b[0m \u001b[0ms\u001b[0m \u001b[0;32mis\u001b[0m \u001b[0;32mNone\u001b[0m\u001b[0;34m:\u001b[0m\u001b[0;34m\u001b[0m\u001b[0;34m\u001b[0m\u001b[0m\n",
      "\u001b[0;31mValueError\u001b[0m: x and y must be the same size"
     ]
    },
    {
     "data": {
      "image/png": "[encoded data removed]",
      "text/plain": [
       "<Figure size 720x720 with 1 Axes>"
      ]
     },
     "metadata": {
      "needs_background": "light"
     },
     "output_type": "display_data"
    }
   ],
   "source": [
    "fig = plt.figure(figsize=(10,10))\n",
    "\n",
    "ax = fig.add_subplot(111)\n",
    "ax.scatter(X_test, y_test)\n",
    "ax.set_xlabel(\"T12 (°C))\")\n",
    "ax.set_ylabel(\"Max O3\")\n",
    "ax.plot(X_test, y_pred2, color='blue', linewidth=3)"
   ]
  },
  {
   "cell_type": "markdown",
   "metadata": {},
   "source": [
    "### Représentez les résidus du modèle"
   ]
  },
  {
   "cell_type": "code",
   "execution_count": 211,
   "metadata": {},
   "outputs": [],
   "source": [
    "residu_s = lrs_fit.resid"
   ]
  },
  {
   "cell_type": "code",
   "execution_count": 212,
   "metadata": {},
   "outputs": [
    {
     "data": {
      "image/png": "[encoded data removed]",
      "text/plain": [
       "<Figure size 432x288 with 1 Axes>"
      ]
     },
     "metadata": {
      "needs_background": "light"
     },
     "output_type": "display_data"
    }
   ],
   "source": [
    "plt.hist(residu_s, density=True)\n",
    "plt.xlabel('Résidus')\n",
    "plt.title('Histogramme des résidus')\n",
    "plt.show()"
   ]
  },
  {
   "cell_type": "markdown",
   "metadata": {},
   "source": [
    "### Predict alone"
   ]
  },
  {
   "cell_type": "code",
   "execution_count": 213,
   "metadata": {},
   "outputs": [
    {
     "ename": "ValueError",
     "evalue": "shapes (1,2) and (5,) not aligned: 2 (dim 1) != 5 (dim 0)",
     "output_type": "error",
     "traceback": [
      "\u001b[0;31m---------------------------------------------------------------------------\u001b[0m",
      "\u001b[0;31mValueError\u001b[0m                                Traceback (most recent call last)",
      "\u001b[0;32m<ipython-input-213-4161981f1808>\u001b[0m in \u001b[0;36m<module>\u001b[0;34m\u001b[0m\n\u001b[1;32m      1\u001b[0m \u001b[0ma_prevoir\u001b[0m \u001b[0;34m=\u001b[0m \u001b[0mpd\u001b[0m\u001b[0;34m.\u001b[0m\u001b[0mDataFrame\u001b[0m\u001b[0;34m(\u001b[0m\u001b[0;34m{\u001b[0m\u001b[0;34m'const'\u001b[0m\u001b[0;34m:\u001b[0m\u001b[0;34m[\u001b[0m\u001b[0;36m1\u001b[0m\u001b[0;34m]\u001b[0m\u001b[0;34m,\u001b[0m\u001b[0;34m'T12'\u001b[0m\u001b[0;34m:\u001b[0m\u001b[0;34m[\u001b[0m\u001b[0;36m19\u001b[0m\u001b[0;34m]\u001b[0m\u001b[0;34m}\u001b[0m\u001b[0;34m)\u001b[0m\u001b[0;34m\u001b[0m\u001b[0;34m\u001b[0m\u001b[0m\n\u001b[0;32m----> 2\u001b[0;31m \u001b[0mmaxO3_prev\u001b[0m \u001b[0;34m=\u001b[0m \u001b[0mlrs_fit\u001b[0m\u001b[0;34m.\u001b[0m\u001b[0mpredict\u001b[0m\u001b[0;34m(\u001b[0m\u001b[0ma_prevoir\u001b[0m\u001b[0;34m)\u001b[0m\u001b[0;34m\u001b[0m\u001b[0;34m\u001b[0m\u001b[0m\n\u001b[0m\u001b[1;32m      3\u001b[0m \u001b[0mprint\u001b[0m\u001b[0;34m(\u001b[0m\u001b[0mround\u001b[0m\u001b[0;34m(\u001b[0m\u001b[0mmaxO3_prev\u001b[0m\u001b[0;34m[\u001b[0m\u001b[0;36m0\u001b[0m\u001b[0;34m]\u001b[0m\u001b[0;34m,\u001b[0m \u001b[0;36m2\u001b[0m\u001b[0;34m)\u001b[0m\u001b[0;34m)\u001b[0m\u001b[0;34m\u001b[0m\u001b[0;34m\u001b[0m\u001b[0m\n",
      "\u001b[0;32m~/.local/lib/python3.8/site-packages/statsmodels/base/model.py\u001b[0m in \u001b[0;36mpredict\u001b[0;34m(self, exog, transform, *args, **kwargs)\u001b[0m\n\u001b[1;32m   1097\u001b[0m             \u001b[0mexog\u001b[0m \u001b[0;34m=\u001b[0m \u001b[0mnp\u001b[0m\u001b[0;34m.\u001b[0m\u001b[0matleast_2d\u001b[0m\u001b[0;34m(\u001b[0m\u001b[0mexog\u001b[0m\u001b[0;34m)\u001b[0m  \u001b[0;31m# needed in count model shape[1]\u001b[0m\u001b[0;34m\u001b[0m\u001b[0;34m\u001b[0m\u001b[0m\n\u001b[1;32m   1098\u001b[0m \u001b[0;34m\u001b[0m\u001b[0m\n\u001b[0;32m-> 1099\u001b[0;31m         predict_results = self.model.predict(self.params, exog, *args,\n\u001b[0m\u001b[1;32m   1100\u001b[0m                                              **kwargs)\n\u001b[1;32m   1101\u001b[0m \u001b[0;34m\u001b[0m\u001b[0m\n",
      "\u001b[0;32m~/.local/lib/python3.8/site-packages/statsmodels/regression/linear_model.py\u001b[0m in \u001b[0;36mpredict\u001b[0;34m(self, params, exog)\u001b[0m\n\u001b[1;32m    378\u001b[0m             \u001b[0mexog\u001b[0m \u001b[0;34m=\u001b[0m \u001b[0mself\u001b[0m\u001b[0;34m.\u001b[0m\u001b[0mexog\u001b[0m\u001b[0;34m\u001b[0m\u001b[0;34m\u001b[0m\u001b[0m\n\u001b[1;32m    379\u001b[0m \u001b[0;34m\u001b[0m\u001b[0m\n\u001b[0;32m--> 380\u001b[0;31m         \u001b[0;32mreturn\u001b[0m \u001b[0mnp\u001b[0m\u001b[0;34m.\u001b[0m\u001b[0mdot\u001b[0m\u001b[0;34m(\u001b[0m\u001b[0mexog\u001b[0m\u001b[0;34m,\u001b[0m \u001b[0mparams\u001b[0m\u001b[0;34m)\u001b[0m\u001b[0;34m\u001b[0m\u001b[0;34m\u001b[0m\u001b[0m\n\u001b[0m\u001b[1;32m    381\u001b[0m \u001b[0;34m\u001b[0m\u001b[0m\n\u001b[1;32m    382\u001b[0m     \u001b[0;32mdef\u001b[0m \u001b[0mget_distribution\u001b[0m\u001b[0;34m(\u001b[0m\u001b[0mself\u001b[0m\u001b[0;34m,\u001b[0m \u001b[0mparams\u001b[0m\u001b[0;34m,\u001b[0m \u001b[0mscale\u001b[0m\u001b[0;34m,\u001b[0m \u001b[0mexog\u001b[0m\u001b[0;34m=\u001b[0m\u001b[0;32mNone\u001b[0m\u001b[0;34m,\u001b[0m \u001b[0mdist_class\u001b[0m\u001b[0;34m=\u001b[0m\u001b[0;32mNone\u001b[0m\u001b[0;34m)\u001b[0m\u001b[0;34m:\u001b[0m\u001b[0;34m\u001b[0m\u001b[0;34m\u001b[0m\u001b[0m\n",
      "\u001b[0;32m<__array_function__ internals>\u001b[0m in \u001b[0;36mdot\u001b[0;34m(*args, **kwargs)\u001b[0m\n",
      "\u001b[0;31mValueError\u001b[0m: shapes (1,2) and (5,) not aligned: 2 (dim 1) != 5 (dim 0)"
     ]
    }
   ],
   "source": [
    "a_prevoir = pd.DataFrame({'const':[1],'T12':[19]})\n",
    "maxO3_prev = lrs_fit.predict(a_prevoir)\n",
    "print(round(maxO3_prev[0], 2))"
   ]
  },
  {
   "cell_type": "markdown",
   "metadata": {},
   "source": [
    "XXX"
   ]
  },
  {
   "cell_type": "code",
   "execution_count": 214,
   "metadata": {},
   "outputs": [
    {
     "data": {
      "text/html": [
       "<table class=\"simpletable\">\n",
       "<caption>OLS Regression Results</caption>\n",
       "<tr>\n",
       "  <th>Dep. Variable:</th>          <td>maxO3</td>      <th>  R-squared:         </th> <td>   0.677</td>\n",
       "</tr>\n",
       "<tr>\n",
       "  <th>Model:</th>                   <td>OLS</td>       <th>  Adj. R-squared:    </th> <td>   0.659</td>\n",
       "</tr>\n",
       "<tr>\n",
       "  <th>Method:</th>             <td>Least Squares</td>  <th>  F-statistic:       </th> <td>   36.71</td>\n",
       "</tr>\n",
       "<tr>\n",
       "  <th>Date:</th>             <td>Tue, 05 Oct 2021</td> <th>  Prob (F-statistic):</th> <td>1.61e-16</td>\n",
       "</tr>\n",
       "<tr>\n",
       "  <th>Time:</th>                 <td>22:25:33</td>     <th>  Log-Likelihood:    </th> <td> -314.65</td>\n",
       "</tr>\n",
       "<tr>\n",
       "  <th>No. Observations:</th>      <td>    75</td>      <th>  AIC:               </th> <td>   639.3</td>\n",
       "</tr>\n",
       "<tr>\n",
       "  <th>Df Residuals:</th>          <td>    70</td>      <th>  BIC:               </th> <td>   650.9</td>\n",
       "</tr>\n",
       "<tr>\n",
       "  <th>Df Model:</th>              <td>     4</td>      <th>                     </th>     <td> </td>   \n",
       "</tr>\n",
       "<tr>\n",
       "  <th>Covariance Type:</th>      <td>nonrobust</td>    <th>                     </th>     <td> </td>   \n",
       "</tr>\n",
       "</table>\n",
       "<table class=\"simpletable\">\n",
       "<tr>\n",
       "    <td></td>       <th>coef</th>     <th>std err</th>      <th>t</th>      <th>P>|t|</th>  <th>[0.025</th>    <th>0.975]</th>  \n",
       "</tr>\n",
       "<tr>\n",
       "  <th>const</th> <td>   13.0750</td> <td>   17.315</td> <td>    0.755</td> <td> 0.453</td> <td>  -21.459</td> <td>   47.609</td>\n",
       "</tr>\n",
       "<tr>\n",
       "  <th>T12</th>   <td>    4.1489</td> <td>    0.607</td> <td>    6.840</td> <td> 0.000</td> <td>    2.939</td> <td>    5.359</td>\n",
       "</tr>\n",
       "<tr>\n",
       "  <th>Ne12</th>  <td>   -2.1896</td> <td>    1.219</td> <td>   -1.796</td> <td> 0.077</td> <td>   -4.621</td> <td>    0.242</td>\n",
       "</tr>\n",
       "<tr>\n",
       "  <th>Vx12</th>  <td>    0.0155</td> <td>    1.329</td> <td>    0.012</td> <td> 0.991</td> <td>   -2.635</td> <td>    2.666</td>\n",
       "</tr>\n",
       "<tr>\n",
       "  <th>Vx15</th>  <td>    1.6660</td> <td>    1.359</td> <td>    1.226</td> <td> 0.224</td> <td>   -1.045</td> <td>    4.377</td>\n",
       "</tr>\n",
       "</table>\n",
       "<table class=\"simpletable\">\n",
       "<tr>\n",
       "  <th>Omnibus:</th>       <td> 0.980</td> <th>  Durbin-Watson:     </th> <td>   2.395</td>\n",
       "</tr>\n",
       "<tr>\n",
       "  <th>Prob(Omnibus):</th> <td> 0.613</td> <th>  Jarque-Bera (JB):  </th> <td>   0.770</td>\n",
       "</tr>\n",
       "<tr>\n",
       "  <th>Skew:</th>          <td> 0.248</td> <th>  Prob(JB):          </th> <td>   0.680</td>\n",
       "</tr>\n",
       "<tr>\n",
       "  <th>Kurtosis:</th>      <td> 2.978</td> <th>  Cond. No.          </th> <td>    204.</td>\n",
       "</tr>\n",
       "</table><br/><br/>Notes:<br/>[1] Standard Errors assume that the covariance matrix of the errors is correctly specified."
      ],
      "text/plain": [
       "<class 'statsmodels.iolib.summary.Summary'>\n",
       "\"\"\"\n",
       "                            OLS Regression Results                            \n",
       "==============================================================================\n",
       "Dep. Variable:                  maxO3   R-squared:                       0.677\n",
       "Model:                            OLS   Adj. R-squared:                  0.659\n",
       "Method:                 Least Squares   F-statistic:                     36.71\n",
       "Date:                Tue, 05 Oct 2021   Prob (F-statistic):           1.61e-16\n",
       "Time:                        22:25:33   Log-Likelihood:                -314.65\n",
       "No. Observations:                  75   AIC:                             639.3\n",
       "Df Residuals:                      70   BIC:                             650.9\n",
       "Df Model:                           4                                         \n",
       "Covariance Type:            nonrobust                                         \n",
       "==============================================================================\n",
       "                 coef    std err          t      P>|t|      [0.025      0.975]\n",
       "------------------------------------------------------------------------------\n",
       "const         13.0750     17.315      0.755      0.453     -21.459      47.609\n",
       "T12            4.1489      0.607      6.840      0.000       2.939       5.359\n",
       "Ne12          -2.1896      1.219     -1.796      0.077      -4.621       0.242\n",
       "Vx12           0.0155      1.329      0.012      0.991      -2.635       2.666\n",
       "Vx15           1.6660      1.359      1.226      0.224      -1.045       4.377\n",
       "==============================================================================\n",
       "Omnibus:                        0.980   Durbin-Watson:                   2.395\n",
       "Prob(Omnibus):                  0.613   Jarque-Bera (JB):                0.770\n",
       "Skew:                           0.248   Prob(JB):                        0.680\n",
       "Kurtosis:                       2.978   Cond. No.                         204.\n",
       "==============================================================================\n",
       "\n",
       "Notes:\n",
       "[1] Standard Errors assume that the covariance matrix of the errors is correctly specified.\n",
       "\"\"\""
      ]
     },
     "execution_count": 214,
     "metadata": {},
     "output_type": "execute_result"
    }
   ],
   "source": [
    "lrs_fit.summary()"
   ]
  },
  {
   "cell_type": "code",
   "execution_count": 215,
   "metadata": {},
   "outputs": [],
   "source": [
    "import numpy as np"
   ]
  },
  {
   "cell_type": "code",
   "execution_count": 216,
   "metadata": {},
   "outputs": [],
   "source": [
    "y_pred3 = lrs_fit.predict(X_trainc)\n",
    "y_pred4 = lrs_fit.get_prediction(X_trainc)"
   ]
  },
  {
   "cell_type": "code",
   "execution_count": 217,
   "metadata": {},
   "outputs": [],
   "source": [
    "mean = y_train.mean()"
   ]
  },
  {
   "cell_type": "markdown",
   "metadata": {},
   "source": [
    "### SCT = SCE + SCR"
   ]
  },
  {
   "cell_type": "code",
   "execution_count": 218,
   "metadata": {},
   "outputs": [
    {
     "data": {
      "text/plain": [
       "59939.386666666665"
      ]
     },
     "execution_count": 218,
     "metadata": {},
     "output_type": "execute_result"
    }
   ],
   "source": [
    "SCT = np.sum((y_train-mean)**2)\n",
    "SCT"
   ]
  },
  {
   "cell_type": "code",
   "execution_count": 219,
   "metadata": {},
   "outputs": [
    {
     "data": {
      "text/plain": [
       "40590.66027027953"
      ]
     },
     "execution_count": 219,
     "metadata": {},
     "output_type": "execute_result"
    }
   ],
   "source": [
    "SCE = np.sum((y_pred3-mean)**2)\n",
    "SCE"
   ]
  },
  {
   "cell_type": "code",
   "execution_count": 220,
   "metadata": {},
   "outputs": [
    {
     "data": {
      "text/plain": [
       "19348.72639638717"
      ]
     },
     "execution_count": 220,
     "metadata": {},
     "output_type": "execute_result"
    }
   ],
   "source": [
    "SCR = np.sum((y_train-y_pred3)**2)\n",
    "SCR"
   ]
  },
  {
   "cell_type": "code",
   "execution_count": 221,
   "metadata": {},
   "outputs": [
    {
     "data": {
      "text/plain": [
       "59939.3866666667"
      ]
     },
     "execution_count": 221,
     "metadata": {},
     "output_type": "execute_result"
    }
   ],
   "source": [
    "SCE+SCR"
   ]
  },
  {
   "cell_type": "code",
   "execution_count": null,
   "metadata": {},
   "outputs": [],
   "source": []
  },
  {
   "cell_type": "markdown",
   "metadata": {},
   "source": [
    "# Test against 0.677 & 0.621"
   ]
  },
  {
   "cell_type": "code",
   "execution_count": null,
   "metadata": {},
   "outputs": [],
   "source": []
  },
  {
   "cell_type": "markdown",
   "metadata": {},
   "source": [
    "## $R^2 = {SCE \\over SCT}$"
   ]
  },
  {
   "cell_type": "code",
   "execution_count": 222,
   "metadata": {},
   "outputs": [
    {
     "data": {
      "text/plain": [
       "(0.6771951220657502, 0.677)"
      ]
     },
     "execution_count": 222,
     "metadata": {},
     "output_type": "execute_result"
    }
   ],
   "source": [
    "r2 = SCE/SCT\n",
    "r2, round(r2,3)"
   ]
  },
  {
   "cell_type": "markdown",
   "metadata": {},
   "source": [
    "> OK multivariate\n",
    "\n",
    "> OK univariate"
   ]
  },
  {
   "cell_type": "raw",
   "metadata": {},
   "source": [
    "y_train_var = y_train.var()\n",
    "y_train_var*len(y_train)"
   ]
  },
  {
   "cell_type": "raw",
   "metadata": {},
   "source": [
    "y_train.cov(X_trainc['T12'])/(y_train.std()*X_trainc['T12'].std())"
   ]
  },
  {
   "cell_type": "markdown",
   "metadata": {},
   "source": [
    "## $R^2 = {s_{y \\hat{y}} \\over {s_y s_{\\hat{y}}}}$"
   ]
  },
  {
   "cell_type": "code",
   "execution_count": 223,
   "metadata": {},
   "outputs": [
    {
     "data": {
      "text/plain": [
       "(0.6771951220657493, 0.677)"
      ]
     },
     "execution_count": 223,
     "metadata": {},
     "output_type": "execute_result"
    }
   ],
   "source": [
    "r2 = y_train.cov(y_pred3)**2/((y_train.std()**2) *(y_pred3.std()**2))\n",
    "r2, round(r2,3)"
   ]
  },
  {
   "cell_type": "markdown",
   "metadata": {},
   "source": [
    "> OK multivariate\n",
    "\n",
    "> OK univariate"
   ]
  },
  {
   "cell_type": "markdown",
   "metadata": {},
   "source": [
    "## $R^2 = {({\\sum_{i=1}^{m} (y_i-\\bar{y})(\\hat{y_i}-\\bar{y}))^2} \\over {\\sum_{i=1}^{m} (y_i-\\bar{y})^2} \\sum_{i=1}^{m} (\\hat{y}_i-\\bar{y})^2} = {s_{y \\hat{y}} \\over {s_y s_{\\hat{y}}}}$"
   ]
  },
  {
   "cell_type": "code",
   "execution_count": 224,
   "metadata": {},
   "outputs": [
    {
     "data": {
      "text/plain": [
       "(0.6771951220657496, 0.677)"
      ]
     },
     "execution_count": 224,
     "metadata": {},
     "output_type": "execute_result"
    }
   ],
   "source": [
    "r2 = np.sum((y_train-mean)*(y_pred3-mean))**2 / (np.sum((y_train-mean)**2) * np.sum((y_pred3-mean)**2))\n",
    "r2, round(r2, 3)"
   ]
  },
  {
   "cell_type": "markdown",
   "metadata": {},
   "source": [
    "> OK multivariate\n",
    "\n",
    "> OK univariate"
   ]
  },
  {
   "cell_type": "markdown",
   "metadata": {},
   "source": [
    "## $R^2 = s_{y\\hat{y}}^2$"
   ]
  },
  {
   "cell_type": "code",
   "execution_count": 225,
   "metadata": {},
   "outputs": [
    {
     "data": {
      "text/plain": [
       "(0.6771951220657487, 0.677)"
      ]
     },
     "execution_count": 225,
     "metadata": {},
     "output_type": "execute_result"
    }
   ],
   "source": [
    "r2 = (y_train).corr(y_pred3) ** 2\n",
    "r2, round(r2, 3)"
   ]
  },
  {
   "cell_type": "markdown",
   "metadata": {},
   "source": [
    "> OK multivariate\n",
    "\n",
    "> OK univariate"
   ]
  },
  {
   "cell_type": "markdown",
   "metadata": {},
   "source": [
    "## $R^2 = s_{x_{(1)}y}^2$"
   ]
  },
  {
   "cell_type": "code",
   "execution_count": 226,
   "metadata": {},
   "outputs": [
    {
     "data": {
      "text/plain": [
       "(0.6207902639674914, 0.621)"
      ]
     },
     "execution_count": 226,
     "metadata": {},
     "output_type": "execute_result"
    }
   ],
   "source": [
    "r2 = (y_train).corr(X_train['T12'])**2\n",
    "r2, round(r2, 3)"
   ]
  },
  {
   "cell_type": "markdown",
   "metadata": {},
   "source": [
    "> PAS OK multivariate\n",
    "\n",
    "> OK univariate"
   ]
  },
  {
   "cell_type": "markdown",
   "metadata": {},
   "source": [
    "## $R^2 = \\frac{SSR}{SSR+(m-n-1){\\hat{\\sigma}}^2} = = \\frac{SSR}{SSR+(m-1){\\hat{\\sigma}}^2}$"
   ]
  },
  {
   "cell_type": "code",
   "execution_count": 227,
   "metadata": {},
   "outputs": [
    {
     "name": "stdout",
     "output_type": "stream",
     "text": [
      "75 4.0\n"
     ]
    },
    {
     "data": {
      "text/plain": [
       "(0.6771951220657497, 0.677)"
      ]
     },
     "execution_count": 227,
     "metadata": {},
     "output_type": "execute_result"
    }
   ],
   "source": [
    "e = y_train-y_pred3\n",
    "m = y_train.shape[0]\n",
    "n = lrs.df_model\n",
    "print(m, n)\n",
    "r2 = SCE/((SCE)+((m-1)*e.var()))\n",
    "r2, round(r2, 3)"
   ]
  },
  {
   "cell_type": "markdown",
   "metadata": {},
   "source": [
    "> OK multivariate\n",
    "\n",
    "> OK univariate"
   ]
  },
  {
   "cell_type": "code",
   "execution_count": null,
   "metadata": {},
   "outputs": [],
   "source": []
  }
 ],
 "metadata": {
  "kernelspec": {
   "display_name": "Python 3",
   "language": "python",
   "name": "python3"
  },
  "language_info": {
   "codemirror_mode": {
    "name": "ipython",
    "version": 3
   },
   "file_extension": ".py",
   "mimetype": "text/x-python",
   "name": "python",
   "nbconvert_exporter": "python",
   "pygments_lexer": "ipython3",
   "version": "3.8.10"
  }
 },
 "nbformat": 4,
 "nbformat_minor": 4
}
